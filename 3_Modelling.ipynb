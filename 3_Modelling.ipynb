{
  "nbformat": 4,
  "nbformat_minor": 0,
  "metadata": {
    "colab": {
      "provenance": [],
      "gpuType": "T4",
      "include_colab_link": true
    },
    "kernelspec": {
      "name": "python3",
      "display_name": "Python 3"
    },
    "language_info": {
      "name": "python"
    },
    "accelerator": "GPU"
  },
  "cells": [
    {
      "cell_type": "markdown",
      "metadata": {
        "id": "view-in-github",
        "colab_type": "text"
      },
      "source": [
        "<a href=\"https://colab.research.google.com/github/AtreyaBandyopadhyay/NLP-with-Disaster-Tweets/blob/main/3_Modelling.ipynb\" target=\"_parent\"><img src=\"https://colab.research.google.com/assets/colab-badge.svg\" alt=\"Open In Colab\"/></a>"
      ]
    },
    {
      "cell_type": "code",
      "source": [
        "#!pip install tensorflow_text\n",
        "!pip install tf-models-official"
      ],
      "metadata": {
        "id": "xUH43gzca06h"
      },
      "execution_count": null,
      "outputs": []
    },
    {
      "cell_type": "code",
      "execution_count": 1,
      "metadata": {
        "id": "-dRpfo8zI8wa"
      },
      "outputs": [],
      "source": [
        "import pandas as pd\n",
        "import numpy as np"
      ]
    },
    {
      "cell_type": "code",
      "source": [
        "import os\n",
        "import shutil"
      ],
      "metadata": {
        "id": "XwY-NfuOay8x"
      },
      "execution_count": 2,
      "outputs": []
    },
    {
      "cell_type": "code",
      "source": [
        "import tensorflow as tf\n",
        "import tensorflow_hub as hub\n",
        "import tensorflow_text as text\n",
        "from official.nlp import optimization  # to create AdamW optimizer\n",
        "tf.get_logger().setLevel('ERROR')"
      ],
      "metadata": {
        "id": "BgLuhvnIKBPQ"
      },
      "execution_count": 29,
      "outputs": []
    },
    {
      "cell_type": "code",
      "source": [
        "import matplotlib.pyplot as plt"
      ],
      "metadata": {
        "id": "hqDGCrU57YzI"
      },
      "execution_count": 5,
      "outputs": []
    },
    {
      "cell_type": "code",
      "source": [
        "from sklearn.model_selection import train_test_split\n",
        "from sklearn.metrics import f1_score, accuracy_score"
      ],
      "metadata": {
        "id": "w2JgKcjSa425"
      },
      "execution_count": 6,
      "outputs": []
    },
    {
      "cell_type": "code",
      "source": [
        "pd.options.display.max_colwidth = 100"
      ],
      "metadata": {
        "id": "-z-c5saoUUhF"
      },
      "execution_count": 7,
      "outputs": []
    },
    {
      "cell_type": "markdown",
      "source": [
        "## 1. Dataset preparation"
      ],
      "metadata": {
        "id": "d7aeQvCBZc1f"
      }
    },
    {
      "cell_type": "markdown",
      "source": [
        "### 1.1 Loading the dataset"
      ],
      "metadata": {
        "id": "DR1z7rSWqJw3"
      }
    },
    {
      "cell_type": "code",
      "source": [
        "from google.colab import drive\n",
        "drive.mount('/content/drive')"
      ],
      "metadata": {
        "colab": {
          "base_uri": "https://localhost:8080/"
        },
        "id": "yNHHhIhuVYRk",
        "outputId": "1379badd-963a-4daf-8102-5edb5e4c8580"
      },
      "execution_count": 8,
      "outputs": [
        {
          "output_type": "stream",
          "name": "stdout",
          "text": [
            "Mounted at /content/drive\n"
          ]
        }
      ]
    },
    {
      "cell_type": "code",
      "source": [
        "dataset = pd.read_csv(\"/content/drive/MyDrive/Disaster Tweet Twitter/Dataset/cleaned_train.csv\")"
      ],
      "metadata": {
        "id": "y1__hQypZy0y"
      },
      "execution_count": 9,
      "outputs": []
    },
    {
      "cell_type": "code",
      "source": [
        "dataset.head()"
      ],
      "metadata": {
        "id": "W0QXjJU-1lrQ",
        "outputId": "1bc7af1a-f850-4133-8d53-4546aa8b61bc",
        "colab": {
          "base_uri": "https://localhost:8080/",
          "height": 275
        }
      },
      "execution_count": 10,
      "outputs": [
        {
          "output_type": "execute_result",
          "data": {
            "text/plain": [
              "   Unnamed: 0  id keyword location  \\\n",
              "0           0   1     NaN      NaN   \n",
              "1           1   4     NaN      NaN   \n",
              "2           2   5     NaN      NaN   \n",
              "3           3   6     NaN      NaN   \n",
              "4           4   7     NaN      NaN   \n",
              "\n",
              "                                                                                                  text  \\\n",
              "0                                Our Deeds are the Reason of this #earthquake May ALLAH Forgive us all   \n",
              "1                                                               Forest fire near La Ronge Sask. Canada   \n",
              "2  All residents asked to 'shelter in place' are being notified by officers. No other evacuation or...   \n",
              "3                                    13,000 people receive #wildfires evacuation orders in California    \n",
              "4             Just got sent this photo from Ruby #Alaska as smoke from #wildfires pours into a school    \n",
              "\n",
              "   target  \n",
              "0       1  \n",
              "1       1  \n",
              "2       1  \n",
              "3       1  \n",
              "4       1  "
            ],
            "text/html": [
              "\n",
              "  <div id=\"df-2709e9d2-7e04-4622-9985-bb2117f9fe83\" class=\"colab-df-container\">\n",
              "    <div>\n",
              "<style scoped>\n",
              "    .dataframe tbody tr th:only-of-type {\n",
              "        vertical-align: middle;\n",
              "    }\n",
              "\n",
              "    .dataframe tbody tr th {\n",
              "        vertical-align: top;\n",
              "    }\n",
              "\n",
              "    .dataframe thead th {\n",
              "        text-align: right;\n",
              "    }\n",
              "</style>\n",
              "<table border=\"1\" class=\"dataframe\">\n",
              "  <thead>\n",
              "    <tr style=\"text-align: right;\">\n",
              "      <th></th>\n",
              "      <th>Unnamed: 0</th>\n",
              "      <th>id</th>\n",
              "      <th>keyword</th>\n",
              "      <th>location</th>\n",
              "      <th>text</th>\n",
              "      <th>target</th>\n",
              "    </tr>\n",
              "  </thead>\n",
              "  <tbody>\n",
              "    <tr>\n",
              "      <th>0</th>\n",
              "      <td>0</td>\n",
              "      <td>1</td>\n",
              "      <td>NaN</td>\n",
              "      <td>NaN</td>\n",
              "      <td>Our Deeds are the Reason of this #earthquake May ALLAH Forgive us all</td>\n",
              "      <td>1</td>\n",
              "    </tr>\n",
              "    <tr>\n",
              "      <th>1</th>\n",
              "      <td>1</td>\n",
              "      <td>4</td>\n",
              "      <td>NaN</td>\n",
              "      <td>NaN</td>\n",
              "      <td>Forest fire near La Ronge Sask. Canada</td>\n",
              "      <td>1</td>\n",
              "    </tr>\n",
              "    <tr>\n",
              "      <th>2</th>\n",
              "      <td>2</td>\n",
              "      <td>5</td>\n",
              "      <td>NaN</td>\n",
              "      <td>NaN</td>\n",
              "      <td>All residents asked to 'shelter in place' are being notified by officers. No other evacuation or...</td>\n",
              "      <td>1</td>\n",
              "    </tr>\n",
              "    <tr>\n",
              "      <th>3</th>\n",
              "      <td>3</td>\n",
              "      <td>6</td>\n",
              "      <td>NaN</td>\n",
              "      <td>NaN</td>\n",
              "      <td>13,000 people receive #wildfires evacuation orders in California</td>\n",
              "      <td>1</td>\n",
              "    </tr>\n",
              "    <tr>\n",
              "      <th>4</th>\n",
              "      <td>4</td>\n",
              "      <td>7</td>\n",
              "      <td>NaN</td>\n",
              "      <td>NaN</td>\n",
              "      <td>Just got sent this photo from Ruby #Alaska as smoke from #wildfires pours into a school</td>\n",
              "      <td>1</td>\n",
              "    </tr>\n",
              "  </tbody>\n",
              "</table>\n",
              "</div>\n",
              "    <div class=\"colab-df-buttons\">\n",
              "\n",
              "  <div class=\"colab-df-container\">\n",
              "    <button class=\"colab-df-convert\" onclick=\"convertToInteractive('df-2709e9d2-7e04-4622-9985-bb2117f9fe83')\"\n",
              "            title=\"Convert this dataframe to an interactive table.\"\n",
              "            style=\"display:none;\">\n",
              "\n",
              "  <svg xmlns=\"http://www.w3.org/2000/svg\" height=\"24px\" viewBox=\"0 -960 960 960\">\n",
              "    <path d=\"M120-120v-720h720v720H120Zm60-500h600v-160H180v160Zm220 220h160v-160H400v160Zm0 220h160v-160H400v160ZM180-400h160v-160H180v160Zm440 0h160v-160H620v160ZM180-180h160v-160H180v160Zm440 0h160v-160H620v160Z\"/>\n",
              "  </svg>\n",
              "    </button>\n",
              "\n",
              "  <style>\n",
              "    .colab-df-container {\n",
              "      display:flex;\n",
              "      gap: 12px;\n",
              "    }\n",
              "\n",
              "    .colab-df-convert {\n",
              "      background-color: #E8F0FE;\n",
              "      border: none;\n",
              "      border-radius: 50%;\n",
              "      cursor: pointer;\n",
              "      display: none;\n",
              "      fill: #1967D2;\n",
              "      height: 32px;\n",
              "      padding: 0 0 0 0;\n",
              "      width: 32px;\n",
              "    }\n",
              "\n",
              "    .colab-df-convert:hover {\n",
              "      background-color: #E2EBFA;\n",
              "      box-shadow: 0px 1px 2px rgba(60, 64, 67, 0.3), 0px 1px 3px 1px rgba(60, 64, 67, 0.15);\n",
              "      fill: #174EA6;\n",
              "    }\n",
              "\n",
              "    .colab-df-buttons div {\n",
              "      margin-bottom: 4px;\n",
              "    }\n",
              "\n",
              "    [theme=dark] .colab-df-convert {\n",
              "      background-color: #3B4455;\n",
              "      fill: #D2E3FC;\n",
              "    }\n",
              "\n",
              "    [theme=dark] .colab-df-convert:hover {\n",
              "      background-color: #434B5C;\n",
              "      box-shadow: 0px 1px 3px 1px rgba(0, 0, 0, 0.15);\n",
              "      filter: drop-shadow(0px 1px 2px rgba(0, 0, 0, 0.3));\n",
              "      fill: #FFFFFF;\n",
              "    }\n",
              "  </style>\n",
              "\n",
              "    <script>\n",
              "      const buttonEl =\n",
              "        document.querySelector('#df-2709e9d2-7e04-4622-9985-bb2117f9fe83 button.colab-df-convert');\n",
              "      buttonEl.style.display =\n",
              "        google.colab.kernel.accessAllowed ? 'block' : 'none';\n",
              "\n",
              "      async function convertToInteractive(key) {\n",
              "        const element = document.querySelector('#df-2709e9d2-7e04-4622-9985-bb2117f9fe83');\n",
              "        const dataTable =\n",
              "          await google.colab.kernel.invokeFunction('convertToInteractive',\n",
              "                                                    [key], {});\n",
              "        if (!dataTable) return;\n",
              "\n",
              "        const docLinkHtml = 'Like what you see? Visit the ' +\n",
              "          '<a target=\"_blank\" href=https://colab.research.google.com/notebooks/data_table.ipynb>data table notebook</a>'\n",
              "          + ' to learn more about interactive tables.';\n",
              "        element.innerHTML = '';\n",
              "        dataTable['output_type'] = 'display_data';\n",
              "        await google.colab.output.renderOutput(dataTable, element);\n",
              "        const docLink = document.createElement('div');\n",
              "        docLink.innerHTML = docLinkHtml;\n",
              "        element.appendChild(docLink);\n",
              "      }\n",
              "    </script>\n",
              "  </div>\n",
              "\n",
              "\n",
              "<div id=\"df-2270ca3c-80ae-4575-a2de-abd466fa4ed2\">\n",
              "  <button class=\"colab-df-quickchart\" onclick=\"quickchart('df-2270ca3c-80ae-4575-a2de-abd466fa4ed2')\"\n",
              "            title=\"Suggest charts\"\n",
              "            style=\"display:none;\">\n",
              "\n",
              "<svg xmlns=\"http://www.w3.org/2000/svg\" height=\"24px\"viewBox=\"0 0 24 24\"\n",
              "     width=\"24px\">\n",
              "    <g>\n",
              "        <path d=\"M19 3H5c-1.1 0-2 .9-2 2v14c0 1.1.9 2 2 2h14c1.1 0 2-.9 2-2V5c0-1.1-.9-2-2-2zM9 17H7v-7h2v7zm4 0h-2V7h2v10zm4 0h-2v-4h2v4z\"/>\n",
              "    </g>\n",
              "</svg>\n",
              "  </button>\n",
              "\n",
              "<style>\n",
              "  .colab-df-quickchart {\n",
              "      --bg-color: #E8F0FE;\n",
              "      --fill-color: #1967D2;\n",
              "      --hover-bg-color: #E2EBFA;\n",
              "      --hover-fill-color: #174EA6;\n",
              "      --disabled-fill-color: #AAA;\n",
              "      --disabled-bg-color: #DDD;\n",
              "  }\n",
              "\n",
              "  [theme=dark] .colab-df-quickchart {\n",
              "      --bg-color: #3B4455;\n",
              "      --fill-color: #D2E3FC;\n",
              "      --hover-bg-color: #434B5C;\n",
              "      --hover-fill-color: #FFFFFF;\n",
              "      --disabled-bg-color: #3B4455;\n",
              "      --disabled-fill-color: #666;\n",
              "  }\n",
              "\n",
              "  .colab-df-quickchart {\n",
              "    background-color: var(--bg-color);\n",
              "    border: none;\n",
              "    border-radius: 50%;\n",
              "    cursor: pointer;\n",
              "    display: none;\n",
              "    fill: var(--fill-color);\n",
              "    height: 32px;\n",
              "    padding: 0;\n",
              "    width: 32px;\n",
              "  }\n",
              "\n",
              "  .colab-df-quickchart:hover {\n",
              "    background-color: var(--hover-bg-color);\n",
              "    box-shadow: 0 1px 2px rgba(60, 64, 67, 0.3), 0 1px 3px 1px rgba(60, 64, 67, 0.15);\n",
              "    fill: var(--button-hover-fill-color);\n",
              "  }\n",
              "\n",
              "  .colab-df-quickchart-complete:disabled,\n",
              "  .colab-df-quickchart-complete:disabled:hover {\n",
              "    background-color: var(--disabled-bg-color);\n",
              "    fill: var(--disabled-fill-color);\n",
              "    box-shadow: none;\n",
              "  }\n",
              "\n",
              "  .colab-df-spinner {\n",
              "    border: 2px solid var(--fill-color);\n",
              "    border-color: transparent;\n",
              "    border-bottom-color: var(--fill-color);\n",
              "    animation:\n",
              "      spin 1s steps(1) infinite;\n",
              "  }\n",
              "\n",
              "  @keyframes spin {\n",
              "    0% {\n",
              "      border-color: transparent;\n",
              "      border-bottom-color: var(--fill-color);\n",
              "      border-left-color: var(--fill-color);\n",
              "    }\n",
              "    20% {\n",
              "      border-color: transparent;\n",
              "      border-left-color: var(--fill-color);\n",
              "      border-top-color: var(--fill-color);\n",
              "    }\n",
              "    30% {\n",
              "      border-color: transparent;\n",
              "      border-left-color: var(--fill-color);\n",
              "      border-top-color: var(--fill-color);\n",
              "      border-right-color: var(--fill-color);\n",
              "    }\n",
              "    40% {\n",
              "      border-color: transparent;\n",
              "      border-right-color: var(--fill-color);\n",
              "      border-top-color: var(--fill-color);\n",
              "    }\n",
              "    60% {\n",
              "      border-color: transparent;\n",
              "      border-right-color: var(--fill-color);\n",
              "    }\n",
              "    80% {\n",
              "      border-color: transparent;\n",
              "      border-right-color: var(--fill-color);\n",
              "      border-bottom-color: var(--fill-color);\n",
              "    }\n",
              "    90% {\n",
              "      border-color: transparent;\n",
              "      border-bottom-color: var(--fill-color);\n",
              "    }\n",
              "  }\n",
              "</style>\n",
              "\n",
              "  <script>\n",
              "    async function quickchart(key) {\n",
              "      const quickchartButtonEl =\n",
              "        document.querySelector('#' + key + ' button');\n",
              "      quickchartButtonEl.disabled = true;  // To prevent multiple clicks.\n",
              "      quickchartButtonEl.classList.add('colab-df-spinner');\n",
              "      try {\n",
              "        const charts = await google.colab.kernel.invokeFunction(\n",
              "            'suggestCharts', [key], {});\n",
              "      } catch (error) {\n",
              "        console.error('Error during call to suggestCharts:', error);\n",
              "      }\n",
              "      quickchartButtonEl.classList.remove('colab-df-spinner');\n",
              "      quickchartButtonEl.classList.add('colab-df-quickchart-complete');\n",
              "    }\n",
              "    (() => {\n",
              "      let quickchartButtonEl =\n",
              "        document.querySelector('#df-2270ca3c-80ae-4575-a2de-abd466fa4ed2 button');\n",
              "      quickchartButtonEl.style.display =\n",
              "        google.colab.kernel.accessAllowed ? 'block' : 'none';\n",
              "    })();\n",
              "  </script>\n",
              "</div>\n",
              "\n",
              "    </div>\n",
              "  </div>\n"
            ]
          },
          "metadata": {},
          "execution_count": 10
        }
      ]
    },
    {
      "cell_type": "markdown",
      "source": [
        "### 1.2 Adding Features to text"
      ],
      "metadata": {
        "id": "dlQXd55nKZFY"
      }
    },
    {
      "cell_type": "code",
      "source": [
        "dataset[\"keyword\"].fillna(\" \",inplace=True)"
      ],
      "metadata": {
        "id": "hO6cEVVw8mYD"
      },
      "execution_count": 11,
      "outputs": []
    },
    {
      "cell_type": "code",
      "source": [
        "dataset[\"text_with_features\"]=\"\"\n",
        "\n",
        "for i in range(len(dataset)):\n",
        "  text_with_features=dataset.loc[i,\"text\"]\n",
        "  lastcharacter=dataset.loc[i,\"text\"]\n",
        "  if isinstance(lastcharacter, str)==False:\n",
        "    lastcharacter=str(lastcharacter)\n",
        "\n",
        "  if isinstance(text_with_features, str)==False:\n",
        "    text_with_features=str(text_with_features)\n",
        "\n",
        "\n",
        "  #hashtags=dataset.loc[i,\"hashtag\"].replace(\"[\",\"\").replace(\"]\",\"\").replace(\"'\",\"\")\n",
        "  if lastcharacter[-1]==\".\":\n",
        "    text_with_features=text_with_features+dataset.loc[i,\"keyword\"]#+\".\"+hashtags\n",
        "  else:\n",
        "    text_with_features=text_with_features+\".\"+dataset.loc[i,\"keyword\"]#+\".\"+hashtags\n",
        "\n",
        "  dataset.loc[i,\"text_with_features\"]=text_with_features\n",
        "\n",
        "\n"
      ],
      "metadata": {
        "id": "rDQu0Hct8tb7"
      },
      "execution_count": 12,
      "outputs": []
    },
    {
      "cell_type": "code",
      "source": [
        "dataset.head()"
      ],
      "metadata": {
        "colab": {
          "base_uri": "https://localhost:8080/",
          "height": 397
        },
        "id": "cgWCDM4RHpkQ",
        "outputId": "a20e39fb-d64e-4a4c-dfb7-319a47486d74"
      },
      "execution_count": 13,
      "outputs": [
        {
          "output_type": "execute_result",
          "data": {
            "text/plain": [
              "   Unnamed: 0  id keyword location  \\\n",
              "0           0   1              NaN   \n",
              "1           1   4              NaN   \n",
              "2           2   5              NaN   \n",
              "3           3   6              NaN   \n",
              "4           4   7              NaN   \n",
              "\n",
              "                                                                                                  text  \\\n",
              "0                                Our Deeds are the Reason of this #earthquake May ALLAH Forgive us all   \n",
              "1                                                               Forest fire near La Ronge Sask. Canada   \n",
              "2  All residents asked to 'shelter in place' are being notified by officers. No other evacuation or...   \n",
              "3                                    13,000 people receive #wildfires evacuation orders in California    \n",
              "4             Just got sent this photo from Ruby #Alaska as smoke from #wildfires pours into a school    \n",
              "\n",
              "   target  \\\n",
              "0       1   \n",
              "1       1   \n",
              "2       1   \n",
              "3       1   \n",
              "4       1   \n",
              "\n",
              "                                                                                    text_with_features  \n",
              "0                              Our Deeds are the Reason of this #earthquake May ALLAH Forgive us all.   \n",
              "1                                                             Forest fire near La Ronge Sask. Canada.   \n",
              "2  All residents asked to 'shelter in place' are being notified by officers. No other evacuation or...  \n",
              "3                                  13,000 people receive #wildfires evacuation orders in California .   \n",
              "4           Just got sent this photo from Ruby #Alaska as smoke from #wildfires pours into a school .   "
            ],
            "text/html": [
              "\n",
              "  <div id=\"df-31c4630e-72dd-4e73-b166-aa003a60dd59\" class=\"colab-df-container\">\n",
              "    <div>\n",
              "<style scoped>\n",
              "    .dataframe tbody tr th:only-of-type {\n",
              "        vertical-align: middle;\n",
              "    }\n",
              "\n",
              "    .dataframe tbody tr th {\n",
              "        vertical-align: top;\n",
              "    }\n",
              "\n",
              "    .dataframe thead th {\n",
              "        text-align: right;\n",
              "    }\n",
              "</style>\n",
              "<table border=\"1\" class=\"dataframe\">\n",
              "  <thead>\n",
              "    <tr style=\"text-align: right;\">\n",
              "      <th></th>\n",
              "      <th>Unnamed: 0</th>\n",
              "      <th>id</th>\n",
              "      <th>keyword</th>\n",
              "      <th>location</th>\n",
              "      <th>text</th>\n",
              "      <th>target</th>\n",
              "      <th>text_with_features</th>\n",
              "    </tr>\n",
              "  </thead>\n",
              "  <tbody>\n",
              "    <tr>\n",
              "      <th>0</th>\n",
              "      <td>0</td>\n",
              "      <td>1</td>\n",
              "      <td></td>\n",
              "      <td>NaN</td>\n",
              "      <td>Our Deeds are the Reason of this #earthquake May ALLAH Forgive us all</td>\n",
              "      <td>1</td>\n",
              "      <td>Our Deeds are the Reason of this #earthquake May ALLAH Forgive us all.</td>\n",
              "    </tr>\n",
              "    <tr>\n",
              "      <th>1</th>\n",
              "      <td>1</td>\n",
              "      <td>4</td>\n",
              "      <td></td>\n",
              "      <td>NaN</td>\n",
              "      <td>Forest fire near La Ronge Sask. Canada</td>\n",
              "      <td>1</td>\n",
              "      <td>Forest fire near La Ronge Sask. Canada.</td>\n",
              "    </tr>\n",
              "    <tr>\n",
              "      <th>2</th>\n",
              "      <td>2</td>\n",
              "      <td>5</td>\n",
              "      <td></td>\n",
              "      <td>NaN</td>\n",
              "      <td>All residents asked to 'shelter in place' are being notified by officers. No other evacuation or...</td>\n",
              "      <td>1</td>\n",
              "      <td>All residents asked to 'shelter in place' are being notified by officers. No other evacuation or...</td>\n",
              "    </tr>\n",
              "    <tr>\n",
              "      <th>3</th>\n",
              "      <td>3</td>\n",
              "      <td>6</td>\n",
              "      <td></td>\n",
              "      <td>NaN</td>\n",
              "      <td>13,000 people receive #wildfires evacuation orders in California</td>\n",
              "      <td>1</td>\n",
              "      <td>13,000 people receive #wildfires evacuation orders in California .</td>\n",
              "    </tr>\n",
              "    <tr>\n",
              "      <th>4</th>\n",
              "      <td>4</td>\n",
              "      <td>7</td>\n",
              "      <td></td>\n",
              "      <td>NaN</td>\n",
              "      <td>Just got sent this photo from Ruby #Alaska as smoke from #wildfires pours into a school</td>\n",
              "      <td>1</td>\n",
              "      <td>Just got sent this photo from Ruby #Alaska as smoke from #wildfires pours into a school .</td>\n",
              "    </tr>\n",
              "  </tbody>\n",
              "</table>\n",
              "</div>\n",
              "    <div class=\"colab-df-buttons\">\n",
              "\n",
              "  <div class=\"colab-df-container\">\n",
              "    <button class=\"colab-df-convert\" onclick=\"convertToInteractive('df-31c4630e-72dd-4e73-b166-aa003a60dd59')\"\n",
              "            title=\"Convert this dataframe to an interactive table.\"\n",
              "            style=\"display:none;\">\n",
              "\n",
              "  <svg xmlns=\"http://www.w3.org/2000/svg\" height=\"24px\" viewBox=\"0 -960 960 960\">\n",
              "    <path d=\"M120-120v-720h720v720H120Zm60-500h600v-160H180v160Zm220 220h160v-160H400v160Zm0 220h160v-160H400v160ZM180-400h160v-160H180v160Zm440 0h160v-160H620v160ZM180-180h160v-160H180v160Zm440 0h160v-160H620v160Z\"/>\n",
              "  </svg>\n",
              "    </button>\n",
              "\n",
              "  <style>\n",
              "    .colab-df-container {\n",
              "      display:flex;\n",
              "      gap: 12px;\n",
              "    }\n",
              "\n",
              "    .colab-df-convert {\n",
              "      background-color: #E8F0FE;\n",
              "      border: none;\n",
              "      border-radius: 50%;\n",
              "      cursor: pointer;\n",
              "      display: none;\n",
              "      fill: #1967D2;\n",
              "      height: 32px;\n",
              "      padding: 0 0 0 0;\n",
              "      width: 32px;\n",
              "    }\n",
              "\n",
              "    .colab-df-convert:hover {\n",
              "      background-color: #E2EBFA;\n",
              "      box-shadow: 0px 1px 2px rgba(60, 64, 67, 0.3), 0px 1px 3px 1px rgba(60, 64, 67, 0.15);\n",
              "      fill: #174EA6;\n",
              "    }\n",
              "\n",
              "    .colab-df-buttons div {\n",
              "      margin-bottom: 4px;\n",
              "    }\n",
              "\n",
              "    [theme=dark] .colab-df-convert {\n",
              "      background-color: #3B4455;\n",
              "      fill: #D2E3FC;\n",
              "    }\n",
              "\n",
              "    [theme=dark] .colab-df-convert:hover {\n",
              "      background-color: #434B5C;\n",
              "      box-shadow: 0px 1px 3px 1px rgba(0, 0, 0, 0.15);\n",
              "      filter: drop-shadow(0px 1px 2px rgba(0, 0, 0, 0.3));\n",
              "      fill: #FFFFFF;\n",
              "    }\n",
              "  </style>\n",
              "\n",
              "    <script>\n",
              "      const buttonEl =\n",
              "        document.querySelector('#df-31c4630e-72dd-4e73-b166-aa003a60dd59 button.colab-df-convert');\n",
              "      buttonEl.style.display =\n",
              "        google.colab.kernel.accessAllowed ? 'block' : 'none';\n",
              "\n",
              "      async function convertToInteractive(key) {\n",
              "        const element = document.querySelector('#df-31c4630e-72dd-4e73-b166-aa003a60dd59');\n",
              "        const dataTable =\n",
              "          await google.colab.kernel.invokeFunction('convertToInteractive',\n",
              "                                                    [key], {});\n",
              "        if (!dataTable) return;\n",
              "\n",
              "        const docLinkHtml = 'Like what you see? Visit the ' +\n",
              "          '<a target=\"_blank\" href=https://colab.research.google.com/notebooks/data_table.ipynb>data table notebook</a>'\n",
              "          + ' to learn more about interactive tables.';\n",
              "        element.innerHTML = '';\n",
              "        dataTable['output_type'] = 'display_data';\n",
              "        await google.colab.output.renderOutput(dataTable, element);\n",
              "        const docLink = document.createElement('div');\n",
              "        docLink.innerHTML = docLinkHtml;\n",
              "        element.appendChild(docLink);\n",
              "      }\n",
              "    </script>\n",
              "  </div>\n",
              "\n",
              "\n",
              "<div id=\"df-3be74370-f59f-45f8-b989-2c657780cb83\">\n",
              "  <button class=\"colab-df-quickchart\" onclick=\"quickchart('df-3be74370-f59f-45f8-b989-2c657780cb83')\"\n",
              "            title=\"Suggest charts\"\n",
              "            style=\"display:none;\">\n",
              "\n",
              "<svg xmlns=\"http://www.w3.org/2000/svg\" height=\"24px\"viewBox=\"0 0 24 24\"\n",
              "     width=\"24px\">\n",
              "    <g>\n",
              "        <path d=\"M19 3H5c-1.1 0-2 .9-2 2v14c0 1.1.9 2 2 2h14c1.1 0 2-.9 2-2V5c0-1.1-.9-2-2-2zM9 17H7v-7h2v7zm4 0h-2V7h2v10zm4 0h-2v-4h2v4z\"/>\n",
              "    </g>\n",
              "</svg>\n",
              "  </button>\n",
              "\n",
              "<style>\n",
              "  .colab-df-quickchart {\n",
              "      --bg-color: #E8F0FE;\n",
              "      --fill-color: #1967D2;\n",
              "      --hover-bg-color: #E2EBFA;\n",
              "      --hover-fill-color: #174EA6;\n",
              "      --disabled-fill-color: #AAA;\n",
              "      --disabled-bg-color: #DDD;\n",
              "  }\n",
              "\n",
              "  [theme=dark] .colab-df-quickchart {\n",
              "      --bg-color: #3B4455;\n",
              "      --fill-color: #D2E3FC;\n",
              "      --hover-bg-color: #434B5C;\n",
              "      --hover-fill-color: #FFFFFF;\n",
              "      --disabled-bg-color: #3B4455;\n",
              "      --disabled-fill-color: #666;\n",
              "  }\n",
              "\n",
              "  .colab-df-quickchart {\n",
              "    background-color: var(--bg-color);\n",
              "    border: none;\n",
              "    border-radius: 50%;\n",
              "    cursor: pointer;\n",
              "    display: none;\n",
              "    fill: var(--fill-color);\n",
              "    height: 32px;\n",
              "    padding: 0;\n",
              "    width: 32px;\n",
              "  }\n",
              "\n",
              "  .colab-df-quickchart:hover {\n",
              "    background-color: var(--hover-bg-color);\n",
              "    box-shadow: 0 1px 2px rgba(60, 64, 67, 0.3), 0 1px 3px 1px rgba(60, 64, 67, 0.15);\n",
              "    fill: var(--button-hover-fill-color);\n",
              "  }\n",
              "\n",
              "  .colab-df-quickchart-complete:disabled,\n",
              "  .colab-df-quickchart-complete:disabled:hover {\n",
              "    background-color: var(--disabled-bg-color);\n",
              "    fill: var(--disabled-fill-color);\n",
              "    box-shadow: none;\n",
              "  }\n",
              "\n",
              "  .colab-df-spinner {\n",
              "    border: 2px solid var(--fill-color);\n",
              "    border-color: transparent;\n",
              "    border-bottom-color: var(--fill-color);\n",
              "    animation:\n",
              "      spin 1s steps(1) infinite;\n",
              "  }\n",
              "\n",
              "  @keyframes spin {\n",
              "    0% {\n",
              "      border-color: transparent;\n",
              "      border-bottom-color: var(--fill-color);\n",
              "      border-left-color: var(--fill-color);\n",
              "    }\n",
              "    20% {\n",
              "      border-color: transparent;\n",
              "      border-left-color: var(--fill-color);\n",
              "      border-top-color: var(--fill-color);\n",
              "    }\n",
              "    30% {\n",
              "      border-color: transparent;\n",
              "      border-left-color: var(--fill-color);\n",
              "      border-top-color: var(--fill-color);\n",
              "      border-right-color: var(--fill-color);\n",
              "    }\n",
              "    40% {\n",
              "      border-color: transparent;\n",
              "      border-right-color: var(--fill-color);\n",
              "      border-top-color: var(--fill-color);\n",
              "    }\n",
              "    60% {\n",
              "      border-color: transparent;\n",
              "      border-right-color: var(--fill-color);\n",
              "    }\n",
              "    80% {\n",
              "      border-color: transparent;\n",
              "      border-right-color: var(--fill-color);\n",
              "      border-bottom-color: var(--fill-color);\n",
              "    }\n",
              "    90% {\n",
              "      border-color: transparent;\n",
              "      border-bottom-color: var(--fill-color);\n",
              "    }\n",
              "  }\n",
              "</style>\n",
              "\n",
              "  <script>\n",
              "    async function quickchart(key) {\n",
              "      const quickchartButtonEl =\n",
              "        document.querySelector('#' + key + ' button');\n",
              "      quickchartButtonEl.disabled = true;  // To prevent multiple clicks.\n",
              "      quickchartButtonEl.classList.add('colab-df-spinner');\n",
              "      try {\n",
              "        const charts = await google.colab.kernel.invokeFunction(\n",
              "            'suggestCharts', [key], {});\n",
              "      } catch (error) {\n",
              "        console.error('Error during call to suggestCharts:', error);\n",
              "      }\n",
              "      quickchartButtonEl.classList.remove('colab-df-spinner');\n",
              "      quickchartButtonEl.classList.add('colab-df-quickchart-complete');\n",
              "    }\n",
              "    (() => {\n",
              "      let quickchartButtonEl =\n",
              "        document.querySelector('#df-3be74370-f59f-45f8-b989-2c657780cb83 button');\n",
              "      quickchartButtonEl.style.display =\n",
              "        google.colab.kernel.accessAllowed ? 'block' : 'none';\n",
              "    })();\n",
              "  </script>\n",
              "</div>\n",
              "\n",
              "    </div>\n",
              "  </div>\n"
            ]
          },
          "metadata": {},
          "execution_count": 13
        }
      ]
    },
    {
      "cell_type": "markdown",
      "source": [
        "### 1.3 Train Validation Test Split"
      ],
      "metadata": {
        "id": "MAOgCD2AqPPo"
      }
    },
    {
      "cell_type": "code",
      "source": [
        "X = dataset[\"text_with_features\"]\n",
        "y = dataset[\"target\"]"
      ],
      "metadata": {
        "id": "umIKzL4XLII_"
      },
      "execution_count": 14,
      "outputs": []
    },
    {
      "cell_type": "code",
      "source": [
        "X_train,X_test,y_train,y_test=train_test_split(X,y,test_size=0.10, random_state=42)"
      ],
      "metadata": {
        "id": "3R4U50e3u835"
      },
      "execution_count": 15,
      "outputs": []
    },
    {
      "cell_type": "code",
      "source": [
        "X_train,X_valid,y_train,y_valid=train_test_split(X_train,y_train,test_size=0.10, random_state=42)"
      ],
      "metadata": {
        "id": "Qqggmw5jvacp"
      },
      "execution_count": 16,
      "outputs": []
    },
    {
      "cell_type": "code",
      "source": [
        "X_train = [sentence for sentence in X_train]\n",
        "X_valid = [sentence for sentence in X_valid]"
      ],
      "metadata": {
        "id": "LA4FSCxh7ap9"
      },
      "execution_count": 17,
      "outputs": []
    },
    {
      "cell_type": "code",
      "source": [
        "y_train = list(y_train)\n",
        "y_valid = list(y_valid)\n",
        "y_test = list(y_test)"
      ],
      "metadata": {
        "id": "p3RyvCpj8Ygs"
      },
      "execution_count": 18,
      "outputs": []
    },
    {
      "cell_type": "markdown",
      "source": [
        "## 2 Modelling"
      ],
      "metadata": {
        "id": "Qi15Bk94Kfd3"
      }
    },
    {
      "cell_type": "markdown",
      "source": [
        "### 2.1 Definning call backs"
      ],
      "metadata": {
        "id": "u5N2ydoJVgyE"
      }
    },
    {
      "cell_type": "code",
      "source": [
        "class modelCheckPointOnF1(tf.keras.callbacks.Callback):\n",
        "  best_f1 = 0\n",
        "  save_path = \"model_weights\"\n",
        "\n",
        "\n",
        "  def on_epoch_end(self, epoch, logs=None):\n",
        "    precision = logs['val_precision']\n",
        "    recall = logs['val_recall']\n",
        "    f1_score = 2*precision*recall/(precision+recall)\n",
        "    print(f\" val_f1_score:{f1_score}\")\n",
        "    if f1_score>self.best_f1:\n",
        "      self.on_epoch_endbest_f1 = f1_score\n",
        "      self.model.save_weights(\"./model_weights\")"
      ],
      "metadata": {
        "id": "802TrGCjVf_d"
      },
      "execution_count": 21,
      "outputs": []
    },
    {
      "cell_type": "markdown",
      "source": [
        "### 2.2 Defining Model"
      ],
      "metadata": {
        "id": "wt0HdbwwqdBW"
      }
    },
    {
      "cell_type": "code",
      "source": [
        "def build_classifier_model():\n",
        "  text_input = tf.keras.layers.Input(shape=(), dtype=tf.string, name='text')\n",
        "  preprocessing_layer = hub.KerasLayer(\"https://tfhub.dev/tensorflow/bert_en_uncased_preprocess/3\", name='preprocessing')\n",
        "  encoder_inputs = preprocessing_layer(text_input)\n",
        "  encoder = hub.KerasLayer('https://tfhub.dev/tensorflow/small_bert/bert_en_uncased_L-4_H-256_A-4/1', trainable=True, name='BERT_encoder')\n",
        "  outputs = encoder(encoder_inputs)\n",
        "  net = outputs['pooled_output']\n",
        "  net = tf.keras.layers.Dropout(0.4)(net)\n",
        "  net = tf.keras.layers.Dense(1, activation=\"sigmoid\", name='classifier')(net)\n",
        "  return tf.keras.Model(text_input, net)"
      ],
      "metadata": {
        "id": "xykBjx6HrpsR"
      },
      "execution_count": 27,
      "outputs": []
    },
    {
      "cell_type": "code",
      "source": [
        "loss = tf.keras.losses.BinaryCrossentropy()\n",
        "metrics = [tf.keras.metrics.BinaryAccuracy(),tf.keras.metrics.Precision(name=\"precision\"),tf.keras.metrics.Recall(name=\"recall\")]"
      ],
      "metadata": {
        "id": "jecVmhomsZbq"
      },
      "execution_count": 23,
      "outputs": []
    },
    {
      "cell_type": "code",
      "source": [
        "epochs = 80\n",
        "batch_size = 32\n",
        "steps_per_epoch =  len(X_train)/batch_size\n",
        "num_train_steps = steps_per_epoch * epochs\n",
        "num_warmup_steps = int(0.1*num_train_steps)\n",
        "\n",
        "init_lr = 3e-6\n",
        "optimizer = optimization.create_optimizer(init_lr=init_lr,\n",
        "                                          num_train_steps=num_train_steps,\n",
        "                                          num_warmup_steps=num_warmup_steps,\n",
        "                                          optimizer_type='adamw')"
      ],
      "metadata": {
        "id": "eSOoMMMnv3ex"
      },
      "execution_count": 24,
      "outputs": []
    },
    {
      "cell_type": "code",
      "source": [
        "classifier_model = build_classifier_model()\n",
        "classifier_model.compile(optimizer=optimizer,\n",
        "                         loss=loss,\n",
        "                         metrics=metrics)"
      ],
      "metadata": {
        "id": "MC4t4hn9v5SR"
      },
      "execution_count": 32,
      "outputs": []
    },
    {
      "cell_type": "markdown",
      "source": [
        "### 2.3 Training Model"
      ],
      "metadata": {
        "id": "-O8QLYWHLQUp"
      }
    },
    {
      "cell_type": "code",
      "source": [
        "history = classifier_model.fit(X_train,y_train,validation_data=(X_valid,y_valid),epochs=epochs,callbacks=[modelCheckPointOnF1()])"
      ],
      "metadata": {
        "colab": {
          "base_uri": "https://localhost:8080/"
        },
        "id": "IS0GVoe65ZDR",
        "outputId": "0a442bbb-31be-47bd-d788-16d74f0e0fda"
      },
      "execution_count": 33,
      "outputs": [
        {
          "output_type": "stream",
          "name": "stdout",
          "text": [
            "Epoch 1/80\n",
            "177/177 [==============================] - ETA: 0s - loss: 0.7242 - binary_accuracy: 0.5657 - precision: 0.4719 - recall: 0.4886 val_f1_score:0.47499999656677244\n",
            "177/177 [==============================] - 46s 149ms/step - loss: 0.7242 - binary_accuracy: 0.5657 - precision: 0.4719 - recall: 0.4886 - val_loss: 0.6251 - val_binary_accuracy: 0.6656 - val_precision: 0.6597 - val_recall: 0.3711\n",
            "Epoch 2/80\n",
            "177/177 [==============================] - ETA: 0s - loss: 0.7127 - binary_accuracy: 0.5810 - precision: 0.4879 - recall: 0.4273 val_f1_score:0.49343831466673055\n",
            "177/177 [==============================] - 24s 136ms/step - loss: 0.7127 - binary_accuracy: 0.5810 - precision: 0.4879 - recall: 0.4273 - val_loss: 0.6008 - val_binary_accuracy: 0.6927 - val_precision: 0.7520 - val_recall: 0.3672\n",
            "Epoch 3/80\n",
            "177/177 [==============================] - ETA: 0s - loss: 0.6728 - binary_accuracy: 0.6165 - precision: 0.5380 - recall: 0.4644 val_f1_score:0.5536159583798262\n",
            "177/177 [==============================] - 24s 133ms/step - loss: 0.6728 - binary_accuracy: 0.6165 - precision: 0.5380 - recall: 0.4644 - val_loss: 0.5743 - val_binary_accuracy: 0.7150 - val_precision: 0.7655 - val_recall: 0.4336\n",
            "Epoch 4/80\n",
            "177/177 [==============================] - ETA: 0s - loss: 0.6391 - binary_accuracy: 0.6535 - precision: 0.5954 - recall: 0.4860 val_f1_score:0.622727262757041\n",
            "177/177 [==============================] - 26s 148ms/step - loss: 0.6391 - binary_accuracy: 0.6535 - precision: 0.5954 - recall: 0.4860 - val_loss: 0.5452 - val_binary_accuracy: 0.7357 - val_precision: 0.7446 - val_recall: 0.5352\n",
            "Epoch 5/80\n",
            "177/177 [==============================] - ETA: 0s - loss: 0.6183 - binary_accuracy: 0.6717 - precision: 0.6125 - recall: 0.5446 val_f1_score:0.6785714358699564\n",
            "177/177 [==============================] - 23s 130ms/step - loss: 0.6183 - binary_accuracy: 0.6717 - precision: 0.6125 - recall: 0.5446 - val_loss: 0.5188 - val_binary_accuracy: 0.7707 - val_precision: 0.7917 - val_recall: 0.5938\n",
            "Epoch 6/80\n",
            "177/177 [==============================] - ETA: 0s - loss: 0.5878 - binary_accuracy: 0.7004 - precision: 0.6490 - recall: 0.5878 val_f1_score:0.7272727332554202\n",
            "177/177 [==============================] - 26s 144ms/step - loss: 0.5878 - binary_accuracy: 0.7004 - precision: 0.6490 - recall: 0.5878 - val_loss: 0.4913 - val_binary_accuracy: 0.7994 - val_precision: 0.8155 - val_recall: 0.6562\n",
            "Epoch 7/80\n",
            "177/177 [==============================] - ETA: 0s - loss: 0.5631 - binary_accuracy: 0.7250 - precision: 0.6822 - recall: 0.6175 val_f1_score:0.7415254274273494\n",
            "177/177 [==============================] - 26s 146ms/step - loss: 0.5631 - binary_accuracy: 0.7250 - precision: 0.6822 - recall: 0.6175 - val_loss: 0.4684 - val_binary_accuracy: 0.8057 - val_precision: 0.8102 - val_recall: 0.6836\n",
            "Epoch 8/80\n",
            "177/177 [==============================] - ETA: 0s - loss: 0.5463 - binary_accuracy: 0.7439 - precision: 0.7074 - recall: 0.6412 val_f1_score:0.7457627081658709\n",
            "177/177 [==============================] - 25s 139ms/step - loss: 0.5463 - binary_accuracy: 0.7439 - precision: 0.7074 - recall: 0.6412 - val_loss: 0.4520 - val_binary_accuracy: 0.8089 - val_precision: 0.8148 - val_recall: 0.6875\n",
            "Epoch 9/80\n",
            "177/177 [==============================] - ETA: 0s - loss: 0.5229 - binary_accuracy: 0.7615 - precision: 0.7274 - recall: 0.6697 val_f1_score:0.7591836790460589\n",
            "177/177 [==============================] - 25s 142ms/step - loss: 0.5229 - binary_accuracy: 0.7615 - precision: 0.7274 - recall: 0.6697 - val_loss: 0.4404 - val_binary_accuracy: 0.8121 - val_precision: 0.7949 - val_recall: 0.7266\n",
            "Epoch 10/80\n",
            "177/177 [==============================] - ETA: 0s - loss: 0.5077 - binary_accuracy: 0.7714 - precision: 0.7416 - recall: 0.6796 val_f1_score:0.7638603650816232\n",
            "177/177 [==============================] - 25s 139ms/step - loss: 0.5077 - binary_accuracy: 0.7714 - precision: 0.7416 - recall: 0.6796 - val_loss: 0.4342 - val_binary_accuracy: 0.8169 - val_precision: 0.8052 - val_recall: 0.7266\n",
            "Epoch 11/80\n",
            "177/177 [==============================] - ETA: 0s - loss: 0.4930 - binary_accuracy: 0.7811 - precision: 0.7579 - recall: 0.6856 val_f1_score:0.7597536060849885\n",
            "177/177 [==============================] - 25s 142ms/step - loss: 0.4930 - binary_accuracy: 0.7811 - precision: 0.7579 - recall: 0.6856 - val_loss: 0.4266 - val_binary_accuracy: 0.8137 - val_precision: 0.8009 - val_recall: 0.7227\n",
            "Epoch 12/80\n",
            "177/177 [==============================] - ETA: 0s - loss: 0.4806 - binary_accuracy: 0.7845 - precision: 0.7586 - recall: 0.6964 val_f1_score:0.7648261777276452\n",
            "177/177 [==============================] - 27s 150ms/step - loss: 0.4806 - binary_accuracy: 0.7845 - precision: 0.7586 - recall: 0.6964 - val_loss: 0.4216 - val_binary_accuracy: 0.8169 - val_precision: 0.8026 - val_recall: 0.7305\n",
            "Epoch 13/80\n",
            "177/177 [==============================] - ETA: 0s - loss: 0.4758 - binary_accuracy: 0.7887 - precision: 0.7610 - recall: 0.7072 val_f1_score:0.7648261777276452\n",
            "177/177 [==============================] - 25s 141ms/step - loss: 0.4758 - binary_accuracy: 0.7887 - precision: 0.7610 - recall: 0.7072 - val_loss: 0.4199 - val_binary_accuracy: 0.8169 - val_precision: 0.8026 - val_recall: 0.7305\n",
            "Epoch 14/80\n",
            "177/177 [==============================] - ETA: 0s - loss: 0.4785 - binary_accuracy: 0.7958 - precision: 0.7731 - recall: 0.7111 val_f1_score:0.7670103075375325\n",
            "177/177 [==============================] - 25s 139ms/step - loss: 0.4785 - binary_accuracy: 0.7958 - precision: 0.7731 - recall: 0.7111 - val_loss: 0.4177 - val_binary_accuracy: 0.8201 - val_precision: 0.8122 - val_recall: 0.7266\n",
            "Epoch 15/80\n",
            "177/177 [==============================] - ETA: 0s - loss: 0.4628 - binary_accuracy: 0.7997 - precision: 0.7741 - recall: 0.7227 val_f1_score:0.7795918281373257\n",
            "177/177 [==============================] - 25s 139ms/step - loss: 0.4628 - binary_accuracy: 0.7997 - precision: 0.7741 - recall: 0.7227 - val_loss: 0.4159 - val_binary_accuracy: 0.8280 - val_precision: 0.8162 - val_recall: 0.7461\n",
            "Epoch 16/80\n",
            "177/177 [==============================] - ETA: 0s - loss: 0.4641 - binary_accuracy: 0.7965 - precision: 0.7743 - recall: 0.7115 val_f1_score:0.7802874815313782\n",
            "177/177 [==============================] - 24s 135ms/step - loss: 0.4641 - binary_accuracy: 0.7965 - precision: 0.7743 - recall: 0.7115 - val_loss: 0.4126 - val_binary_accuracy: 0.8296 - val_precision: 0.8225 - val_recall: 0.7422\n",
            "Epoch 17/80\n",
            "177/177 [==============================] - ETA: 0s - loss: 0.4420 - binary_accuracy: 0.8131 - precision: 0.7994 - recall: 0.7270 val_f1_score:0.7797979686352904\n",
            "177/177 [==============================] - 24s 134ms/step - loss: 0.4420 - binary_accuracy: 0.8131 - precision: 0.7994 - recall: 0.7270 - val_loss: 0.4110 - val_binary_accuracy: 0.8264 - val_precision: 0.8075 - val_recall: 0.7539\n",
            "Epoch 18/80\n",
            "177/177 [==============================] - ETA: 0s - loss: 0.4511 - binary_accuracy: 0.8082 - precision: 0.7887 - recall: 0.7275 val_f1_score:0.777327940570667\n",
            "177/177 [==============================] - 24s 138ms/step - loss: 0.4511 - binary_accuracy: 0.8082 - precision: 0.7887 - recall: 0.7275 - val_loss: 0.4106 - val_binary_accuracy: 0.8248 - val_precision: 0.8067 - val_recall: 0.7500\n",
            "Epoch 19/80\n",
            "177/177 [==============================] - ETA: 0s - loss: 0.4364 - binary_accuracy: 0.8156 - precision: 0.7922 - recall: 0.7464 val_f1_score:0.7755102091935812\n",
            "177/177 [==============================] - 25s 139ms/step - loss: 0.4364 - binary_accuracy: 0.8156 - precision: 0.7922 - recall: 0.7464 - val_loss: 0.4069 - val_binary_accuracy: 0.8248 - val_precision: 0.8120 - val_recall: 0.7422\n",
            "Epoch 20/80\n",
            "177/177 [==============================] - ETA: 0s - loss: 0.4324 - binary_accuracy: 0.8191 - precision: 0.8023 - recall: 0.7421 val_f1_score:0.7698744695745627\n",
            "177/177 [==============================] - 24s 134ms/step - loss: 0.4324 - binary_accuracy: 0.8191 - precision: 0.8023 - recall: 0.7421 - val_loss: 0.4085 - val_binary_accuracy: 0.8248 - val_precision: 0.8288 - val_recall: 0.7188\n",
            "Epoch 21/80\n",
            "177/177 [==============================] - ETA: 0s - loss: 0.4271 - binary_accuracy: 0.8229 - precision: 0.8103 - recall: 0.7421 val_f1_score:0.7789046747300368\n",
            "177/177 [==============================] - 24s 138ms/step - loss: 0.4271 - binary_accuracy: 0.8229 - precision: 0.8103 - recall: 0.7421 - val_loss: 0.4064 - val_binary_accuracy: 0.8264 - val_precision: 0.8101 - val_recall: 0.7500\n",
            "Epoch 22/80\n",
            "177/177 [==============================] - ETA: 0s - loss: 0.4262 - binary_accuracy: 0.8209 - precision: 0.8058 - recall: 0.7426 val_f1_score:0.7797979686352904\n",
            "177/177 [==============================] - 25s 139ms/step - loss: 0.4262 - binary_accuracy: 0.8209 - precision: 0.8058 - recall: 0.7426 - val_loss: 0.4068 - val_binary_accuracy: 0.8264 - val_precision: 0.8075 - val_recall: 0.7539\n",
            "Epoch 23/80\n",
            "177/177 [==============================] - ETA: 0s - loss: 0.4185 - binary_accuracy: 0.8253 - precision: 0.8049 - recall: 0.7581 val_f1_score:0.7748478779707972\n",
            "177/177 [==============================] - 25s 140ms/step - loss: 0.4185 - binary_accuracy: 0.8253 - precision: 0.8049 - recall: 0.7581 - val_loss: 0.4072 - val_binary_accuracy: 0.8232 - val_precision: 0.8059 - val_recall: 0.7461\n",
            "Epoch 24/80\n",
            "177/177 [==============================] - ETA: 0s - loss: 0.4169 - binary_accuracy: 0.8241 - precision: 0.8106 - recall: 0.7456 val_f1_score:0.7748478779707972\n",
            "177/177 [==============================] - 25s 143ms/step - loss: 0.4169 - binary_accuracy: 0.8241 - precision: 0.8106 - recall: 0.7456 - val_loss: 0.4082 - val_binary_accuracy: 0.8232 - val_precision: 0.8059 - val_recall: 0.7461\n",
            "Epoch 25/80\n",
            "177/177 [==============================] - ETA: 0s - loss: 0.4080 - binary_accuracy: 0.8326 - precision: 0.8215 - recall: 0.7564 val_f1_score:0.7855711404231882\n",
            "177/177 [==============================] - 23s 131ms/step - loss: 0.4080 - binary_accuracy: 0.8326 - precision: 0.8215 - recall: 0.7564 - val_loss: 0.4074 - val_binary_accuracy: 0.8296 - val_precision: 0.8066 - val_recall: 0.7656\n",
            "Epoch 26/80\n",
            "177/177 [==============================] - ETA: 0s - loss: 0.3990 - binary_accuracy: 0.8321 - precision: 0.8201 - recall: 0.7568 val_f1_score:0.7739307640223677\n",
            "177/177 [==============================] - 25s 139ms/step - loss: 0.3990 - binary_accuracy: 0.8321 - precision: 0.8201 - recall: 0.7568 - val_loss: 0.4065 - val_binary_accuracy: 0.8232 - val_precision: 0.8085 - val_recall: 0.7422\n",
            "Epoch 27/80\n",
            "177/177 [==============================] - ETA: 0s - loss: 0.4056 - binary_accuracy: 0.8356 - precision: 0.8275 - recall: 0.7572 val_f1_score:0.7826086935569927\n",
            "177/177 [==============================] - 24s 138ms/step - loss: 0.4056 - binary_accuracy: 0.8356 - precision: 0.8275 - recall: 0.7572 - val_loss: 0.4103 - val_binary_accuracy: 0.8248 - val_precision: 0.7920 - val_recall: 0.7734\n",
            "Epoch 28/80\n",
            "177/177 [==============================] - ETA: 0s - loss: 0.4019 - binary_accuracy: 0.8338 - precision: 0.8249 - recall: 0.7555 val_f1_score:0.7685950357530801\n",
            "177/177 [==============================] - 25s 138ms/step - loss: 0.4019 - binary_accuracy: 0.8338 - precision: 0.8249 - recall: 0.7555 - val_loss: 0.4052 - val_binary_accuracy: 0.8217 - val_precision: 0.8158 - val_recall: 0.7266\n",
            "Epoch 29/80\n",
            "177/177 [==============================] - ETA: 0s - loss: 0.3998 - binary_accuracy: 0.8312 - precision: 0.8209 - recall: 0.7529 val_f1_score:0.7755102091935812\n",
            "177/177 [==============================] - 25s 142ms/step - loss: 0.3998 - binary_accuracy: 0.8312 - precision: 0.8209 - recall: 0.7529 - val_loss: 0.4054 - val_binary_accuracy: 0.8248 - val_precision: 0.8120 - val_recall: 0.7422\n",
            "Epoch 30/80\n",
            "177/177 [==============================] - ETA: 0s - loss: 0.3864 - binary_accuracy: 0.8351 - precision: 0.8215 - recall: 0.7641 val_f1_score:0.7739307640223677\n",
            "177/177 [==============================] - 25s 139ms/step - loss: 0.3864 - binary_accuracy: 0.8351 - precision: 0.8215 - recall: 0.7641 - val_loss: 0.4042 - val_binary_accuracy: 0.8232 - val_precision: 0.8085 - val_recall: 0.7422\n",
            "Epoch 31/80\n",
            "177/177 [==============================] - ETA: 0s - loss: 0.3803 - binary_accuracy: 0.8406 - precision: 0.8304 - recall: 0.7684 val_f1_score:0.7739307640223677\n",
            "177/177 [==============================] - 24s 137ms/step - loss: 0.3803 - binary_accuracy: 0.8406 - precision: 0.8304 - recall: 0.7684 - val_loss: 0.4053 - val_binary_accuracy: 0.8232 - val_precision: 0.8085 - val_recall: 0.7422\n",
            "Epoch 32/80\n",
            "177/177 [==============================] - ETA: 0s - loss: 0.3825 - binary_accuracy: 0.8383 - precision: 0.8281 - recall: 0.7646 val_f1_score:0.7824351354421198\n",
            "177/177 [==============================] - 25s 141ms/step - loss: 0.3825 - binary_accuracy: 0.8383 - precision: 0.8281 - recall: 0.7646 - val_loss: 0.4089 - val_binary_accuracy: 0.8264 - val_precision: 0.8000 - val_recall: 0.7656\n",
            "Epoch 33/80\n",
            "177/177 [==============================] - ETA: 0s - loss: 0.3832 - binary_accuracy: 0.8420 - precision: 0.8289 - recall: 0.7749 val_f1_score:0.7808765012387902\n",
            "177/177 [==============================] - 24s 138ms/step - loss: 0.3832 - binary_accuracy: 0.8420 - precision: 0.8289 - recall: 0.7749 - val_loss: 0.4094 - val_binary_accuracy: 0.8248 - val_precision: 0.7967 - val_recall: 0.7656\n",
            "Epoch 34/80\n",
            "177/177 [==============================] - ETA: 0s - loss: 0.3778 - binary_accuracy: 0.8429 - precision: 0.8377 - recall: 0.7654 val_f1_score:0.775100390439387\n",
            "177/177 [==============================] - 24s 138ms/step - loss: 0.3778 - binary_accuracy: 0.8429 - precision: 0.8377 - recall: 0.7654 - val_loss: 0.4087 - val_binary_accuracy: 0.8217 - val_precision: 0.7975 - val_recall: 0.7539\n",
            "Epoch 35/80\n",
            "177/177 [==============================] - ETA: 0s - loss: 0.3699 - binary_accuracy: 0.8462 - precision: 0.8353 - recall: 0.7788 val_f1_score:0.7766599653413967\n",
            "177/177 [==============================] - 23s 130ms/step - loss: 0.3699 - binary_accuracy: 0.8462 - precision: 0.8353 - recall: 0.7788 - val_loss: 0.4085 - val_binary_accuracy: 0.8232 - val_precision: 0.8008 - val_recall: 0.7539\n",
            "Epoch 36/80\n",
            "177/177 [==============================] - ETA: 0s - loss: 0.3800 - binary_accuracy: 0.8445 - precision: 0.8330 - recall: 0.7766 val_f1_score:0.7782258101730267\n",
            "177/177 [==============================] - 23s 130ms/step - loss: 0.3800 - binary_accuracy: 0.8445 - precision: 0.8330 - recall: 0.7766 - val_loss: 0.4082 - val_binary_accuracy: 0.8248 - val_precision: 0.8042 - val_recall: 0.7539\n",
            "Epoch 37/80\n",
            "177/177 [==============================] - ETA: 0s - loss: 0.3649 - binary_accuracy: 0.8491 - precision: 0.8403 - recall: 0.7805 val_f1_score:0.7729083774725622\n",
            "177/177 [==============================] - 24s 138ms/step - loss: 0.3649 - binary_accuracy: 0.8491 - precision: 0.8403 - recall: 0.7805 - val_loss: 0.4095 - val_binary_accuracy: 0.8185 - val_precision: 0.7886 - val_recall: 0.7578\n",
            "Epoch 38/80\n",
            "177/177 [==============================] - ETA: 0s - loss: 0.3599 - binary_accuracy: 0.8540 - precision: 0.8465 - recall: 0.7870 val_f1_score:0.775100390439387\n",
            "177/177 [==============================] - 23s 132ms/step - loss: 0.3599 - binary_accuracy: 0.8540 - precision: 0.8465 - recall: 0.7870 - val_loss: 0.4099 - val_binary_accuracy: 0.8217 - val_precision: 0.7975 - val_recall: 0.7539\n",
            "Epoch 39/80\n",
            "177/177 [==============================] - ETA: 0s - loss: 0.3655 - binary_accuracy: 0.8501 - precision: 0.8417 - recall: 0.7818 val_f1_score:0.7757575800598622\n",
            "177/177 [==============================] - 25s 141ms/step - loss: 0.3655 - binary_accuracy: 0.8501 - precision: 0.8417 - recall: 0.7818 - val_loss: 0.4126 - val_binary_accuracy: 0.8232 - val_precision: 0.8033 - val_recall: 0.7500\n",
            "Epoch 40/80\n",
            "177/177 [==============================] - ETA: 0s - loss: 0.3515 - binary_accuracy: 0.8586 - precision: 0.8561 - recall: 0.7878 val_f1_score:0.7744510996661385\n",
            "177/177 [==============================] - 26s 149ms/step - loss: 0.3515 - binary_accuracy: 0.8586 - precision: 0.8561 - recall: 0.7878 - val_loss: 0.4165 - val_binary_accuracy: 0.8201 - val_precision: 0.7918 - val_recall: 0.7578\n",
            "Epoch 41/80\n",
            "177/177 [==============================] - ETA: 0s - loss: 0.3558 - binary_accuracy: 0.8568 - precision: 0.8502 - recall: 0.7904 val_f1_score:0.7753479261410827\n",
            "177/177 [==============================] - 24s 134ms/step - loss: 0.3558 - binary_accuracy: 0.8568 - precision: 0.8502 - recall: 0.7904 - val_loss: 0.4163 - val_binary_accuracy: 0.8201 - val_precision: 0.7895 - val_recall: 0.7617\n",
            "Epoch 42/80\n",
            "177/177 [==============================] - ETA: 0s - loss: 0.3535 - binary_accuracy: 0.8556 - precision: 0.8474 - recall: 0.7904 val_f1_score:0.775100390439387\n",
            "177/177 [==============================] - 25s 142ms/step - loss: 0.3535 - binary_accuracy: 0.8556 - precision: 0.8474 - recall: 0.7904 - val_loss: 0.4130 - val_binary_accuracy: 0.8217 - val_precision: 0.7975 - val_recall: 0.7539\n",
            "Epoch 43/80\n",
            "177/177 [==============================] - ETA: 0s - loss: 0.3453 - binary_accuracy: 0.8600 - precision: 0.8540 - recall: 0.7947 val_f1_score:0.7717171636939887\n",
            "177/177 [==============================] - 24s 138ms/step - loss: 0.3453 - binary_accuracy: 0.8600 - precision: 0.8540 - recall: 0.7947 - val_loss: 0.4133 - val_binary_accuracy: 0.8201 - val_precision: 0.7992 - val_recall: 0.7461\n",
            "Epoch 44/80\n",
            "177/177 [==============================] - ETA: 0s - loss: 0.3522 - binary_accuracy: 0.8579 - precision: 0.8539 - recall: 0.7887 val_f1_score:0.7734375\n",
            "177/177 [==============================] - 25s 140ms/step - loss: 0.3522 - binary_accuracy: 0.8579 - precision: 0.8539 - recall: 0.7887 - val_loss: 0.4211 - val_binary_accuracy: 0.8153 - val_precision: 0.7734 - val_recall: 0.7734\n",
            "Epoch 45/80\n",
            "177/177 [==============================] - ETA: 0s - loss: 0.3525 - binary_accuracy: 0.8568 - precision: 0.8432 - recall: 0.7999 val_f1_score:0.7689243155894483\n",
            "177/177 [==============================] - 25s 140ms/step - loss: 0.3525 - binary_accuracy: 0.8568 - precision: 0.8432 - recall: 0.7999 - val_loss: 0.4187 - val_binary_accuracy: 0.8153 - val_precision: 0.7846 - val_recall: 0.7539\n",
            "Epoch 46/80\n",
            "177/177 [==============================] - ETA: 0s - loss: 0.3444 - binary_accuracy: 0.8588 - precision: 0.8549 - recall: 0.7900 val_f1_score:0.7751938054341119\n",
            "177/177 [==============================] - 24s 135ms/step - loss: 0.3444 - binary_accuracy: 0.8588 - precision: 0.8549 - recall: 0.7900 - val_loss: 0.4268 - val_binary_accuracy: 0.8153 - val_precision: 0.7692 - val_recall: 0.7812\n",
            "Epoch 47/80\n",
            "177/177 [==============================] - ETA: 0s - loss: 0.3424 - binary_accuracy: 0.8618 - precision: 0.8550 - recall: 0.7986 val_f1_score:0.7720000051193237\n",
            "177/177 [==============================] - 25s 142ms/step - loss: 0.3424 - binary_accuracy: 0.8618 - precision: 0.8550 - recall: 0.7986 - val_loss: 0.4220 - val_binary_accuracy: 0.8185 - val_precision: 0.7910 - val_recall: 0.7539\n",
            "Epoch 48/80\n",
            "177/177 [==============================] - ETA: 0s - loss: 0.3340 - binary_accuracy: 0.8607 - precision: 0.8644 - recall: 0.7835 val_f1_score:0.7698412838075884\n",
            "177/177 [==============================] - 26s 144ms/step - loss: 0.3340 - binary_accuracy: 0.8607 - precision: 0.8644 - recall: 0.7835 - val_loss: 0.4225 - val_binary_accuracy: 0.8153 - val_precision: 0.7823 - val_recall: 0.7578\n",
            "Epoch 49/80\n",
            "177/177 [==============================] - ETA: 0s - loss: 0.3369 - binary_accuracy: 0.8606 - precision: 0.8478 - recall: 0.8047 val_f1_score:0.7704590960321497\n",
            "177/177 [==============================] - 26s 145ms/step - loss: 0.3369 - binary_accuracy: 0.8606 - precision: 0.8478 - recall: 0.8047 - val_loss: 0.4234 - val_binary_accuracy: 0.8169 - val_precision: 0.7878 - val_recall: 0.7539\n",
            "Epoch 50/80\n",
            "177/177 [==============================] - ETA: 0s - loss: 0.3385 - binary_accuracy: 0.8627 - precision: 0.8603 - recall: 0.7943 val_f1_score:0.7740667969439685\n",
            "177/177 [==============================] - 25s 144ms/step - loss: 0.3385 - binary_accuracy: 0.8627 - precision: 0.8603 - recall: 0.7943 - val_loss: 0.4272 - val_binary_accuracy: 0.8169 - val_precision: 0.7787 - val_recall: 0.7695\n",
            "Epoch 51/80\n",
            "177/177 [==============================] - ETA: 0s - loss: 0.3370 - binary_accuracy: 0.8676 - precision: 0.8611 - recall: 0.8077 val_f1_score:0.7643564397173177\n",
            "177/177 [==============================] - 25s 140ms/step - loss: 0.3370 - binary_accuracy: 0.8676 - precision: 0.8611 - recall: 0.8077 - val_loss: 0.4256 - val_binary_accuracy: 0.8105 - val_precision: 0.7751 - val_recall: 0.7539\n",
            "Epoch 52/80\n",
            "177/177 [==============================] - ETA: 0s - loss: 0.3289 - binary_accuracy: 0.8673 - precision: 0.8664 - recall: 0.7999 val_f1_score:0.7677165494020431\n",
            "177/177 [==============================] - 25s 140ms/step - loss: 0.3289 - binary_accuracy: 0.8673 - precision: 0.8664 - recall: 0.7999 - val_loss: 0.4284 - val_binary_accuracy: 0.8121 - val_precision: 0.7738 - val_recall: 0.7617\n",
            "Epoch 53/80\n",
            "177/177 [==============================] - ETA: 0s - loss: 0.3334 - binary_accuracy: 0.8655 - precision: 0.8577 - recall: 0.8060 val_f1_score:0.7643564397173177\n",
            "177/177 [==============================] - 25s 139ms/step - loss: 0.3334 - binary_accuracy: 0.8655 - precision: 0.8577 - recall: 0.8060 - val_loss: 0.4278 - val_binary_accuracy: 0.8105 - val_precision: 0.7751 - val_recall: 0.7539\n",
            "Epoch 54/80\n",
            "177/177 [==============================] - ETA: 0s - loss: 0.3220 - binary_accuracy: 0.8726 - precision: 0.8672 - recall: 0.8141 val_f1_score:0.7692307659714572\n",
            "177/177 [==============================] - 27s 151ms/step - loss: 0.3220 - binary_accuracy: 0.8726 - precision: 0.8672 - recall: 0.8141 - val_loss: 0.4294 - val_binary_accuracy: 0.8137 - val_precision: 0.7769 - val_recall: 0.7617\n",
            "Epoch 55/80\n",
            "177/177 [==============================] - ETA: 0s - loss: 0.3287 - binary_accuracy: 0.8712 - precision: 0.8644 - recall: 0.8137 val_f1_score:0.7652860073464146\n",
            "177/177 [==============================] - 23s 130ms/step - loss: 0.3287 - binary_accuracy: 0.8712 - precision: 0.8644 - recall: 0.8137 - val_loss: 0.4310 - val_binary_accuracy: 0.8105 - val_precision: 0.7729 - val_recall: 0.7578\n",
            "Epoch 56/80\n",
            "177/177 [==============================] - ETA: 0s - loss: 0.3265 - binary_accuracy: 0.8689 - precision: 0.8649 - recall: 0.8064 val_f1_score:0.7677165494020431\n",
            "177/177 [==============================] - 25s 139ms/step - loss: 0.3265 - binary_accuracy: 0.8689 - precision: 0.8649 - recall: 0.8064 - val_loss: 0.4318 - val_binary_accuracy: 0.8121 - val_precision: 0.7738 - val_recall: 0.7617\n",
            "Epoch 57/80\n",
            "177/177 [==============================] - ETA: 0s - loss: 0.3234 - binary_accuracy: 0.8714 - precision: 0.8678 - recall: 0.8098 val_f1_score:0.7658730028377847\n",
            "177/177 [==============================] - 24s 134ms/step - loss: 0.3234 - binary_accuracy: 0.8714 - precision: 0.8678 - recall: 0.8098 - val_loss: 0.4312 - val_binary_accuracy: 0.8121 - val_precision: 0.7782 - val_recall: 0.7539\n",
            "Epoch 58/80\n",
            "177/177 [==============================] - ETA: 0s - loss: 0.3209 - binary_accuracy: 0.8701 - precision: 0.8647 - recall: 0.8103 val_f1_score:0.7620967853577897\n",
            "177/177 [==============================] - 25s 139ms/step - loss: 0.3209 - binary_accuracy: 0.8701 - precision: 0.8647 - recall: 0.8103 - val_loss: 0.4310 - val_binary_accuracy: 0.8121 - val_precision: 0.7875 - val_recall: 0.7383\n",
            "Epoch 59/80\n",
            "177/177 [==============================] - ETA: 0s - loss: 0.3181 - binary_accuracy: 0.8745 - precision: 0.8776 - recall: 0.8068 val_f1_score:0.7619047507317066\n",
            "177/177 [==============================] - 25s 139ms/step - loss: 0.3181 - binary_accuracy: 0.8745 - precision: 0.8776 - recall: 0.8068 - val_loss: 0.4329 - val_binary_accuracy: 0.8089 - val_precision: 0.7742 - val_recall: 0.7500\n",
            "Epoch 60/80\n",
            "177/177 [==============================] - ETA: 0s - loss: 0.3213 - binary_accuracy: 0.8666 - precision: 0.8624 - recall: 0.8029 val_f1_score:0.7710371887481489\n",
            "177/177 [==============================] - 25s 140ms/step - loss: 0.3213 - binary_accuracy: 0.8666 - precision: 0.8624 - recall: 0.8029 - val_loss: 0.4359 - val_binary_accuracy: 0.8137 - val_precision: 0.7725 - val_recall: 0.7695\n",
            "Epoch 61/80\n",
            "177/177 [==============================] - ETA: 0s - loss: 0.3197 - binary_accuracy: 0.8722 - precision: 0.8698 - recall: 0.8098 val_f1_score:0.7569721013133016\n",
            "177/177 [==============================] - 26s 146ms/step - loss: 0.3197 - binary_accuracy: 0.8722 - precision: 0.8698 - recall: 0.8098 - val_loss: 0.4323 - val_binary_accuracy: 0.8057 - val_precision: 0.7724 - val_recall: 0.7422\n",
            "Epoch 62/80\n",
            "177/177 [==============================] - ETA: 0s - loss: 0.3126 - binary_accuracy: 0.8775 - precision: 0.8764 - recall: 0.8167 val_f1_score:0.7619047507317066\n",
            "177/177 [==============================] - 25s 142ms/step - loss: 0.3126 - binary_accuracy: 0.8775 - precision: 0.8764 - recall: 0.8167 - val_loss: 0.4349 - val_binary_accuracy: 0.8089 - val_precision: 0.7742 - val_recall: 0.7500\n",
            "Epoch 63/80\n",
            "177/177 [==============================] - ETA: 0s - loss: 0.3134 - binary_accuracy: 0.8758 - precision: 0.8700 - recall: 0.8197 val_f1_score:0.7559999860382077\n",
            "177/177 [==============================] - 25s 139ms/step - loss: 0.3134 - binary_accuracy: 0.8758 - precision: 0.8700 - recall: 0.8197 - val_loss: 0.4348 - val_binary_accuracy: 0.8057 - val_precision: 0.7746 - val_recall: 0.7383\n",
            "Epoch 64/80\n",
            "177/177 [==============================] - ETA: 0s - loss: 0.3132 - binary_accuracy: 0.8751 - precision: 0.8785 - recall: 0.8072 val_f1_score:0.7734375\n",
            "177/177 [==============================] - 25s 140ms/step - loss: 0.3132 - binary_accuracy: 0.8751 - precision: 0.8785 - recall: 0.8072 - val_loss: 0.4388 - val_binary_accuracy: 0.8153 - val_precision: 0.7734 - val_recall: 0.7734\n",
            "Epoch 65/80\n",
            "177/177 [==============================] - ETA: 0s - loss: 0.3080 - binary_accuracy: 0.8754 - precision: 0.8696 - recall: 0.8193 val_f1_score:0.7692307659714572\n",
            "177/177 [==============================] - 23s 131ms/step - loss: 0.3080 - binary_accuracy: 0.8754 - precision: 0.8696 - recall: 0.8193 - val_loss: 0.4373 - val_binary_accuracy: 0.8137 - val_precision: 0.7769 - val_recall: 0.7617\n",
            "Epoch 66/80\n",
            "177/177 [==============================] - ETA: 0s - loss: 0.3145 - binary_accuracy: 0.8747 - precision: 0.8700 - recall: 0.8167 val_f1_score:0.7710371887481489\n",
            "177/177 [==============================] - 24s 138ms/step - loss: 0.3145 - binary_accuracy: 0.8747 - precision: 0.8700 - recall: 0.8167 - val_loss: 0.4400 - val_binary_accuracy: 0.8137 - val_precision: 0.7725 - val_recall: 0.7695\n",
            "Epoch 67/80\n",
            "177/177 [==============================] - ETA: 0s - loss: 0.3129 - binary_accuracy: 0.8731 - precision: 0.8654 - recall: 0.8180 val_f1_score:0.7609561631964155\n",
            "177/177 [==============================] - 25s 140ms/step - loss: 0.3129 - binary_accuracy: 0.8731 - precision: 0.8654 - recall: 0.8180 - val_loss: 0.4371 - val_binary_accuracy: 0.8089 - val_precision: 0.7764 - val_recall: 0.7461\n",
            "Epoch 68/80\n",
            "177/177 [==============================] - ETA: 0s - loss: 0.3118 - binary_accuracy: 0.8793 - precision: 0.8798 - recall: 0.8176 val_f1_score:0.7701375270025936\n",
            "177/177 [==============================] - 25s 143ms/step - loss: 0.3118 - binary_accuracy: 0.8793 - precision: 0.8798 - recall: 0.8176 - val_loss: 0.4403 - val_binary_accuracy: 0.8137 - val_precision: 0.7747 - val_recall: 0.7656\n",
            "Epoch 69/80\n",
            "177/177 [==============================] - ETA: 0s - loss: 0.3056 - binary_accuracy: 0.8802 - precision: 0.8819 - recall: 0.8176 val_f1_score:0.768316824815984\n",
            "177/177 [==============================] - 25s 140ms/step - loss: 0.3056 - binary_accuracy: 0.8802 - precision: 0.8819 - recall: 0.8176 - val_loss: 0.4396 - val_binary_accuracy: 0.8137 - val_precision: 0.7791 - val_recall: 0.7578\n",
            "Epoch 70/80\n",
            "177/177 [==============================] - ETA: 0s - loss: 0.3022 - binary_accuracy: 0.8779 - precision: 0.8762 - recall: 0.8180 val_f1_score:0.7701375270025936\n",
            "177/177 [==============================] - 24s 137ms/step - loss: 0.3022 - binary_accuracy: 0.8779 - precision: 0.8762 - recall: 0.8180 - val_loss: 0.4417 - val_binary_accuracy: 0.8137 - val_precision: 0.7747 - val_recall: 0.7656\n",
            "Epoch 71/80\n",
            "177/177 [==============================] - ETA: 0s - loss: 0.3081 - binary_accuracy: 0.8775 - precision: 0.8768 - recall: 0.8163 val_f1_score:0.7701375270025936\n",
            "177/177 [==============================] - 24s 135ms/step - loss: 0.3081 - binary_accuracy: 0.8775 - precision: 0.8768 - recall: 0.8163 - val_loss: 0.4417 - val_binary_accuracy: 0.8137 - val_precision: 0.7747 - val_recall: 0.7656\n",
            "Epoch 72/80\n",
            "177/177 [==============================] - ETA: 0s - loss: 0.3047 - binary_accuracy: 0.8774 - precision: 0.8729 - recall: 0.8206 val_f1_score:0.7692307659714572\n",
            "177/177 [==============================] - 24s 136ms/step - loss: 0.3047 - binary_accuracy: 0.8774 - precision: 0.8729 - recall: 0.8206 - val_loss: 0.4409 - val_binary_accuracy: 0.8137 - val_precision: 0.7769 - val_recall: 0.7617\n",
            "Epoch 73/80\n",
            "177/177 [==============================] - ETA: 0s - loss: 0.3134 - binary_accuracy: 0.8721 - precision: 0.8705 - recall: 0.8085 val_f1_score:0.7701375270025936\n",
            "177/177 [==============================] - 25s 140ms/step - loss: 0.3134 - binary_accuracy: 0.8721 - precision: 0.8705 - recall: 0.8085 - val_loss: 0.4420 - val_binary_accuracy: 0.8137 - val_precision: 0.7747 - val_recall: 0.7656\n",
            "Epoch 74/80\n",
            "177/177 [==============================] - ETA: 0s - loss: 0.3109 - binary_accuracy: 0.8783 - precision: 0.8763 - recall: 0.8189 val_f1_score:0.7643564397173177\n",
            "177/177 [==============================] - 25s 139ms/step - loss: 0.3109 - binary_accuracy: 0.8783 - precision: 0.8763 - recall: 0.8189 - val_loss: 0.4411 - val_binary_accuracy: 0.8105 - val_precision: 0.7751 - val_recall: 0.7539\n",
            "Epoch 75/80\n",
            "177/177 [==============================] - ETA: 0s - loss: 0.3099 - binary_accuracy: 0.8765 - precision: 0.8765 - recall: 0.8137 val_f1_score:0.7652860073464146\n",
            "177/177 [==============================] - 25s 139ms/step - loss: 0.3099 - binary_accuracy: 0.8765 - precision: 0.8765 - recall: 0.8137 - val_loss: 0.4415 - val_binary_accuracy: 0.8105 - val_precision: 0.7729 - val_recall: 0.7578\n",
            "Epoch 76/80\n",
            "177/177 [==============================] - ETA: 0s - loss: 0.3029 - binary_accuracy: 0.8770 - precision: 0.8732 - recall: 0.8193 val_f1_score:0.7652860073464146\n",
            "177/177 [==============================] - 24s 137ms/step - loss: 0.3029 - binary_accuracy: 0.8770 - precision: 0.8732 - recall: 0.8193 - val_loss: 0.4419 - val_binary_accuracy: 0.8105 - val_precision: 0.7729 - val_recall: 0.7578\n",
            "Epoch 77/80\n",
            "177/177 [==============================] - ETA: 0s - loss: 0.3065 - binary_accuracy: 0.8774 - precision: 0.8796 - recall: 0.8124 val_f1_score:0.7701375270025936\n",
            "177/177 [==============================] - 25s 140ms/step - loss: 0.3065 - binary_accuracy: 0.8774 - precision: 0.8796 - recall: 0.8124 - val_loss: 0.4426 - val_binary_accuracy: 0.8137 - val_precision: 0.7747 - val_recall: 0.7656\n",
            "Epoch 78/80\n",
            "177/177 [==============================] - ETA: 0s - loss: 0.3041 - binary_accuracy: 0.8820 - precision: 0.8810 - recall: 0.8236 val_f1_score:0.7725490135543395\n",
            "177/177 [==============================] - 24s 135ms/step - loss: 0.3041 - binary_accuracy: 0.8820 - precision: 0.8810 - recall: 0.8236 - val_loss: 0.4431 - val_binary_accuracy: 0.8153 - val_precision: 0.7756 - val_recall: 0.7695\n",
            "Epoch 79/80\n",
            "177/177 [==============================] - ETA: 0s - loss: 0.3101 - binary_accuracy: 0.8760 - precision: 0.8721 - recall: 0.8176 val_f1_score:0.7701375270025936\n",
            "177/177 [==============================] - 24s 135ms/step - loss: 0.3101 - binary_accuracy: 0.8760 - precision: 0.8721 - recall: 0.8176 - val_loss: 0.4429 - val_binary_accuracy: 0.8137 - val_precision: 0.7747 - val_recall: 0.7656\n",
            "Epoch 80/80\n",
            "177/177 [==============================] - ETA: 0s - loss: 0.3036 - binary_accuracy: 0.8800 - precision: 0.8776 - recall: 0.8223 val_f1_score:0.7701375270025936\n",
            "177/177 [==============================] - 24s 138ms/step - loss: 0.3036 - binary_accuracy: 0.8800 - precision: 0.8776 - recall: 0.8223 - val_loss: 0.4429 - val_binary_accuracy: 0.8137 - val_precision: 0.7747 - val_recall: 0.7656\n"
          ]
        }
      ]
    },
    {
      "cell_type": "code",
      "source": [
        "# summarize history for accuracy\n",
        "plt.plot(history.history['binary_accuracy'])\n",
        "plt.plot(history.history['val_binary_accuracy'])\n",
        "plt.title('model accuracy')\n",
        "plt.ylabel('binary_accuracy')\n",
        "plt.xlabel('epoch')\n",
        "plt.legend(['train', 'test'], loc='upper left')\n",
        "plt.show()"
      ],
      "metadata": {
        "colab": {
          "base_uri": "https://localhost:8080/",
          "height": 472
        },
        "id": "jM7y1eBAhQYF",
        "outputId": "37dab80d-0473-4d74-df36-3d0feacd60f6"
      },
      "execution_count": 34,
      "outputs": [
        {
          "output_type": "display_data",
          "data": {
            "text/plain": [
              "<Figure size 640x480 with 1 Axes>"
            ],
            "image/png": "[encoded data removed]"
          },
          "metadata": {}
        }
      ]
    },
    {
      "cell_type": "code",
      "source": [
        "# summarize history for loss\n",
        "plt.plot(history.history['loss'])\n",
        "plt.plot(history.history['val_loss'])\n",
        "plt.title('model loss')\n",
        "plt.ylabel('loss')\n",
        "plt.xlabel('epoch')\n",
        "plt.legend(['train', 'test'], loc='upper left')\n",
        "plt.show()"
      ],
      "metadata": {
        "colab": {
          "base_uri": "https://localhost:8080/",
          "height": 472
        },
        "id": "1Xpv59l-hVdP",
        "outputId": "6f2015e8-2a77-4299-98df-6f89b13013b4"
      },
      "execution_count": 35,
      "outputs": [
        {
          "output_type": "display_data",
          "data": {
            "text/plain": [
              "<Figure size 640x480 with 1 Axes>"
            ],
            "image/png": "[encoded data removed]"
          },
          "metadata": {}
        }
      ]
    },
    {
      "cell_type": "markdown",
      "source": [
        "## 3. Evaluation"
      ],
      "metadata": {
        "id": "HzpPwaaZKw54"
      }
    },
    {
      "cell_type": "code",
      "source": [
        "classifier_model.load_weights(\"model_weights.index\")"
      ],
      "metadata": {
        "id": "CGw3HrHj7uWc"
      },
      "execution_count": null,
      "outputs": []
    },
    {
      "cell_type": "code",
      "source": [
        "y_train_pred = classifier_model.predict(X_train)\n",
        "y_valid_pred = classifier_model.predict(X_valid)\n",
        "y_test_pred = classifier_model.predict(X_test)"
      ],
      "metadata": {
        "colab": {
          "base_uri": "https://localhost:8080/"
        },
        "id": "ToY_Hl3j58-h",
        "outputId": "77607a7f-12f8-495a-f175-514a6dd254bf"
      },
      "execution_count": 37,
      "outputs": [
        {
          "output_type": "stream",
          "name": "stdout",
          "text": [
            "177/177 [==============================] - 15s 81ms/step\n",
            "20/20 [==============================] - 1s 71ms/step\n",
            "22/22 [==============================] - 2s 71ms/step\n"
          ]
        }
      ]
    },
    {
      "cell_type": "code",
      "source": [
        "y_train_pred = np.where(y_train_pred>.5,1,0)\n",
        "y_valid_pred = np.where(y_valid_pred>.5,1,0)\n",
        "y_test_pred = np.where(y_test_pred>.5,1,0)"
      ],
      "metadata": {
        "id": "e0gBPYCtN763"
      },
      "execution_count": 38,
      "outputs": []
    },
    {
      "cell_type": "code",
      "source": [
        "#train metrics\n",
        "print(f1_score(y_train,y_train_pred))\n",
        "print(accuracy_score(y_train,y_train_pred))"
      ],
      "metadata": {
        "id": "g7jmNA4BCIyw",
        "colab": {
          "base_uri": "https://localhost:8080/"
        },
        "outputId": "aab22d69-9316-47d8-9c01-7e2659fdbee5"
      },
      "execution_count": 39,
      "outputs": [
        {
          "output_type": "stream",
          "name": "stdout",
          "text": [
            "0.8828748890860693\n",
            "0.9065652096973987\n"
          ]
        }
      ]
    },
    {
      "cell_type": "code",
      "source": [
        "#validation metrics\n",
        "print(f1_score(y_valid,y_valid_pred))\n",
        "print(accuracy_score(y_valid,y_valid_pred))"
      ],
      "metadata": {
        "colab": {
          "base_uri": "https://localhost:8080/"
        },
        "id": "agT0LLovDEa0",
        "outputId": "fb4a2177-4d21-44b0-af49-6a2c39b8cd66"
      },
      "execution_count": 40,
      "outputs": [
        {
          "output_type": "stream",
          "name": "stdout",
          "text": [
            "0.7701375245579567\n",
            "0.8136942675159236\n"
          ]
        }
      ]
    },
    {
      "cell_type": "code",
      "source": [
        "#test metrics\n",
        "print(f1_score(y_test,y_test_pred))\n",
        "print(accuracy_score(y_test,y_test_pred))"
      ],
      "metadata": {
        "colab": {
          "base_uri": "https://localhost:8080/"
        },
        "id": "Wx4pD5oF1Lgw",
        "outputId": "812dd134-ff6e-4d54-cc56-bd03444b29f1"
      },
      "execution_count": 41,
      "outputs": [
        {
          "output_type": "stream",
          "name": "stdout",
          "text": [
            "0.74822695035461\n",
            "0.7965616045845272\n"
          ]
        }
      ]
    },
    {
      "cell_type": "code",
      "source": [],
      "metadata": {
        "id": "fZKXJVIN8tDR"
      },
      "execution_count": null,
      "outputs": []
    }
  ]
}