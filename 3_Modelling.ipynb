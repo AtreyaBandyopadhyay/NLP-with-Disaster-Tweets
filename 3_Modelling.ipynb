{
  "nbformat": 4,
  "nbformat_minor": 0,
  "metadata": {
    "colab": {
      "provenance": [],
      "gpuType": "T4",
      "include_colab_link": true
    },
    "kernelspec": {
      "name": "python3",
      "display_name": "Python 3"
    },
    "language_info": {
      "name": "python"
    },
    "accelerator": "GPU"
  },
  "cells": [
    {
      "cell_type": "markdown",
      "metadata": {
        "id": "view-in-github",
        "colab_type": "text"
      },
      "source": [
        "<a href=\"https://colab.research.google.com/github/AtreyaBandyopadhyay/NLP-with-Disaster-Tweets/blob/main/3_Modelling.ipynb\" target=\"_parent\"><img src=\"https://colab.research.google.com/assets/colab-badge.svg\" alt=\"Open In Colab\"/></a>"
      ]
    },
    {
      "cell_type": "code",
      "source": [
        "!pip install tensorflow_text\n",
        "!pip install tf-models-official"
      ],
      "metadata": {
        "id": "xUH43gzca06h",
        "colab": {
          "base_uri": "https://localhost:8080/"
        },
        "outputId": "ab283e39-b1e1-4f69-8bcf-4c28444fdfac"
      },
      "execution_count": 1,
      "outputs": [
        {
          "output_type": "stream",
          "name": "stdout",
          "text": [
            "Collecting tensorflow_text\n",
            "  Downloading tensorflow_text-2.15.0-cp310-cp310-manylinux_2_17_x86_64.manylinux2014_x86_64.whl (5.2 MB)\n",
            "\u001b[2K     \u001b[90m━━━━━━━━━━━━━━━━━━━━━━━━━━━━━━━━━━━━━━━━\u001b[0m \u001b[32m5.2/5.2 MB\u001b[0m \u001b[31m18.3 MB/s\u001b[0m eta \u001b[36m0:00:00\u001b[0m\n",
            "\u001b[?25hRequirement already satisfied: tensorflow-hub>=0.13.0 in /usr/local/lib/python3.10/dist-packages (from tensorflow_text) (0.15.0)\n",
            "Requirement already satisfied: tensorflow<2.16,>=2.15.0 in /usr/local/lib/python3.10/dist-packages (from tensorflow_text) (2.15.0)\n",
            "Requirement already satisfied: absl-py>=1.0.0 in /usr/local/lib/python3.10/dist-packages (from tensorflow<2.16,>=2.15.0->tensorflow_text) (1.4.0)\n",
            "Requirement already satisfied: astunparse>=1.6.0 in /usr/local/lib/python3.10/dist-packages (from tensorflow<2.16,>=2.15.0->tensorflow_text) (1.6.3)\n",
            "Requirement already satisfied: flatbuffers>=23.5.26 in /usr/local/lib/python3.10/dist-packages (from tensorflow<2.16,>=2.15.0->tensorflow_text) (23.5.26)\n",
            "Requirement already satisfied: gast!=0.5.0,!=0.5.1,!=0.5.2,>=0.2.1 in /usr/local/lib/python3.10/dist-packages (from tensorflow<2.16,>=2.15.0->tensorflow_text) (0.5.4)\n",
            "Requirement already satisfied: google-pasta>=0.1.1 in /usr/local/lib/python3.10/dist-packages (from tensorflow<2.16,>=2.15.0->tensorflow_text) (0.2.0)\n",
            "Requirement already satisfied: h5py>=2.9.0 in /usr/local/lib/python3.10/dist-packages (from tensorflow<2.16,>=2.15.0->tensorflow_text) (3.9.0)\n",
            "Requirement already satisfied: libclang>=13.0.0 in /usr/local/lib/python3.10/dist-packages (from tensorflow<2.16,>=2.15.0->tensorflow_text) (16.0.6)\n",
            "Requirement already satisfied: ml-dtypes~=0.2.0 in /usr/local/lib/python3.10/dist-packages (from tensorflow<2.16,>=2.15.0->tensorflow_text) (0.2.0)\n",
            "Requirement already satisfied: numpy<2.0.0,>=1.23.5 in /usr/local/lib/python3.10/dist-packages (from tensorflow<2.16,>=2.15.0->tensorflow_text) (1.23.5)\n",
            "Requirement already satisfied: opt-einsum>=2.3.2 in /usr/local/lib/python3.10/dist-packages (from tensorflow<2.16,>=2.15.0->tensorflow_text) (3.3.0)\n",
            "Requirement already satisfied: packaging in /usr/local/lib/python3.10/dist-packages (from tensorflow<2.16,>=2.15.0->tensorflow_text) (23.2)\n",
            "Requirement already satisfied: protobuf!=4.21.0,!=4.21.1,!=4.21.2,!=4.21.3,!=4.21.4,!=4.21.5,<5.0.0dev,>=3.20.3 in /usr/local/lib/python3.10/dist-packages (from tensorflow<2.16,>=2.15.0->tensorflow_text) (3.20.3)\n",
            "Requirement already satisfied: setuptools in /usr/local/lib/python3.10/dist-packages (from tensorflow<2.16,>=2.15.0->tensorflow_text) (67.7.2)\n",
            "Requirement already satisfied: six>=1.12.0 in /usr/local/lib/python3.10/dist-packages (from tensorflow<2.16,>=2.15.0->tensorflow_text) (1.16.0)\n",
            "Requirement already satisfied: termcolor>=1.1.0 in /usr/local/lib/python3.10/dist-packages (from tensorflow<2.16,>=2.15.0->tensorflow_text) (2.4.0)\n",
            "Requirement already satisfied: typing-extensions>=3.6.6 in /usr/local/lib/python3.10/dist-packages (from tensorflow<2.16,>=2.15.0->tensorflow_text) (4.5.0)\n",
            "Requirement already satisfied: wrapt<1.15,>=1.11.0 in /usr/local/lib/python3.10/dist-packages (from tensorflow<2.16,>=2.15.0->tensorflow_text) (1.14.1)\n",
            "Requirement already satisfied: tensorflow-io-gcs-filesystem>=0.23.1 in /usr/local/lib/python3.10/dist-packages (from tensorflow<2.16,>=2.15.0->tensorflow_text) (0.35.0)\n",
            "Requirement already satisfied: grpcio<2.0,>=1.24.3 in /usr/local/lib/python3.10/dist-packages (from tensorflow<2.16,>=2.15.0->tensorflow_text) (1.60.0)\n",
            "Requirement already satisfied: tensorboard<2.16,>=2.15 in /usr/local/lib/python3.10/dist-packages (from tensorflow<2.16,>=2.15.0->tensorflow_text) (2.15.1)\n",
            "Requirement already satisfied: tensorflow-estimator<2.16,>=2.15.0 in /usr/local/lib/python3.10/dist-packages (from tensorflow<2.16,>=2.15.0->tensorflow_text) (2.15.0)\n",
            "Requirement already satisfied: keras<2.16,>=2.15.0 in /usr/local/lib/python3.10/dist-packages (from tensorflow<2.16,>=2.15.0->tensorflow_text) (2.15.0)\n",
            "Requirement already satisfied: wheel<1.0,>=0.23.0 in /usr/local/lib/python3.10/dist-packages (from astunparse>=1.6.0->tensorflow<2.16,>=2.15.0->tensorflow_text) (0.42.0)\n",
            "Requirement already satisfied: google-auth<3,>=1.6.3 in /usr/local/lib/python3.10/dist-packages (from tensorboard<2.16,>=2.15->tensorflow<2.16,>=2.15.0->tensorflow_text) (2.17.3)\n",
            "Requirement already satisfied: google-auth-oauthlib<2,>=0.5 in /usr/local/lib/python3.10/dist-packages (from tensorboard<2.16,>=2.15->tensorflow<2.16,>=2.15.0->tensorflow_text) (1.2.0)\n",
            "Requirement already satisfied: markdown>=2.6.8 in /usr/local/lib/python3.10/dist-packages (from tensorboard<2.16,>=2.15->tensorflow<2.16,>=2.15.0->tensorflow_text) (3.5.1)\n",
            "Requirement already satisfied: requests<3,>=2.21.0 in /usr/local/lib/python3.10/dist-packages (from tensorboard<2.16,>=2.15->tensorflow<2.16,>=2.15.0->tensorflow_text) (2.31.0)\n",
            "Requirement already satisfied: tensorboard-data-server<0.8.0,>=0.7.0 in /usr/local/lib/python3.10/dist-packages (from tensorboard<2.16,>=2.15->tensorflow<2.16,>=2.15.0->tensorflow_text) (0.7.2)\n",
            "Requirement already satisfied: werkzeug>=1.0.1 in /usr/local/lib/python3.10/dist-packages (from tensorboard<2.16,>=2.15->tensorflow<2.16,>=2.15.0->tensorflow_text) (3.0.1)\n",
            "Requirement already satisfied: cachetools<6.0,>=2.0.0 in /usr/local/lib/python3.10/dist-packages (from google-auth<3,>=1.6.3->tensorboard<2.16,>=2.15->tensorflow<2.16,>=2.15.0->tensorflow_text) (5.3.2)\n",
            "Requirement already satisfied: pyasn1-modules>=0.2.1 in /usr/local/lib/python3.10/dist-packages (from google-auth<3,>=1.6.3->tensorboard<2.16,>=2.15->tensorflow<2.16,>=2.15.0->tensorflow_text) (0.3.0)\n",
            "Requirement already satisfied: rsa<5,>=3.1.4 in /usr/local/lib/python3.10/dist-packages (from google-auth<3,>=1.6.3->tensorboard<2.16,>=2.15->tensorflow<2.16,>=2.15.0->tensorflow_text) (4.9)\n",
            "Requirement already satisfied: requests-oauthlib>=0.7.0 in /usr/local/lib/python3.10/dist-packages (from google-auth-oauthlib<2,>=0.5->tensorboard<2.16,>=2.15->tensorflow<2.16,>=2.15.0->tensorflow_text) (1.3.1)\n",
            "Requirement already satisfied: charset-normalizer<4,>=2 in /usr/local/lib/python3.10/dist-packages (from requests<3,>=2.21.0->tensorboard<2.16,>=2.15->tensorflow<2.16,>=2.15.0->tensorflow_text) (3.3.2)\n",
            "Requirement already satisfied: idna<4,>=2.5 in /usr/local/lib/python3.10/dist-packages (from requests<3,>=2.21.0->tensorboard<2.16,>=2.15->tensorflow<2.16,>=2.15.0->tensorflow_text) (3.6)\n",
            "Requirement already satisfied: urllib3<3,>=1.21.1 in /usr/local/lib/python3.10/dist-packages (from requests<3,>=2.21.0->tensorboard<2.16,>=2.15->tensorflow<2.16,>=2.15.0->tensorflow_text) (2.0.7)\n",
            "Requirement already satisfied: certifi>=2017.4.17 in /usr/local/lib/python3.10/dist-packages (from requests<3,>=2.21.0->tensorboard<2.16,>=2.15->tensorflow<2.16,>=2.15.0->tensorflow_text) (2023.11.17)\n",
            "Requirement already satisfied: MarkupSafe>=2.1.1 in /usr/local/lib/python3.10/dist-packages (from werkzeug>=1.0.1->tensorboard<2.16,>=2.15->tensorflow<2.16,>=2.15.0->tensorflow_text) (2.1.3)\n",
            "Requirement already satisfied: pyasn1<0.6.0,>=0.4.6 in /usr/local/lib/python3.10/dist-packages (from pyasn1-modules>=0.2.1->google-auth<3,>=1.6.3->tensorboard<2.16,>=2.15->tensorflow<2.16,>=2.15.0->tensorflow_text) (0.5.1)\n",
            "Requirement already satisfied: oauthlib>=3.0.0 in /usr/local/lib/python3.10/dist-packages (from requests-oauthlib>=0.7.0->google-auth-oauthlib<2,>=0.5->tensorboard<2.16,>=2.15->tensorflow<2.16,>=2.15.0->tensorflow_text) (3.2.2)\n",
            "Installing collected packages: tensorflow_text\n",
            "Successfully installed tensorflow_text-2.15.0\n",
            "Collecting tf-models-official\n",
            "  Downloading tf_models_official-2.15.0-py2.py3-none-any.whl (2.7 MB)\n",
            "\u001b[2K     \u001b[90m━━━━━━━━━━━━━━━━━━━━━━━━━━━━━━━━━━━━━━━━\u001b[0m \u001b[32m2.7/2.7 MB\u001b[0m \u001b[31m12.0 MB/s\u001b[0m eta \u001b[36m0:00:00\u001b[0m\n",
            "\u001b[?25hRequirement already satisfied: Cython in /usr/local/lib/python3.10/dist-packages (from tf-models-official) (3.0.7)\n",
            "Requirement already satisfied: Pillow in /usr/local/lib/python3.10/dist-packages (from tf-models-official) (9.4.0)\n",
            "Requirement already satisfied: gin-config in /usr/local/lib/python3.10/dist-packages (from tf-models-official) (0.5.0)\n",
            "Requirement already satisfied: google-api-python-client>=1.6.7 in /usr/local/lib/python3.10/dist-packages (from tf-models-official) (2.84.0)\n",
            "Collecting immutabledict (from tf-models-official)\n",
            "  Downloading immutabledict-4.1.0-py3-none-any.whl (4.5 kB)\n",
            "Requirement already satisfied: kaggle>=1.3.9 in /usr/local/lib/python3.10/dist-packages (from tf-models-official) (1.5.16)\n",
            "Requirement already satisfied: matplotlib in /usr/local/lib/python3.10/dist-packages (from tf-models-official) (3.7.1)\n",
            "Requirement already satisfied: numpy>=1.20 in /usr/local/lib/python3.10/dist-packages (from tf-models-official) (1.23.5)\n",
            "Requirement already satisfied: oauth2client in /usr/local/lib/python3.10/dist-packages (from tf-models-official) (4.1.3)\n",
            "Requirement already satisfied: opencv-python-headless in /usr/local/lib/python3.10/dist-packages (from tf-models-official) (4.8.1.78)\n",
            "Requirement already satisfied: pandas>=0.22.0 in /usr/local/lib/python3.10/dist-packages (from tf-models-official) (1.5.3)\n",
            "Requirement already satisfied: psutil>=5.4.3 in /usr/local/lib/python3.10/dist-packages (from tf-models-official) (5.9.5)\n",
            "Requirement already satisfied: py-cpuinfo>=3.3.0 in /usr/local/lib/python3.10/dist-packages (from tf-models-official) (9.0.0)\n",
            "Requirement already satisfied: pycocotools in /usr/local/lib/python3.10/dist-packages (from tf-models-official) (2.0.7)\n",
            "Requirement already satisfied: pyyaml>=6.0.0 in /usr/local/lib/python3.10/dist-packages (from tf-models-official) (6.0.1)\n",
            "Collecting sacrebleu (from tf-models-official)\n",
            "  Downloading sacrebleu-2.4.0-py3-none-any.whl (106 kB)\n",
            "\u001b[2K     \u001b[90m━━━━━━━━━━━━━━━━━━━━━━━━━━━━━━━━━━━━━━━━\u001b[0m \u001b[32m106.3/106.3 kB\u001b[0m \u001b[31m15.1 MB/s\u001b[0m eta \u001b[36m0:00:00\u001b[0m\n",
            "\u001b[?25hRequirement already satisfied: scipy>=0.19.1 in /usr/local/lib/python3.10/dist-packages (from tf-models-official) (1.11.4)\n",
            "Collecting sentencepiece (from tf-models-official)\n",
            "  Downloading sentencepiece-0.1.99-cp310-cp310-manylinux_2_17_x86_64.manylinux2014_x86_64.whl (1.3 MB)\n",
            "\u001b[2K     \u001b[90m━━━━━━━━━━━━━━━━━━━━━━━━━━━━━━━━━━━━━━━━\u001b[0m \u001b[32m1.3/1.3 MB\u001b[0m \u001b[31m18.9 MB/s\u001b[0m eta \u001b[36m0:00:00\u001b[0m\n",
            "\u001b[?25hCollecting seqeval (from tf-models-official)\n",
            "  Downloading seqeval-1.2.2.tar.gz (43 kB)\n",
            "\u001b[2K     \u001b[90m━━━━━━━━━━━━━━━━━━━━━━━━━━━━━━━━━━━━━━━━\u001b[0m \u001b[32m43.6/43.6 kB\u001b[0m \u001b[31m6.7 MB/s\u001b[0m eta \u001b[36m0:00:00\u001b[0m\n",
            "\u001b[?25h  Preparing metadata (setup.py) ... \u001b[?25l\u001b[?25hdone\n",
            "Requirement already satisfied: six in /usr/local/lib/python3.10/dist-packages (from tf-models-official) (1.16.0)\n",
            "Requirement already satisfied: tensorflow-datasets in /usr/local/lib/python3.10/dist-packages (from tf-models-official) (4.9.4)\n",
            "Requirement already satisfied: tensorflow-hub>=0.6.0 in /usr/local/lib/python3.10/dist-packages (from tf-models-official) (0.15.0)\n",
            "Collecting tensorflow-model-optimization>=0.4.1 (from tf-models-official)\n",
            "  Downloading tensorflow_model_optimization-0.7.5-py2.py3-none-any.whl (241 kB)\n",
            "\u001b[2K     \u001b[90m━━━━━━━━━━━━━━━━━━━━━━━━━━━━━━━━━━━━━━━━\u001b[0m \u001b[32m241.2/241.2 kB\u001b[0m \u001b[31m23.3 MB/s\u001b[0m eta \u001b[36m0:00:00\u001b[0m\n",
            "\u001b[?25hRequirement already satisfied: tensorflow-text~=2.15.0 in /usr/local/lib/python3.10/dist-packages (from tf-models-official) (2.15.0)\n",
            "Requirement already satisfied: tensorflow~=2.15.0 in /usr/local/lib/python3.10/dist-packages (from tf-models-official) (2.15.0)\n",
            "Requirement already satisfied: tf-slim>=1.1.0 in /usr/local/lib/python3.10/dist-packages (from tf-models-official) (1.1.0)\n",
            "Requirement already satisfied: httplib2<1dev,>=0.15.0 in /usr/local/lib/python3.10/dist-packages (from google-api-python-client>=1.6.7->tf-models-official) (0.22.0)\n",
            "Requirement already satisfied: google-auth<3.0.0dev,>=1.19.0 in /usr/local/lib/python3.10/dist-packages (from google-api-python-client>=1.6.7->tf-models-official) (2.17.3)\n",
            "Requirement already satisfied: google-auth-httplib2>=0.1.0 in /usr/local/lib/python3.10/dist-packages (from google-api-python-client>=1.6.7->tf-models-official) (0.1.1)\n",
            "Requirement already satisfied: google-api-core!=2.0.*,!=2.1.*,!=2.2.*,!=2.3.0,<3.0.0dev,>=1.31.5 in /usr/local/lib/python3.10/dist-packages (from google-api-python-client>=1.6.7->tf-models-official) (2.11.1)\n",
            "Requirement already satisfied: uritemplate<5,>=3.0.1 in /usr/local/lib/python3.10/dist-packages (from google-api-python-client>=1.6.7->tf-models-official) (4.1.1)\n",
            "Requirement already satisfied: certifi in /usr/local/lib/python3.10/dist-packages (from kaggle>=1.3.9->tf-models-official) (2023.11.17)\n",
            "Requirement already satisfied: python-dateutil in /usr/local/lib/python3.10/dist-packages (from kaggle>=1.3.9->tf-models-official) (2.8.2)\n",
            "Requirement already satisfied: requests in /usr/local/lib/python3.10/dist-packages (from kaggle>=1.3.9->tf-models-official) (2.31.0)\n",
            "Requirement already satisfied: tqdm in /usr/local/lib/python3.10/dist-packages (from kaggle>=1.3.9->tf-models-official) (4.66.1)\n",
            "Requirement already satisfied: python-slugify in /usr/local/lib/python3.10/dist-packages (from kaggle>=1.3.9->tf-models-official) (8.0.1)\n",
            "Requirement already satisfied: urllib3 in /usr/local/lib/python3.10/dist-packages (from kaggle>=1.3.9->tf-models-official) (2.0.7)\n",
            "Requirement already satisfied: bleach in /usr/local/lib/python3.10/dist-packages (from kaggle>=1.3.9->tf-models-official) (6.1.0)\n",
            "Requirement already satisfied: pytz>=2020.1 in /usr/local/lib/python3.10/dist-packages (from pandas>=0.22.0->tf-models-official) (2023.3.post1)\n",
            "Requirement already satisfied: absl-py>=1.0.0 in /usr/local/lib/python3.10/dist-packages (from tensorflow~=2.15.0->tf-models-official) (1.4.0)\n",
            "Requirement already satisfied: astunparse>=1.6.0 in /usr/local/lib/python3.10/dist-packages (from tensorflow~=2.15.0->tf-models-official) (1.6.3)\n",
            "Requirement already satisfied: flatbuffers>=23.5.26 in /usr/local/lib/python3.10/dist-packages (from tensorflow~=2.15.0->tf-models-official) (23.5.26)\n",
            "Requirement already satisfied: gast!=0.5.0,!=0.5.1,!=0.5.2,>=0.2.1 in /usr/local/lib/python3.10/dist-packages (from tensorflow~=2.15.0->tf-models-official) (0.5.4)\n",
            "Requirement already satisfied: google-pasta>=0.1.1 in /usr/local/lib/python3.10/dist-packages (from tensorflow~=2.15.0->tf-models-official) (0.2.0)\n",
            "Requirement already satisfied: h5py>=2.9.0 in /usr/local/lib/python3.10/dist-packages (from tensorflow~=2.15.0->tf-models-official) (3.9.0)\n",
            "Requirement already satisfied: libclang>=13.0.0 in /usr/local/lib/python3.10/dist-packages (from tensorflow~=2.15.0->tf-models-official) (16.0.6)\n",
            "Requirement already satisfied: ml-dtypes~=0.2.0 in /usr/local/lib/python3.10/dist-packages (from tensorflow~=2.15.0->tf-models-official) (0.2.0)\n",
            "Requirement already satisfied: opt-einsum>=2.3.2 in /usr/local/lib/python3.10/dist-packages (from tensorflow~=2.15.0->tf-models-official) (3.3.0)\n",
            "Requirement already satisfied: packaging in /usr/local/lib/python3.10/dist-packages (from tensorflow~=2.15.0->tf-models-official) (23.2)\n",
            "Requirement already satisfied: protobuf!=4.21.0,!=4.21.1,!=4.21.2,!=4.21.3,!=4.21.4,!=4.21.5,<5.0.0dev,>=3.20.3 in /usr/local/lib/python3.10/dist-packages (from tensorflow~=2.15.0->tf-models-official) (3.20.3)\n",
            "Requirement already satisfied: setuptools in /usr/local/lib/python3.10/dist-packages (from tensorflow~=2.15.0->tf-models-official) (67.7.2)\n",
            "Requirement already satisfied: termcolor>=1.1.0 in /usr/local/lib/python3.10/dist-packages (from tensorflow~=2.15.0->tf-models-official) (2.4.0)\n",
            "Requirement already satisfied: typing-extensions>=3.6.6 in /usr/local/lib/python3.10/dist-packages (from tensorflow~=2.15.0->tf-models-official) (4.5.0)\n",
            "Requirement already satisfied: wrapt<1.15,>=1.11.0 in /usr/local/lib/python3.10/dist-packages (from tensorflow~=2.15.0->tf-models-official) (1.14.1)\n",
            "Requirement already satisfied: tensorflow-io-gcs-filesystem>=0.23.1 in /usr/local/lib/python3.10/dist-packages (from tensorflow~=2.15.0->tf-models-official) (0.35.0)\n",
            "Requirement already satisfied: grpcio<2.0,>=1.24.3 in /usr/local/lib/python3.10/dist-packages (from tensorflow~=2.15.0->tf-models-official) (1.60.0)\n",
            "Requirement already satisfied: tensorboard<2.16,>=2.15 in /usr/local/lib/python3.10/dist-packages (from tensorflow~=2.15.0->tf-models-official) (2.15.1)\n",
            "Requirement already satisfied: tensorflow-estimator<2.16,>=2.15.0 in /usr/local/lib/python3.10/dist-packages (from tensorflow~=2.15.0->tf-models-official) (2.15.0)\n",
            "Requirement already satisfied: keras<2.16,>=2.15.0 in /usr/local/lib/python3.10/dist-packages (from tensorflow~=2.15.0->tf-models-official) (2.15.0)\n",
            "Requirement already satisfied: dm-tree~=0.1.1 in /usr/local/lib/python3.10/dist-packages (from tensorflow-model-optimization>=0.4.1->tf-models-official) (0.1.8)\n",
            "Requirement already satisfied: contourpy>=1.0.1 in /usr/local/lib/python3.10/dist-packages (from matplotlib->tf-models-official) (1.2.0)\n",
            "Requirement already satisfied: cycler>=0.10 in /usr/local/lib/python3.10/dist-packages (from matplotlib->tf-models-official) (0.12.1)\n",
            "Requirement already satisfied: fonttools>=4.22.0 in /usr/local/lib/python3.10/dist-packages (from matplotlib->tf-models-official) (4.47.0)\n",
            "Requirement already satisfied: kiwisolver>=1.0.1 in /usr/local/lib/python3.10/dist-packages (from matplotlib->tf-models-official) (1.4.5)\n",
            "Requirement already satisfied: pyparsing>=2.3.1 in /usr/local/lib/python3.10/dist-packages (from matplotlib->tf-models-official) (3.1.1)\n",
            "Requirement already satisfied: pyasn1>=0.1.7 in /usr/local/lib/python3.10/dist-packages (from oauth2client->tf-models-official) (0.5.1)\n",
            "Requirement already satisfied: pyasn1-modules>=0.0.5 in /usr/local/lib/python3.10/dist-packages (from oauth2client->tf-models-official) (0.3.0)\n",
            "Requirement already satisfied: rsa>=3.1.4 in /usr/local/lib/python3.10/dist-packages (from oauth2client->tf-models-official) (4.9)\n",
            "Collecting portalocker (from sacrebleu->tf-models-official)\n",
            "  Downloading portalocker-2.8.2-py3-none-any.whl (17 kB)\n",
            "Requirement already satisfied: regex in /usr/local/lib/python3.10/dist-packages (from sacrebleu->tf-models-official) (2023.6.3)\n",
            "Requirement already satisfied: tabulate>=0.8.9 in /usr/local/lib/python3.10/dist-packages (from sacrebleu->tf-models-official) (0.9.0)\n",
            "Collecting colorama (from sacrebleu->tf-models-official)\n",
            "  Downloading colorama-0.4.6-py2.py3-none-any.whl (25 kB)\n",
            "Requirement already satisfied: lxml in /usr/local/lib/python3.10/dist-packages (from sacrebleu->tf-models-official) (4.9.4)\n",
            "Requirement already satisfied: scikit-learn>=0.21.3 in /usr/local/lib/python3.10/dist-packages (from seqeval->tf-models-official) (1.2.2)\n",
            "Requirement already satisfied: click in /usr/local/lib/python3.10/dist-packages (from tensorflow-datasets->tf-models-official) (8.1.7)\n",
            "Requirement already satisfied: etils[enp,epath,etree]>=0.9.0 in /usr/local/lib/python3.10/dist-packages (from tensorflow-datasets->tf-models-official) (1.6.0)\n",
            "Requirement already satisfied: promise in /usr/local/lib/python3.10/dist-packages (from tensorflow-datasets->tf-models-official) (2.3)\n",
            "Requirement already satisfied: tensorflow-metadata in /usr/local/lib/python3.10/dist-packages (from tensorflow-datasets->tf-models-official) (1.14.0)\n",
            "Requirement already satisfied: toml in /usr/local/lib/python3.10/dist-packages (from tensorflow-datasets->tf-models-official) (0.10.2)\n",
            "Requirement already satisfied: array-record>=0.5.0 in /usr/local/lib/python3.10/dist-packages (from tensorflow-datasets->tf-models-official) (0.5.0)\n",
            "Requirement already satisfied: wheel<1.0,>=0.23.0 in /usr/local/lib/python3.10/dist-packages (from astunparse>=1.6.0->tensorflow~=2.15.0->tf-models-official) (0.42.0)\n",
            "Requirement already satisfied: fsspec in /usr/local/lib/python3.10/dist-packages (from etils[enp,epath,etree]>=0.9.0->tensorflow-datasets->tf-models-official) (2023.6.0)\n",
            "Requirement already satisfied: importlib_resources in /usr/local/lib/python3.10/dist-packages (from etils[enp,epath,etree]>=0.9.0->tensorflow-datasets->tf-models-official) (6.1.1)\n",
            "Requirement already satisfied: zipp in /usr/local/lib/python3.10/dist-packages (from etils[enp,epath,etree]>=0.9.0->tensorflow-datasets->tf-models-official) (3.17.0)\n",
            "Requirement already satisfied: googleapis-common-protos<2.0.dev0,>=1.56.2 in /usr/local/lib/python3.10/dist-packages (from google-api-core!=2.0.*,!=2.1.*,!=2.2.*,!=2.3.0,<3.0.0dev,>=1.31.5->google-api-python-client>=1.6.7->tf-models-official) (1.62.0)\n",
            "Requirement already satisfied: cachetools<6.0,>=2.0.0 in /usr/local/lib/python3.10/dist-packages (from google-auth<3.0.0dev,>=1.19.0->google-api-python-client>=1.6.7->tf-models-official) (5.3.2)\n",
            "Requirement already satisfied: charset-normalizer<4,>=2 in /usr/local/lib/python3.10/dist-packages (from requests->kaggle>=1.3.9->tf-models-official) (3.3.2)\n",
            "Requirement already satisfied: idna<4,>=2.5 in /usr/local/lib/python3.10/dist-packages (from requests->kaggle>=1.3.9->tf-models-official) (3.6)\n",
            "Requirement already satisfied: joblib>=1.1.1 in /usr/local/lib/python3.10/dist-packages (from scikit-learn>=0.21.3->seqeval->tf-models-official) (1.3.2)\n",
            "Requirement already satisfied: threadpoolctl>=2.0.0 in /usr/local/lib/python3.10/dist-packages (from scikit-learn>=0.21.3->seqeval->tf-models-official) (3.2.0)\n",
            "Requirement already satisfied: google-auth-oauthlib<2,>=0.5 in /usr/local/lib/python3.10/dist-packages (from tensorboard<2.16,>=2.15->tensorflow~=2.15.0->tf-models-official) (1.2.0)\n",
            "Requirement already satisfied: markdown>=2.6.8 in /usr/local/lib/python3.10/dist-packages (from tensorboard<2.16,>=2.15->tensorflow~=2.15.0->tf-models-official) (3.5.1)\n",
            "Requirement already satisfied: tensorboard-data-server<0.8.0,>=0.7.0 in /usr/local/lib/python3.10/dist-packages (from tensorboard<2.16,>=2.15->tensorflow~=2.15.0->tf-models-official) (0.7.2)\n",
            "Requirement already satisfied: werkzeug>=1.0.1 in /usr/local/lib/python3.10/dist-packages (from tensorboard<2.16,>=2.15->tensorflow~=2.15.0->tf-models-official) (3.0.1)\n",
            "Requirement already satisfied: webencodings in /usr/local/lib/python3.10/dist-packages (from bleach->kaggle>=1.3.9->tf-models-official) (0.5.1)\n",
            "Requirement already satisfied: text-unidecode>=1.3 in /usr/local/lib/python3.10/dist-packages (from python-slugify->kaggle>=1.3.9->tf-models-official) (1.3)\n",
            "Requirement already satisfied: requests-oauthlib>=0.7.0 in /usr/local/lib/python3.10/dist-packages (from google-auth-oauthlib<2,>=0.5->tensorboard<2.16,>=2.15->tensorflow~=2.15.0->tf-models-official) (1.3.1)\n",
            "Requirement already satisfied: MarkupSafe>=2.1.1 in /usr/local/lib/python3.10/dist-packages (from werkzeug>=1.0.1->tensorboard<2.16,>=2.15->tensorflow~=2.15.0->tf-models-official) (2.1.3)\n",
            "Requirement already satisfied: oauthlib>=3.0.0 in /usr/local/lib/python3.10/dist-packages (from requests-oauthlib>=0.7.0->google-auth-oauthlib<2,>=0.5->tensorboard<2.16,>=2.15->tensorflow~=2.15.0->tf-models-official) (3.2.2)\n",
            "Building wheels for collected packages: seqeval\n",
            "  Building wheel for seqeval (setup.py) ... \u001b[?25l\u001b[?25hdone\n",
            "  Created wheel for seqeval: filename=seqeval-1.2.2-py3-none-any.whl size=16162 sha256=739ed562a7f354a8523f0cc0a47985800e86ccc31d30ad10d5686a7ab74849f4\n",
            "  Stored in directory: /root/.cache/pip/wheels/1a/67/4a/ad4082dd7dfc30f2abfe4d80a2ed5926a506eb8a972b4767fa\n",
            "Successfully built seqeval\n",
            "Installing collected packages: sentencepiece, tensorflow-model-optimization, portalocker, immutabledict, colorama, sacrebleu, seqeval, tf-models-official\n",
            "Successfully installed colorama-0.4.6 immutabledict-4.1.0 portalocker-2.8.2 sacrebleu-2.4.0 sentencepiece-0.1.99 seqeval-1.2.2 tensorflow-model-optimization-0.7.5 tf-models-official-2.15.0\n"
          ]
        }
      ]
    },
    {
      "cell_type": "code",
      "execution_count": 2,
      "metadata": {
        "id": "-dRpfo8zI8wa"
      },
      "outputs": [],
      "source": [
        "import pandas as pd\n",
        "import numpy as np"
      ]
    },
    {
      "cell_type": "code",
      "source": [
        "import os\n",
        "import shutil"
      ],
      "metadata": {
        "id": "XwY-NfuOay8x"
      },
      "execution_count": 3,
      "outputs": []
    },
    {
      "cell_type": "code",
      "source": [],
      "metadata": {
        "id": "ABjbWMHQXQkq"
      },
      "execution_count": 3,
      "outputs": []
    },
    {
      "cell_type": "code",
      "source": [
        "from tensorflow import keras\n",
        "import tensorflow as tf\n",
        "import tensorflow_hub as hub\n",
        "import tensorflow_text as text\n",
        "from official.nlp import optimization  # to create AdamW optimizer\n",
        "tf.get_logger().setLevel('ERROR')"
      ],
      "metadata": {
        "id": "BgLuhvnIKBPQ"
      },
      "execution_count": 4,
      "outputs": []
    },
    {
      "cell_type": "code",
      "source": [
        "import matplotlib.pyplot as plt"
      ],
      "metadata": {
        "id": "hqDGCrU57YzI"
      },
      "execution_count": 25,
      "outputs": []
    },
    {
      "cell_type": "code",
      "source": [
        "from sklearn.model_selection import train_test_split\n",
        "from sklearn.metrics import f1_score, accuracy_score"
      ],
      "metadata": {
        "id": "w2JgKcjSa425"
      },
      "execution_count": 42,
      "outputs": []
    },
    {
      "cell_type": "code",
      "source": [
        "pd.options.display.max_colwidth = 100"
      ],
      "metadata": {
        "id": "-z-c5saoUUhF"
      },
      "execution_count": 6,
      "outputs": []
    },
    {
      "cell_type": "markdown",
      "source": [
        "## 1. Dataset preparation"
      ],
      "metadata": {
        "id": "d7aeQvCBZc1f"
      }
    },
    {
      "cell_type": "markdown",
      "source": [
        "### 1.1 Loading the dataset"
      ],
      "metadata": {
        "id": "DR1z7rSWqJw3"
      }
    },
    {
      "cell_type": "code",
      "source": [
        "from google.colab import drive\n",
        "drive.mount('/content/drive')"
      ],
      "metadata": {
        "colab": {
          "base_uri": "https://localhost:8080/"
        },
        "id": "yNHHhIhuVYRk",
        "outputId": "eead1513-3f89-444c-9262-0b4c6739f04c"
      },
      "execution_count": 7,
      "outputs": [
        {
          "output_type": "stream",
          "name": "stdout",
          "text": [
            "Mounted at /content/drive\n"
          ]
        }
      ]
    },
    {
      "cell_type": "code",
      "source": [
        "dataset = pd.read_csv(\"/content/drive/MyDrive/Disaster Tweet Twitter/Dataset/cleaned_train.csv\")"
      ],
      "metadata": {
        "id": "y1__hQypZy0y"
      },
      "execution_count": 8,
      "outputs": []
    },
    {
      "cell_type": "code",
      "source": [
        "dataset.head()"
      ],
      "metadata": {
        "id": "W0QXjJU-1lrQ",
        "outputId": "b665d946-59f5-4c43-bbfd-16f84e225926",
        "colab": {
          "base_uri": "https://localhost:8080/",
          "height": 293
        }
      },
      "execution_count": 9,
      "outputs": [
        {
          "output_type": "execute_result",
          "data": {
            "text/plain": [
              "   Unnamed: 0  id keyword location  \\\n",
              "0           0   1     NaN      NaN   \n",
              "1           1   4     NaN      NaN   \n",
              "2           2   5     NaN      NaN   \n",
              "3           3   6     NaN      NaN   \n",
              "4           4   7     NaN      NaN   \n",
              "\n",
              "                                                                                                  text  \\\n",
              "0                                Our Deeds are the Reason of this #earthquake May ALLAH Forgive us all   \n",
              "1                                                               Forest fire near La Ronge Sask. Canada   \n",
              "2  All residents asked to 'shelter in place' are being notified by officers. No other evacuation or...   \n",
              "3                                    13,000 people receive #wildfires evacuation orders in California    \n",
              "4             Just got sent this photo from Ruby #Alaska as smoke from #wildfires pours into a school    \n",
              "\n",
              "   target  \n",
              "0       1  \n",
              "1       1  \n",
              "2       1  \n",
              "3       1  \n",
              "4       1  "
            ],
            "text/html": [
              "\n",
              "  <div id=\"df-bb74a62c-324a-4444-b2b9-18e078d237cd\" class=\"colab-df-container\">\n",
              "    <div>\n",
              "<style scoped>\n",
              "    .dataframe tbody tr th:only-of-type {\n",
              "        vertical-align: middle;\n",
              "    }\n",
              "\n",
              "    .dataframe tbody tr th {\n",
              "        vertical-align: top;\n",
              "    }\n",
              "\n",
              "    .dataframe thead th {\n",
              "        text-align: right;\n",
              "    }\n",
              "</style>\n",
              "<table border=\"1\" class=\"dataframe\">\n",
              "  <thead>\n",
              "    <tr style=\"text-align: right;\">\n",
              "      <th></th>\n",
              "      <th>Unnamed: 0</th>\n",
              "      <th>id</th>\n",
              "      <th>keyword</th>\n",
              "      <th>location</th>\n",
              "      <th>text</th>\n",
              "      <th>target</th>\n",
              "    </tr>\n",
              "  </thead>\n",
              "  <tbody>\n",
              "    <tr>\n",
              "      <th>0</th>\n",
              "      <td>0</td>\n",
              "      <td>1</td>\n",
              "      <td>NaN</td>\n",
              "      <td>NaN</td>\n",
              "      <td>Our Deeds are the Reason of this #earthquake May ALLAH Forgive us all</td>\n",
              "      <td>1</td>\n",
              "    </tr>\n",
              "    <tr>\n",
              "      <th>1</th>\n",
              "      <td>1</td>\n",
              "      <td>4</td>\n",
              "      <td>NaN</td>\n",
              "      <td>NaN</td>\n",
              "      <td>Forest fire near La Ronge Sask. Canada</td>\n",
              "      <td>1</td>\n",
              "    </tr>\n",
              "    <tr>\n",
              "      <th>2</th>\n",
              "      <td>2</td>\n",
              "      <td>5</td>\n",
              "      <td>NaN</td>\n",
              "      <td>NaN</td>\n",
              "      <td>All residents asked to 'shelter in place' are being notified by officers. No other evacuation or...</td>\n",
              "      <td>1</td>\n",
              "    </tr>\n",
              "    <tr>\n",
              "      <th>3</th>\n",
              "      <td>3</td>\n",
              "      <td>6</td>\n",
              "      <td>NaN</td>\n",
              "      <td>NaN</td>\n",
              "      <td>13,000 people receive #wildfires evacuation orders in California</td>\n",
              "      <td>1</td>\n",
              "    </tr>\n",
              "    <tr>\n",
              "      <th>4</th>\n",
              "      <td>4</td>\n",
              "      <td>7</td>\n",
              "      <td>NaN</td>\n",
              "      <td>NaN</td>\n",
              "      <td>Just got sent this photo from Ruby #Alaska as smoke from #wildfires pours into a school</td>\n",
              "      <td>1</td>\n",
              "    </tr>\n",
              "  </tbody>\n",
              "</table>\n",
              "</div>\n",
              "    <div class=\"colab-df-buttons\">\n",
              "\n",
              "  <div class=\"colab-df-container\">\n",
              "    <button class=\"colab-df-convert\" onclick=\"convertToInteractive('df-bb74a62c-324a-4444-b2b9-18e078d237cd')\"\n",
              "            title=\"Convert this dataframe to an interactive table.\"\n",
              "            style=\"display:none;\">\n",
              "\n",
              "  <svg xmlns=\"http://www.w3.org/2000/svg\" height=\"24px\" viewBox=\"0 -960 960 960\">\n",
              "    <path d=\"M120-120v-720h720v720H120Zm60-500h600v-160H180v160Zm220 220h160v-160H400v160Zm0 220h160v-160H400v160ZM180-400h160v-160H180v160Zm440 0h160v-160H620v160ZM180-180h160v-160H180v160Zm440 0h160v-160H620v160Z\"/>\n",
              "  </svg>\n",
              "    </button>\n",
              "\n",
              "  <style>\n",
              "    .colab-df-container {\n",
              "      display:flex;\n",
              "      gap: 12px;\n",
              "    }\n",
              "\n",
              "    .colab-df-convert {\n",
              "      background-color: #E8F0FE;\n",
              "      border: none;\n",
              "      border-radius: 50%;\n",
              "      cursor: pointer;\n",
              "      display: none;\n",
              "      fill: #1967D2;\n",
              "      height: 32px;\n",
              "      padding: 0 0 0 0;\n",
              "      width: 32px;\n",
              "    }\n",
              "\n",
              "    .colab-df-convert:hover {\n",
              "      background-color: #E2EBFA;\n",
              "      box-shadow: 0px 1px 2px rgba(60, 64, 67, 0.3), 0px 1px 3px 1px rgba(60, 64, 67, 0.15);\n",
              "      fill: #174EA6;\n",
              "    }\n",
              "\n",
              "    .colab-df-buttons div {\n",
              "      margin-bottom: 4px;\n",
              "    }\n",
              "\n",
              "    [theme=dark] .colab-df-convert {\n",
              "      background-color: #3B4455;\n",
              "      fill: #D2E3FC;\n",
              "    }\n",
              "\n",
              "    [theme=dark] .colab-df-convert:hover {\n",
              "      background-color: #434B5C;\n",
              "      box-shadow: 0px 1px 3px 1px rgba(0, 0, 0, 0.15);\n",
              "      filter: drop-shadow(0px 1px 2px rgba(0, 0, 0, 0.3));\n",
              "      fill: #FFFFFF;\n",
              "    }\n",
              "  </style>\n",
              "\n",
              "    <script>\n",
              "      const buttonEl =\n",
              "        document.querySelector('#df-bb74a62c-324a-4444-b2b9-18e078d237cd button.colab-df-convert');\n",
              "      buttonEl.style.display =\n",
              "        google.colab.kernel.accessAllowed ? 'block' : 'none';\n",
              "\n",
              "      async function convertToInteractive(key) {\n",
              "        const element = document.querySelector('#df-bb74a62c-324a-4444-b2b9-18e078d237cd');\n",
              "        const dataTable =\n",
              "          await google.colab.kernel.invokeFunction('convertToInteractive',\n",
              "                                                    [key], {});\n",
              "        if (!dataTable) return;\n",
              "\n",
              "        const docLinkHtml = 'Like what you see? Visit the ' +\n",
              "          '<a target=\"_blank\" href=https://colab.research.google.com/notebooks/data_table.ipynb>data table notebook</a>'\n",
              "          + ' to learn more about interactive tables.';\n",
              "        element.innerHTML = '';\n",
              "        dataTable['output_type'] = 'display_data';\n",
              "        await google.colab.output.renderOutput(dataTable, element);\n",
              "        const docLink = document.createElement('div');\n",
              "        docLink.innerHTML = docLinkHtml;\n",
              "        element.appendChild(docLink);\n",
              "      }\n",
              "    </script>\n",
              "  </div>\n",
              "\n",
              "\n",
              "<div id=\"df-cb627db2-a886-460c-b05d-8198450947ab\">\n",
              "  <button class=\"colab-df-quickchart\" onclick=\"quickchart('df-cb627db2-a886-460c-b05d-8198450947ab')\"\n",
              "            title=\"Suggest charts\"\n",
              "            style=\"display:none;\">\n",
              "\n",
              "<svg xmlns=\"http://www.w3.org/2000/svg\" height=\"24px\"viewBox=\"0 0 24 24\"\n",
              "     width=\"24px\">\n",
              "    <g>\n",
              "        <path d=\"M19 3H5c-1.1 0-2 .9-2 2v14c0 1.1.9 2 2 2h14c1.1 0 2-.9 2-2V5c0-1.1-.9-2-2-2zM9 17H7v-7h2v7zm4 0h-2V7h2v10zm4 0h-2v-4h2v4z\"/>\n",
              "    </g>\n",
              "</svg>\n",
              "  </button>\n",
              "\n",
              "<style>\n",
              "  .colab-df-quickchart {\n",
              "      --bg-color: #E8F0FE;\n",
              "      --fill-color: #1967D2;\n",
              "      --hover-bg-color: #E2EBFA;\n",
              "      --hover-fill-color: #174EA6;\n",
              "      --disabled-fill-color: #AAA;\n",
              "      --disabled-bg-color: #DDD;\n",
              "  }\n",
              "\n",
              "  [theme=dark] .colab-df-quickchart {\n",
              "      --bg-color: #3B4455;\n",
              "      --fill-color: #D2E3FC;\n",
              "      --hover-bg-color: #434B5C;\n",
              "      --hover-fill-color: #FFFFFF;\n",
              "      --disabled-bg-color: #3B4455;\n",
              "      --disabled-fill-color: #666;\n",
              "  }\n",
              "\n",
              "  .colab-df-quickchart {\n",
              "    background-color: var(--bg-color);\n",
              "    border: none;\n",
              "    border-radius: 50%;\n",
              "    cursor: pointer;\n",
              "    display: none;\n",
              "    fill: var(--fill-color);\n",
              "    height: 32px;\n",
              "    padding: 0;\n",
              "    width: 32px;\n",
              "  }\n",
              "\n",
              "  .colab-df-quickchart:hover {\n",
              "    background-color: var(--hover-bg-color);\n",
              "    box-shadow: 0 1px 2px rgba(60, 64, 67, 0.3), 0 1px 3px 1px rgba(60, 64, 67, 0.15);\n",
              "    fill: var(--button-hover-fill-color);\n",
              "  }\n",
              "\n",
              "  .colab-df-quickchart-complete:disabled,\n",
              "  .colab-df-quickchart-complete:disabled:hover {\n",
              "    background-color: var(--disabled-bg-color);\n",
              "    fill: var(--disabled-fill-color);\n",
              "    box-shadow: none;\n",
              "  }\n",
              "\n",
              "  .colab-df-spinner {\n",
              "    border: 2px solid var(--fill-color);\n",
              "    border-color: transparent;\n",
              "    border-bottom-color: var(--fill-color);\n",
              "    animation:\n",
              "      spin 1s steps(1) infinite;\n",
              "  }\n",
              "\n",
              "  @keyframes spin {\n",
              "    0% {\n",
              "      border-color: transparent;\n",
              "      border-bottom-color: var(--fill-color);\n",
              "      border-left-color: var(--fill-color);\n",
              "    }\n",
              "    20% {\n",
              "      border-color: transparent;\n",
              "      border-left-color: var(--fill-color);\n",
              "      border-top-color: var(--fill-color);\n",
              "    }\n",
              "    30% {\n",
              "      border-color: transparent;\n",
              "      border-left-color: var(--fill-color);\n",
              "      border-top-color: var(--fill-color);\n",
              "      border-right-color: var(--fill-color);\n",
              "    }\n",
              "    40% {\n",
              "      border-color: transparent;\n",
              "      border-right-color: var(--fill-color);\n",
              "      border-top-color: var(--fill-color);\n",
              "    }\n",
              "    60% {\n",
              "      border-color: transparent;\n",
              "      border-right-color: var(--fill-color);\n",
              "    }\n",
              "    80% {\n",
              "      border-color: transparent;\n",
              "      border-right-color: var(--fill-color);\n",
              "      border-bottom-color: var(--fill-color);\n",
              "    }\n",
              "    90% {\n",
              "      border-color: transparent;\n",
              "      border-bottom-color: var(--fill-color);\n",
              "    }\n",
              "  }\n",
              "</style>\n",
              "\n",
              "  <script>\n",
              "    async function quickchart(key) {\n",
              "      const quickchartButtonEl =\n",
              "        document.querySelector('#' + key + ' button');\n",
              "      quickchartButtonEl.disabled = true;  // To prevent multiple clicks.\n",
              "      quickchartButtonEl.classList.add('colab-df-spinner');\n",
              "      try {\n",
              "        const charts = await google.colab.kernel.invokeFunction(\n",
              "            'suggestCharts', [key], {});\n",
              "      } catch (error) {\n",
              "        console.error('Error during call to suggestCharts:', error);\n",
              "      }\n",
              "      quickchartButtonEl.classList.remove('colab-df-spinner');\n",
              "      quickchartButtonEl.classList.add('colab-df-quickchart-complete');\n",
              "    }\n",
              "    (() => {\n",
              "      let quickchartButtonEl =\n",
              "        document.querySelector('#df-cb627db2-a886-460c-b05d-8198450947ab button');\n",
              "      quickchartButtonEl.style.display =\n",
              "        google.colab.kernel.accessAllowed ? 'block' : 'none';\n",
              "    })();\n",
              "  </script>\n",
              "</div>\n",
              "\n",
              "    </div>\n",
              "  </div>\n"
            ]
          },
          "metadata": {},
          "execution_count": 9
        }
      ]
    },
    {
      "cell_type": "markdown",
      "source": [
        "### 1.2 Adding Features to text"
      ],
      "metadata": {
        "id": "dlQXd55nKZFY"
      }
    },
    {
      "cell_type": "code",
      "source": [
        "dataset[\"keyword\"].fillna(\" \",inplace=True)"
      ],
      "metadata": {
        "id": "hO6cEVVw8mYD"
      },
      "execution_count": 10,
      "outputs": []
    },
    {
      "cell_type": "code",
      "source": [
        "dataset[\"text_with_features\"]=\"\"\n",
        "\n",
        "for i in range(len(dataset)):\n",
        "  text_with_features=dataset.loc[i,\"text\"]\n",
        "  lastcharacter=dataset.loc[i,\"text\"]\n",
        "  if isinstance(lastcharacter, str)==False:\n",
        "    lastcharacter=str(lastcharacter)\n",
        "\n",
        "  if isinstance(text_with_features, str)==False:\n",
        "    text_with_features=str(text_with_features)\n",
        "\n",
        "\n",
        "  #hashtags=dataset.loc[i,\"hashtag\"].replace(\"[\",\"\").replace(\"]\",\"\").replace(\"'\",\"\")\n",
        "  if lastcharacter[-1]==\".\":\n",
        "    text_with_features=text_with_features+dataset.loc[i,\"keyword\"]#+\".\"+hashtags\n",
        "  else:\n",
        "    text_with_features=text_with_features+\".\"+dataset.loc[i,\"keyword\"]#+\".\"+hashtags\n",
        "\n",
        "  dataset.loc[i,\"text_with_features\"]=text_with_features\n",
        "\n",
        "\n"
      ],
      "metadata": {
        "id": "rDQu0Hct8tb7"
      },
      "execution_count": 11,
      "outputs": []
    },
    {
      "cell_type": "code",
      "source": [
        "dataset.head()"
      ],
      "metadata": {
        "colab": {
          "base_uri": "https://localhost:8080/",
          "height": 466
        },
        "id": "cgWCDM4RHpkQ",
        "outputId": "33e0f000-0932-43df-e9ba-c6990e6f61d2"
      },
      "execution_count": 12,
      "outputs": [
        {
          "output_type": "execute_result",
          "data": {
            "text/plain": [
              "   Unnamed: 0  id keyword location  \\\n",
              "0           0   1              NaN   \n",
              "1           1   4              NaN   \n",
              "2           2   5              NaN   \n",
              "3           3   6              NaN   \n",
              "4           4   7              NaN   \n",
              "\n",
              "                                                                                                  text  \\\n",
              "0                                Our Deeds are the Reason of this #earthquake May ALLAH Forgive us all   \n",
              "1                                                               Forest fire near La Ronge Sask. Canada   \n",
              "2  All residents asked to 'shelter in place' are being notified by officers. No other evacuation or...   \n",
              "3                                    13,000 people receive #wildfires evacuation orders in California    \n",
              "4             Just got sent this photo from Ruby #Alaska as smoke from #wildfires pours into a school    \n",
              "\n",
              "   target  \\\n",
              "0       1   \n",
              "1       1   \n",
              "2       1   \n",
              "3       1   \n",
              "4       1   \n",
              "\n",
              "                                                                                    text_with_features  \n",
              "0                              Our Deeds are the Reason of this #earthquake May ALLAH Forgive us all.   \n",
              "1                                                             Forest fire near La Ronge Sask. Canada.   \n",
              "2  All residents asked to 'shelter in place' are being notified by officers. No other evacuation or...  \n",
              "3                                  13,000 people receive #wildfires evacuation orders in California .   \n",
              "4           Just got sent this photo from Ruby #Alaska as smoke from #wildfires pours into a school .   "
            ],
            "text/html": [
              "\n",
              "  <div id=\"df-97bb71fb-596c-4fa1-ae92-a6e3a9efa3d3\" class=\"colab-df-container\">\n",
              "    <div>\n",
              "<style scoped>\n",
              "    .dataframe tbody tr th:only-of-type {\n",
              "        vertical-align: middle;\n",
              "    }\n",
              "\n",
              "    .dataframe tbody tr th {\n",
              "        vertical-align: top;\n",
              "    }\n",
              "\n",
              "    .dataframe thead th {\n",
              "        text-align: right;\n",
              "    }\n",
              "</style>\n",
              "<table border=\"1\" class=\"dataframe\">\n",
              "  <thead>\n",
              "    <tr style=\"text-align: right;\">\n",
              "      <th></th>\n",
              "      <th>Unnamed: 0</th>\n",
              "      <th>id</th>\n",
              "      <th>keyword</th>\n",
              "      <th>location</th>\n",
              "      <th>text</th>\n",
              "      <th>target</th>\n",
              "      <th>text_with_features</th>\n",
              "    </tr>\n",
              "  </thead>\n",
              "  <tbody>\n",
              "    <tr>\n",
              "      <th>0</th>\n",
              "      <td>0</td>\n",
              "      <td>1</td>\n",
              "      <td></td>\n",
              "      <td>NaN</td>\n",
              "      <td>Our Deeds are the Reason of this #earthquake May ALLAH Forgive us all</td>\n",
              "      <td>1</td>\n",
              "      <td>Our Deeds are the Reason of this #earthquake May ALLAH Forgive us all.</td>\n",
              "    </tr>\n",
              "    <tr>\n",
              "      <th>1</th>\n",
              "      <td>1</td>\n",
              "      <td>4</td>\n",
              "      <td></td>\n",
              "      <td>NaN</td>\n",
              "      <td>Forest fire near La Ronge Sask. Canada</td>\n",
              "      <td>1</td>\n",
              "      <td>Forest fire near La Ronge Sask. Canada.</td>\n",
              "    </tr>\n",
              "    <tr>\n",
              "      <th>2</th>\n",
              "      <td>2</td>\n",
              "      <td>5</td>\n",
              "      <td></td>\n",
              "      <td>NaN</td>\n",
              "      <td>All residents asked to 'shelter in place' are being notified by officers. No other evacuation or...</td>\n",
              "      <td>1</td>\n",
              "      <td>All residents asked to 'shelter in place' are being notified by officers. No other evacuation or...</td>\n",
              "    </tr>\n",
              "    <tr>\n",
              "      <th>3</th>\n",
              "      <td>3</td>\n",
              "      <td>6</td>\n",
              "      <td></td>\n",
              "      <td>NaN</td>\n",
              "      <td>13,000 people receive #wildfires evacuation orders in California</td>\n",
              "      <td>1</td>\n",
              "      <td>13,000 people receive #wildfires evacuation orders in California .</td>\n",
              "    </tr>\n",
              "    <tr>\n",
              "      <th>4</th>\n",
              "      <td>4</td>\n",
              "      <td>7</td>\n",
              "      <td></td>\n",
              "      <td>NaN</td>\n",
              "      <td>Just got sent this photo from Ruby #Alaska as smoke from #wildfires pours into a school</td>\n",
              "      <td>1</td>\n",
              "      <td>Just got sent this photo from Ruby #Alaska as smoke from #wildfires pours into a school .</td>\n",
              "    </tr>\n",
              "  </tbody>\n",
              "</table>\n",
              "</div>\n",
              "    <div class=\"colab-df-buttons\">\n",
              "\n",
              "  <div class=\"colab-df-container\">\n",
              "    <button class=\"colab-df-convert\" onclick=\"convertToInteractive('df-97bb71fb-596c-4fa1-ae92-a6e3a9efa3d3')\"\n",
              "            title=\"Convert this dataframe to an interactive table.\"\n",
              "            style=\"display:none;\">\n",
              "\n",
              "  <svg xmlns=\"http://www.w3.org/2000/svg\" height=\"24px\" viewBox=\"0 -960 960 960\">\n",
              "    <path d=\"M120-120v-720h720v720H120Zm60-500h600v-160H180v160Zm220 220h160v-160H400v160Zm0 220h160v-160H400v160ZM180-400h160v-160H180v160Zm440 0h160v-160H620v160ZM180-180h160v-160H180v160Zm440 0h160v-160H620v160Z\"/>\n",
              "  </svg>\n",
              "    </button>\n",
              "\n",
              "  <style>\n",
              "    .colab-df-container {\n",
              "      display:flex;\n",
              "      gap: 12px;\n",
              "    }\n",
              "\n",
              "    .colab-df-convert {\n",
              "      background-color: #E8F0FE;\n",
              "      border: none;\n",
              "      border-radius: 50%;\n",
              "      cursor: pointer;\n",
              "      display: none;\n",
              "      fill: #1967D2;\n",
              "      height: 32px;\n",
              "      padding: 0 0 0 0;\n",
              "      width: 32px;\n",
              "    }\n",
              "\n",
              "    .colab-df-convert:hover {\n",
              "      background-color: #E2EBFA;\n",
              "      box-shadow: 0px 1px 2px rgba(60, 64, 67, 0.3), 0px 1px 3px 1px rgba(60, 64, 67, 0.15);\n",
              "      fill: #174EA6;\n",
              "    }\n",
              "\n",
              "    .colab-df-buttons div {\n",
              "      margin-bottom: 4px;\n",
              "    }\n",
              "\n",
              "    [theme=dark] .colab-df-convert {\n",
              "      background-color: #3B4455;\n",
              "      fill: #D2E3FC;\n",
              "    }\n",
              "\n",
              "    [theme=dark] .colab-df-convert:hover {\n",
              "      background-color: #434B5C;\n",
              "      box-shadow: 0px 1px 3px 1px rgba(0, 0, 0, 0.15);\n",
              "      filter: drop-shadow(0px 1px 2px rgba(0, 0, 0, 0.3));\n",
              "      fill: #FFFFFF;\n",
              "    }\n",
              "  </style>\n",
              "\n",
              "    <script>\n",
              "      const buttonEl =\n",
              "        document.querySelector('#df-97bb71fb-596c-4fa1-ae92-a6e3a9efa3d3 button.colab-df-convert');\n",
              "      buttonEl.style.display =\n",
              "        google.colab.kernel.accessAllowed ? 'block' : 'none';\n",
              "\n",
              "      async function convertToInteractive(key) {\n",
              "        const element = document.querySelector('#df-97bb71fb-596c-4fa1-ae92-a6e3a9efa3d3');\n",
              "        const dataTable =\n",
              "          await google.colab.kernel.invokeFunction('convertToInteractive',\n",
              "                                                    [key], {});\n",
              "        if (!dataTable) return;\n",
              "\n",
              "        const docLinkHtml = 'Like what you see? Visit the ' +\n",
              "          '<a target=\"_blank\" href=https://colab.research.google.com/notebooks/data_table.ipynb>data table notebook</a>'\n",
              "          + ' to learn more about interactive tables.';\n",
              "        element.innerHTML = '';\n",
              "        dataTable['output_type'] = 'display_data';\n",
              "        await google.colab.output.renderOutput(dataTable, element);\n",
              "        const docLink = document.createElement('div');\n",
              "        docLink.innerHTML = docLinkHtml;\n",
              "        element.appendChild(docLink);\n",
              "      }\n",
              "    </script>\n",
              "  </div>\n",
              "\n",
              "\n",
              "<div id=\"df-dff24d61-9c1c-4278-a5dc-c97d07da38bf\">\n",
              "  <button class=\"colab-df-quickchart\" onclick=\"quickchart('df-dff24d61-9c1c-4278-a5dc-c97d07da38bf')\"\n",
              "            title=\"Suggest charts\"\n",
              "            style=\"display:none;\">\n",
              "\n",
              "<svg xmlns=\"http://www.w3.org/2000/svg\" height=\"24px\"viewBox=\"0 0 24 24\"\n",
              "     width=\"24px\">\n",
              "    <g>\n",
              "        <path d=\"M19 3H5c-1.1 0-2 .9-2 2v14c0 1.1.9 2 2 2h14c1.1 0 2-.9 2-2V5c0-1.1-.9-2-2-2zM9 17H7v-7h2v7zm4 0h-2V7h2v10zm4 0h-2v-4h2v4z\"/>\n",
              "    </g>\n",
              "</svg>\n",
              "  </button>\n",
              "\n",
              "<style>\n",
              "  .colab-df-quickchart {\n",
              "      --bg-color: #E8F0FE;\n",
              "      --fill-color: #1967D2;\n",
              "      --hover-bg-color: #E2EBFA;\n",
              "      --hover-fill-color: #174EA6;\n",
              "      --disabled-fill-color: #AAA;\n",
              "      --disabled-bg-color: #DDD;\n",
              "  }\n",
              "\n",
              "  [theme=dark] .colab-df-quickchart {\n",
              "      --bg-color: #3B4455;\n",
              "      --fill-color: #D2E3FC;\n",
              "      --hover-bg-color: #434B5C;\n",
              "      --hover-fill-color: #FFFFFF;\n",
              "      --disabled-bg-color: #3B4455;\n",
              "      --disabled-fill-color: #666;\n",
              "  }\n",
              "\n",
              "  .colab-df-quickchart {\n",
              "    background-color: var(--bg-color);\n",
              "    border: none;\n",
              "    border-radius: 50%;\n",
              "    cursor: pointer;\n",
              "    display: none;\n",
              "    fill: var(--fill-color);\n",
              "    height: 32px;\n",
              "    padding: 0;\n",
              "    width: 32px;\n",
              "  }\n",
              "\n",
              "  .colab-df-quickchart:hover {\n",
              "    background-color: var(--hover-bg-color);\n",
              "    box-shadow: 0 1px 2px rgba(60, 64, 67, 0.3), 0 1px 3px 1px rgba(60, 64, 67, 0.15);\n",
              "    fill: var(--button-hover-fill-color);\n",
              "  }\n",
              "\n",
              "  .colab-df-quickchart-complete:disabled,\n",
              "  .colab-df-quickchart-complete:disabled:hover {\n",
              "    background-color: var(--disabled-bg-color);\n",
              "    fill: var(--disabled-fill-color);\n",
              "    box-shadow: none;\n",
              "  }\n",
              "\n",
              "  .colab-df-spinner {\n",
              "    border: 2px solid var(--fill-color);\n",
              "    border-color: transparent;\n",
              "    border-bottom-color: var(--fill-color);\n",
              "    animation:\n",
              "      spin 1s steps(1) infinite;\n",
              "  }\n",
              "\n",
              "  @keyframes spin {\n",
              "    0% {\n",
              "      border-color: transparent;\n",
              "      border-bottom-color: var(--fill-color);\n",
              "      border-left-color: var(--fill-color);\n",
              "    }\n",
              "    20% {\n",
              "      border-color: transparent;\n",
              "      border-left-color: var(--fill-color);\n",
              "      border-top-color: var(--fill-color);\n",
              "    }\n",
              "    30% {\n",
              "      border-color: transparent;\n",
              "      border-left-color: var(--fill-color);\n",
              "      border-top-color: var(--fill-color);\n",
              "      border-right-color: var(--fill-color);\n",
              "    }\n",
              "    40% {\n",
              "      border-color: transparent;\n",
              "      border-right-color: var(--fill-color);\n",
              "      border-top-color: var(--fill-color);\n",
              "    }\n",
              "    60% {\n",
              "      border-color: transparent;\n",
              "      border-right-color: var(--fill-color);\n",
              "    }\n",
              "    80% {\n",
              "      border-color: transparent;\n",
              "      border-right-color: var(--fill-color);\n",
              "      border-bottom-color: var(--fill-color);\n",
              "    }\n",
              "    90% {\n",
              "      border-color: transparent;\n",
              "      border-bottom-color: var(--fill-color);\n",
              "    }\n",
              "  }\n",
              "</style>\n",
              "\n",
              "  <script>\n",
              "    async function quickchart(key) {\n",
              "      const quickchartButtonEl =\n",
              "        document.querySelector('#' + key + ' button');\n",
              "      quickchartButtonEl.disabled = true;  // To prevent multiple clicks.\n",
              "      quickchartButtonEl.classList.add('colab-df-spinner');\n",
              "      try {\n",
              "        const charts = await google.colab.kernel.invokeFunction(\n",
              "            'suggestCharts', [key], {});\n",
              "      } catch (error) {\n",
              "        console.error('Error during call to suggestCharts:', error);\n",
              "      }\n",
              "      quickchartButtonEl.classList.remove('colab-df-spinner');\n",
              "      quickchartButtonEl.classList.add('colab-df-quickchart-complete');\n",
              "    }\n",
              "    (() => {\n",
              "      let quickchartButtonEl =\n",
              "        document.querySelector('#df-dff24d61-9c1c-4278-a5dc-c97d07da38bf button');\n",
              "      quickchartButtonEl.style.display =\n",
              "        google.colab.kernel.accessAllowed ? 'block' : 'none';\n",
              "    })();\n",
              "  </script>\n",
              "</div>\n",
              "\n",
              "    </div>\n",
              "  </div>\n"
            ]
          },
          "metadata": {},
          "execution_count": 12
        }
      ]
    },
    {
      "cell_type": "markdown",
      "source": [
        "### 1.3 Train Validation Test Split"
      ],
      "metadata": {
        "id": "MAOgCD2AqPPo"
      }
    },
    {
      "cell_type": "code",
      "source": [
        "X = dataset[\"text_with_features\"]\n",
        "y = dataset[\"target\"]"
      ],
      "metadata": {
        "id": "umIKzL4XLII_"
      },
      "execution_count": 13,
      "outputs": []
    },
    {
      "cell_type": "code",
      "source": [
        "X_train,X_test,y_train,y_test=train_test_split(X,y,test_size=0.10, random_state=42)"
      ],
      "metadata": {
        "id": "3R4U50e3u835"
      },
      "execution_count": 14,
      "outputs": []
    },
    {
      "cell_type": "code",
      "source": [
        "X_train,X_valid,y_train,y_valid=train_test_split(X_train,y_train,test_size=0.10, random_state=42)"
      ],
      "metadata": {
        "id": "Qqggmw5jvacp"
      },
      "execution_count": 15,
      "outputs": []
    },
    {
      "cell_type": "code",
      "source": [
        "X_train = [sentence for sentence in X_train]\n",
        "X_valid = [sentence for sentence in X_valid]"
      ],
      "metadata": {
        "id": "LA4FSCxh7ap9"
      },
      "execution_count": 16,
      "outputs": []
    },
    {
      "cell_type": "code",
      "source": [
        "y_train = list(y_train)\n",
        "y_valid = list(y_valid)\n",
        "y_test = list(y_test)"
      ],
      "metadata": {
        "id": "p3RyvCpj8Ygs"
      },
      "execution_count": 17,
      "outputs": []
    },
    {
      "cell_type": "markdown",
      "source": [
        "## 2 Modelling"
      ],
      "metadata": {
        "id": "Qi15Bk94Kfd3"
      }
    },
    {
      "cell_type": "markdown",
      "source": [
        "### 2.1 Definning call backs"
      ],
      "metadata": {
        "id": "u5N2ydoJVgyE"
      }
    },
    {
      "cell_type": "code",
      "source": [
        "class modelCheckPointOnF1(keras.callbacks.Callback):\n",
        "  best_f1 = 0\n",
        "  save_path = \"model_weights\"\n",
        "\n",
        "\n",
        "  def on_epoch_end(self, epoch, logs=None):\n",
        "    precision = logs['val_precision']\n",
        "    recall = logs['val_recall']\n",
        "    f1_score = 2*precision*recall/(precision+recall)\n",
        "    print(f\" val_f1_score:{f1_score}\")\n",
        "    if f1_score>self.best_f1:\n",
        "      self.on_epoch_endbest_f1 = f1_score\n",
        "      self.model.save_weights(\"./model_weights\")"
      ],
      "metadata": {
        "id": "802TrGCjVf_d"
      },
      "execution_count": 18,
      "outputs": []
    },
    {
      "cell_type": "markdown",
      "source": [
        "### 2.2 Defining Model"
      ],
      "metadata": {
        "id": "wt0HdbwwqdBW"
      }
    },
    {
      "cell_type": "code",
      "source": [
        "def build_classifier_model_v1():\n",
        "  text_input = tf.keras.layers.Input(shape=(), dtype=tf.string, name='text')\n",
        "  preprocessing_layer = hub.KerasLayer(\"https://tfhub.dev/tensorflow/bert_en_uncased_preprocess/3\", name='preprocessing')\n",
        "  encoder_inputs = preprocessing_layer(text_input)\n",
        "  encoder = hub.KerasLayer('https://tfhub.dev/tensorflow/small_bert/bert_en_uncased_L-4_H-256_A-4/1', trainable=True, name='BERT_encoder')\n",
        "  outputs = encoder(encoder_inputs)\n",
        "  net = outputs['pooled_output']\n",
        "  net = tf.keras.layers.Dropout(0.4)(net)\n",
        "  net = tf.keras.layers.Dense(1, activation=\"sigmoid\", name='classifier')(net)\n",
        "  return tf.keras.Model(text_input, net)"
      ],
      "metadata": {
        "id": "xykBjx6HrpsR"
      },
      "execution_count": 19,
      "outputs": []
    },
    {
      "cell_type": "code",
      "source": [
        "loss = tf.keras.losses.BinaryCrossentropy()\n",
        "metrics = [tf.keras.metrics.BinaryAccuracy(),tf.keras.metrics.Precision(name=\"precision\"),tf.keras.metrics.Recall(name=\"recall\")]"
      ],
      "metadata": {
        "id": "jecVmhomsZbq"
      },
      "execution_count": 20,
      "outputs": []
    },
    {
      "cell_type": "code",
      "source": [
        "epochs = 80\n",
        "batch_size = 32\n",
        "steps_per_epoch =  len(X_train)/batch_size\n",
        "num_train_steps = steps_per_epoch * epochs\n",
        "num_warmup_steps = int(0.1*num_train_steps)\n",
        "\n",
        "init_lr = 3e-6\n",
        "optimizer = optimization.create_optimizer(init_lr=init_lr,\n",
        "                                          num_train_steps=num_train_steps,\n",
        "                                          num_warmup_steps=num_warmup_steps,\n",
        "                                          optimizer_type='adamw')"
      ],
      "metadata": {
        "id": "eSOoMMMnv3ex"
      },
      "execution_count": 21,
      "outputs": []
    },
    {
      "cell_type": "code",
      "source": [
        "classifier_model_v1 = build_classifier_model_v1()\n",
        "classifier_model_v1.compile(optimizer=optimizer,\n",
        "                         loss=loss,\n",
        "                         metrics=metrics)"
      ],
      "metadata": {
        "id": "MC4t4hn9v5SR"
      },
      "execution_count": 22,
      "outputs": []
    },
    {
      "cell_type": "markdown",
      "source": [
        "### 2.3 Training Model"
      ],
      "metadata": {
        "id": "-O8QLYWHLQUp"
      }
    },
    {
      "cell_type": "code",
      "source": [
        "history = classifier_model_v1.fit(X_train,y_train,validation_data=(X_valid,y_valid),epochs=epochs,callbacks=[modelCheckPointOnF1()])"
      ],
      "metadata": {
        "colab": {
          "base_uri": "https://localhost:8080/"
        },
        "id": "IS0GVoe65ZDR",
        "outputId": "7bd4e193-aac3-45f9-9e26-5a8d56ec68f4"
      },
      "execution_count": 23,
      "outputs": [
        {
          "output_type": "stream",
          "name": "stdout",
          "text": [
            "Epoch 1/80\n",
            "177/177 [==============================] - ETA: 0s - loss: 0.8655 - binary_accuracy: 0.4466 - precision: 0.3993 - recall: 0.6904 val_f1_score:0.53333334627001\n",
            "177/177 [==============================] - 38s 148ms/step - loss: 0.8655 - binary_accuracy: 0.4466 - precision: 0.3993 - recall: 0.6904 - val_loss: 0.7708 - val_binary_accuracy: 0.4204 - val_precision: 0.3969 - val_recall: 0.8125\n",
            "Epoch 2/80\n",
            "177/177 [==============================] - ETA: 0s - loss: 0.8018 - binary_accuracy: 0.4776 - precision: 0.4027 - recall: 0.5649 val_f1_score:0.36529680489698396\n",
            "177/177 [==============================] - 26s 148ms/step - loss: 0.8018 - binary_accuracy: 0.4776 - precision: 0.4027 - recall: 0.5649 - val_loss: 0.6871 - val_binary_accuracy: 0.5573 - val_precision: 0.4396 - val_recall: 0.3125\n",
            "Epoch 3/80\n",
            "177/177 [==============================] - ETA: 0s - loss: 0.7370 - binary_accuracy: 0.5403 - precision: 0.4379 - recall: 0.4239 val_f1_score:0.34463276854803077\n",
            "177/177 [==============================] - 26s 146ms/step - loss: 0.7370 - binary_accuracy: 0.5403 - precision: 0.4379 - recall: 0.4239 - val_loss: 0.6433 - val_binary_accuracy: 0.6306 - val_precision: 0.6224 - val_recall: 0.2383\n",
            "Epoch 4/80\n",
            "177/177 [==============================] - ETA: 0s - loss: 0.6919 - binary_accuracy: 0.5932 - precision: 0.5050 - recall: 0.4373 val_f1_score:0.520681264441117\n",
            "177/177 [==============================] - 26s 145ms/step - loss: 0.6919 - binary_accuracy: 0.5932 - precision: 0.5050 - recall: 0.4373 - val_loss: 0.6055 - val_binary_accuracy: 0.6863 - val_precision: 0.6903 - val_recall: 0.4180\n",
            "Epoch 5/80\n",
            "177/177 [==============================] - ETA: 0s - loss: 0.6539 - binary_accuracy: 0.6305 - precision: 0.5587 - recall: 0.4743 val_f1_score:0.6284500988785218\n",
            "177/177 [==============================] - 25s 144ms/step - loss: 0.6539 - binary_accuracy: 0.6305 - precision: 0.5587 - recall: 0.4743 - val_loss: 0.5723 - val_binary_accuracy: 0.7213 - val_precision: 0.6884 - val_recall: 0.5781\n",
            "Epoch 6/80\n",
            "177/177 [==============================] - ETA: 0s - loss: 0.6197 - binary_accuracy: 0.6687 - precision: 0.6080 - recall: 0.5425 val_f1_score:0.655097618942447\n",
            "177/177 [==============================] - 25s 141ms/step - loss: 0.6197 - binary_accuracy: 0.6687 - precision: 0.6080 - recall: 0.5425 - val_loss: 0.5443 - val_binary_accuracy: 0.7468 - val_precision: 0.7366 - val_recall: 0.5898\n",
            "Epoch 7/80\n",
            "177/177 [==============================] - ETA: 0s - loss: 0.5838 - binary_accuracy: 0.7064 - precision: 0.6639 - recall: 0.5765 val_f1_score:0.6754966989269303\n",
            "177/177 [==============================] - 27s 153ms/step - loss: 0.5838 - binary_accuracy: 0.7064 - precision: 0.6639 - recall: 0.5765 - val_loss: 0.5171 - val_binary_accuracy: 0.7659 - val_precision: 0.7766 - val_recall: 0.5977\n",
            "Epoch 8/80\n",
            "177/177 [==============================] - ETA: 0s - loss: 0.5586 - binary_accuracy: 0.7291 - precision: 0.6966 - recall: 0.6020 val_f1_score:0.7046413509049732\n",
            "177/177 [==============================] - 30s 168ms/step - loss: 0.5586 - binary_accuracy: 0.7291 - precision: 0.6966 - recall: 0.6020 - val_loss: 0.4919 - val_binary_accuracy: 0.7771 - val_precision: 0.7661 - val_recall: 0.6523\n",
            "Epoch 9/80\n",
            "177/177 [==============================] - ETA: 0s - loss: 0.5357 - binary_accuracy: 0.7528 - precision: 0.7255 - recall: 0.6395 val_f1_score:0.7157894817838377\n",
            "177/177 [==============================] - 26s 145ms/step - loss: 0.5357 - binary_accuracy: 0.7528 - precision: 0.7255 - recall: 0.6395 - val_loss: 0.4717 - val_binary_accuracy: 0.7850 - val_precision: 0.7763 - val_recall: 0.6641\n",
            "Epoch 10/80\n",
            "177/177 [==============================] - ETA: 0s - loss: 0.5238 - binary_accuracy: 0.7567 - precision: 0.7271 - recall: 0.6516 val_f1_score:0.7310924457717468\n",
            "177/177 [==============================] - 25s 144ms/step - loss: 0.5238 - binary_accuracy: 0.7567 - precision: 0.7271 - recall: 0.6516 - val_loss: 0.4587 - val_binary_accuracy: 0.7962 - val_precision: 0.7909 - val_recall: 0.6797\n",
            "Epoch 11/80\n",
            "177/177 [==============================] - ETA: 0s - loss: 0.4966 - binary_accuracy: 0.7733 - precision: 0.7522 - recall: 0.6675 val_f1_score:0.7333333259158663\n",
            "177/177 [==============================] - 25s 141ms/step - loss: 0.4966 - binary_accuracy: 0.7733 - precision: 0.7522 - recall: 0.6675 - val_loss: 0.4478 - val_binary_accuracy: 0.7962 - val_precision: 0.7857 - val_recall: 0.6875\n",
            "Epoch 12/80\n",
            "177/177 [==============================] - ETA: 0s - loss: 0.4918 - binary_accuracy: 0.7802 - precision: 0.7588 - recall: 0.6809 val_f1_score:0.7341772172718816\n",
            "177/177 [==============================] - 24s 138ms/step - loss: 0.4918 - binary_accuracy: 0.7802 - precision: 0.7588 - recall: 0.6809 - val_loss: 0.4432 - val_binary_accuracy: 0.7994 - val_precision: 0.7982 - val_recall: 0.6797\n",
            "Epoch 13/80\n",
            "177/177 [==============================] - ETA: 0s - loss: 0.4774 - binary_accuracy: 0.7917 - precision: 0.7766 - recall: 0.6912 val_f1_score:0.7448559791507314\n",
            "177/177 [==============================] - 25s 139ms/step - loss: 0.4774 - binary_accuracy: 0.7917 - precision: 0.7766 - recall: 0.6912 - val_loss: 0.4398 - val_binary_accuracy: 0.8025 - val_precision: 0.7870 - val_recall: 0.7070\n",
            "Epoch 14/80\n",
            "177/177 [==============================] - ETA: 0s - loss: 0.4750 - binary_accuracy: 0.7839 - precision: 0.7622 - recall: 0.6882 val_f1_score:0.7658730028377847\n",
            "177/177 [==============================] - 25s 139ms/step - loss: 0.4750 - binary_accuracy: 0.7839 - precision: 0.7622 - recall: 0.6882 - val_loss: 0.4372 - val_binary_accuracy: 0.8121 - val_precision: 0.7782 - val_recall: 0.7539\n",
            "Epoch 15/80\n",
            "177/177 [==============================] - ETA: 0s - loss: 0.4702 - binary_accuracy: 0.7935 - precision: 0.7687 - recall: 0.7107 val_f1_score:0.7580645291539804\n",
            "177/177 [==============================] - 26s 144ms/step - loss: 0.4702 - binary_accuracy: 0.7935 - precision: 0.7687 - recall: 0.7107 - val_loss: 0.4293 - val_binary_accuracy: 0.8089 - val_precision: 0.7833 - val_recall: 0.7344\n",
            "Epoch 16/80\n",
            "177/177 [==============================] - ETA: 0s - loss: 0.4511 - binary_accuracy: 0.8023 - precision: 0.7873 - recall: 0.7102 val_f1_score:0.7689243155894483\n",
            "177/177 [==============================] - 26s 145ms/step - loss: 0.4511 - binary_accuracy: 0.8023 - precision: 0.7873 - recall: 0.7102 - val_loss: 0.4275 - val_binary_accuracy: 0.8153 - val_precision: 0.7846 - val_recall: 0.7539\n",
            "Epoch 17/80\n",
            "177/177 [==============================] - ETA: 0s - loss: 0.4460 - binary_accuracy: 0.8039 - precision: 0.7847 - recall: 0.7197 val_f1_score:0.762499992582533\n",
            "177/177 [==============================] - 26s 144ms/step - loss: 0.4460 - binary_accuracy: 0.8039 - precision: 0.7847 - recall: 0.7197 - val_loss: 0.4209 - val_binary_accuracy: 0.8185 - val_precision: 0.8170 - val_recall: 0.7148\n",
            "Epoch 18/80\n",
            "177/177 [==============================] - ETA: 0s - loss: 0.4439 - binary_accuracy: 0.8053 - precision: 0.7874 - recall: 0.7201 val_f1_score:0.7682926889704227\n",
            "177/177 [==============================] - 26s 145ms/step - loss: 0.4439 - binary_accuracy: 0.8053 - precision: 0.7874 - recall: 0.7201 - val_loss: 0.4230 - val_binary_accuracy: 0.8185 - val_precision: 0.8008 - val_recall: 0.7383\n",
            "Epoch 19/80\n",
            "177/177 [==============================] - ETA: 0s - loss: 0.4308 - binary_accuracy: 0.8108 - precision: 0.7943 - recall: 0.7275 val_f1_score:0.7638603650816232\n",
            "177/177 [==============================] - 27s 152ms/step - loss: 0.4308 - binary_accuracy: 0.8108 - precision: 0.7943 - recall: 0.7275 - val_loss: 0.4213 - val_binary_accuracy: 0.8169 - val_precision: 0.8052 - val_recall: 0.7266\n",
            "Epoch 20/80\n",
            "177/177 [==============================] - ETA: 0s - loss: 0.4279 - binary_accuracy: 0.8151 - precision: 0.7988 - recall: 0.7344 val_f1_score:0.763485469292848\n",
            "177/177 [==============================] - 27s 151ms/step - loss: 0.4279 - binary_accuracy: 0.8151 - precision: 0.7988 - recall: 0.7344 - val_loss: 0.4188 - val_binary_accuracy: 0.8185 - val_precision: 0.8142 - val_recall: 0.7188\n",
            "Epoch 21/80\n",
            "177/177 [==============================] - ETA: 0s - loss: 0.4296 - binary_accuracy: 0.8195 - precision: 0.8065 - recall: 0.7370 val_f1_score:0.773547095817085\n",
            "177/177 [==============================] - 27s 151ms/step - loss: 0.4296 - binary_accuracy: 0.8195 - precision: 0.8065 - recall: 0.7370 - val_loss: 0.4205 - val_binary_accuracy: 0.8201 - val_precision: 0.7942 - val_recall: 0.7539\n",
            "Epoch 22/80\n",
            "177/177 [==============================] - ETA: 0s - loss: 0.4259 - binary_accuracy: 0.8183 - precision: 0.8022 - recall: 0.7395 val_f1_score:0.7780040726225413\n",
            "177/177 [==============================] - 26s 146ms/step - loss: 0.4259 - binary_accuracy: 0.8183 - precision: 0.8022 - recall: 0.7395 - val_loss: 0.4159 - val_binary_accuracy: 0.8264 - val_precision: 0.8128 - val_recall: 0.7461\n",
            "Epoch 23/80\n",
            "177/177 [==============================] - ETA: 0s - loss: 0.4210 - binary_accuracy: 0.8193 - precision: 0.8070 - recall: 0.7357 val_f1_score:0.7795918281373257\n",
            "177/177 [==============================] - 26s 145ms/step - loss: 0.4210 - binary_accuracy: 0.8193 - precision: 0.8070 - recall: 0.7357 - val_loss: 0.4158 - val_binary_accuracy: 0.8280 - val_precision: 0.8162 - val_recall: 0.7461\n",
            "Epoch 24/80\n",
            "177/177 [==============================] - ETA: 0s - loss: 0.4178 - binary_accuracy: 0.8176 - precision: 0.7995 - recall: 0.7413 val_f1_score:0.7795918281373257\n",
            "177/177 [==============================] - 25s 144ms/step - loss: 0.4178 - binary_accuracy: 0.8176 - precision: 0.7995 - recall: 0.7413 - val_loss: 0.4146 - val_binary_accuracy: 0.8280 - val_precision: 0.8162 - val_recall: 0.7461\n",
            "Epoch 25/80\n",
            "177/177 [==============================] - ETA: 0s - loss: 0.4057 - binary_accuracy: 0.8262 - precision: 0.8161 - recall: 0.7443 val_f1_score:0.7780040726225413\n",
            "177/177 [==============================] - 25s 140ms/step - loss: 0.4057 - binary_accuracy: 0.8262 - precision: 0.8161 - recall: 0.7443 - val_loss: 0.4144 - val_binary_accuracy: 0.8264 - val_precision: 0.8128 - val_recall: 0.7461\n",
            "Epoch 26/80\n",
            "177/177 [==============================] - ETA: 0s - loss: 0.4051 - binary_accuracy: 0.8269 - precision: 0.8135 - recall: 0.7503 val_f1_score:0.7839999981384277\n",
            "177/177 [==============================] - 26s 145ms/step - loss: 0.4051 - binary_accuracy: 0.8269 - precision: 0.8135 - recall: 0.7503 - val_loss: 0.4173 - val_binary_accuracy: 0.8280 - val_precision: 0.8033 - val_recall: 0.7656\n",
            "Epoch 27/80\n",
            "177/177 [==============================] - ETA: 0s - loss: 0.4028 - binary_accuracy: 0.8303 - precision: 0.8184 - recall: 0.7538 val_f1_score:0.7766599653413967\n",
            "177/177 [==============================] - 25s 139ms/step - loss: 0.4028 - binary_accuracy: 0.8303 - precision: 0.8184 - recall: 0.7538 - val_loss: 0.4165 - val_binary_accuracy: 0.8232 - val_precision: 0.8008 - val_recall: 0.7539\n",
            "Epoch 28/80\n",
            "177/177 [==============================] - ETA: 0s - loss: 0.4023 - binary_accuracy: 0.8310 - precision: 0.8214 - recall: 0.7516 val_f1_score:0.7766599653413967\n",
            "177/177 [==============================] - 25s 142ms/step - loss: 0.4023 - binary_accuracy: 0.8310 - precision: 0.8214 - recall: 0.7516 - val_loss: 0.4154 - val_binary_accuracy: 0.8232 - val_precision: 0.8008 - val_recall: 0.7539\n",
            "Epoch 29/80\n",
            "177/177 [==============================] - ETA: 0s - loss: 0.3954 - binary_accuracy: 0.8361 - precision: 0.8271 - recall: 0.7594 val_f1_score:0.7757575800598622\n",
            "177/177 [==============================] - 25s 144ms/step - loss: 0.3954 - binary_accuracy: 0.8361 - precision: 0.8271 - recall: 0.7594 - val_loss: 0.4155 - val_binary_accuracy: 0.8232 - val_precision: 0.8033 - val_recall: 0.7500\n",
            "Epoch 30/80\n",
            "177/177 [==============================] - ETA: 0s - loss: 0.3945 - binary_accuracy: 0.8384 - precision: 0.8322 - recall: 0.7594 val_f1_score:0.7795275506737346\n",
            "177/177 [==============================] - 24s 138ms/step - loss: 0.3945 - binary_accuracy: 0.8384 - precision: 0.8322 - recall: 0.7594 - val_loss: 0.4182 - val_binary_accuracy: 0.8217 - val_precision: 0.7857 - val_recall: 0.7734\n",
            "Epoch 31/80\n",
            "177/177 [==============================] - ETA: 0s - loss: 0.3897 - binary_accuracy: 0.8344 - precision: 0.8245 - recall: 0.7577 val_f1_score:0.7784431033001268\n",
            "177/177 [==============================] - 26s 145ms/step - loss: 0.3897 - binary_accuracy: 0.8344 - precision: 0.8245 - recall: 0.7577 - val_loss: 0.4150 - val_binary_accuracy: 0.8232 - val_precision: 0.7959 - val_recall: 0.7617\n",
            "Epoch 32/80\n",
            "177/177 [==============================] - ETA: 0s - loss: 0.3869 - binary_accuracy: 0.8361 - precision: 0.8309 - recall: 0.7542 val_f1_score:0.7866927655819023\n",
            "177/177 [==============================] - 26s 147ms/step - loss: 0.3869 - binary_accuracy: 0.8361 - precision: 0.8309 - recall: 0.7542 - val_loss: 0.4223 - val_binary_accuracy: 0.8264 - val_precision: 0.7882 - val_recall: 0.7852\n",
            "Epoch 33/80\n",
            "177/177 [==============================] - ETA: 0s - loss: 0.3863 - binary_accuracy: 0.8393 - precision: 0.8314 - recall: 0.7633 val_f1_score:0.7795918281373257\n",
            "177/177 [==============================] - 26s 147ms/step - loss: 0.3863 - binary_accuracy: 0.8393 - precision: 0.8314 - recall: 0.7633 - val_loss: 0.4141 - val_binary_accuracy: 0.8280 - val_precision: 0.8162 - val_recall: 0.7461\n",
            "Epoch 34/80\n",
            "177/177 [==============================] - ETA: 0s - loss: 0.3766 - binary_accuracy: 0.8407 - precision: 0.8355 - recall: 0.7620 val_f1_score:0.7822580663768359\n",
            "177/177 [==============================] - 26s 146ms/step - loss: 0.3766 - binary_accuracy: 0.8407 - precision: 0.8355 - recall: 0.7620 - val_loss: 0.4154 - val_binary_accuracy: 0.8280 - val_precision: 0.8083 - val_recall: 0.7578\n",
            "Epoch 35/80\n",
            "177/177 [==============================] - ETA: 0s - loss: 0.3735 - binary_accuracy: 0.8430 - precision: 0.8426 - recall: 0.7594 val_f1_score:0.771371781603393\n",
            "177/177 [==============================] - 26s 145ms/step - loss: 0.3735 - binary_accuracy: 0.8430 - precision: 0.8426 - recall: 0.7594 - val_loss: 0.4205 - val_binary_accuracy: 0.8169 - val_precision: 0.7854 - val_recall: 0.7578\n",
            "Epoch 36/80\n",
            "177/177 [==============================] - ETA: 0s - loss: 0.3722 - binary_accuracy: 0.8414 - precision: 0.8348 - recall: 0.7650 val_f1_score:0.7771203124389461\n",
            "177/177 [==============================] - 25s 141ms/step - loss: 0.3722 - binary_accuracy: 0.8414 - precision: 0.8348 - recall: 0.7650 - val_loss: 0.4214 - val_binary_accuracy: 0.8201 - val_precision: 0.7849 - val_recall: 0.7695\n",
            "Epoch 37/80\n",
            "177/177 [==============================] - ETA: 0s - loss: 0.3669 - binary_accuracy: 0.8503 - precision: 0.8476 - recall: 0.7745 val_f1_score:0.7766599653413967\n",
            "177/177 [==============================] - 26s 144ms/step - loss: 0.3669 - binary_accuracy: 0.8503 - precision: 0.8476 - recall: 0.7745 - val_loss: 0.4178 - val_binary_accuracy: 0.8232 - val_precision: 0.8008 - val_recall: 0.7539\n",
            "Epoch 38/80\n",
            "177/177 [==============================] - ETA: 0s - loss: 0.3668 - binary_accuracy: 0.8453 - precision: 0.8426 - recall: 0.7663 val_f1_score:0.7819253368267182\n",
            "177/177 [==============================] - 25s 141ms/step - loss: 0.3668 - binary_accuracy: 0.8453 - precision: 0.8426 - recall: 0.7663 - val_loss: 0.4262 - val_binary_accuracy: 0.8232 - val_precision: 0.7866 - val_recall: 0.7773\n",
            "Epoch 39/80\n",
            "177/177 [==============================] - ETA: 0s - loss: 0.3592 - binary_accuracy: 0.8517 - precision: 0.8452 - recall: 0.7818 val_f1_score:0.7707910812115576\n",
            "177/177 [==============================] - 26s 145ms/step - loss: 0.3592 - binary_accuracy: 0.8517 - precision: 0.8452 - recall: 0.7818 - val_loss: 0.4200 - val_binary_accuracy: 0.8201 - val_precision: 0.8017 - val_recall: 0.7422\n",
            "Epoch 40/80\n",
            "177/177 [==============================] - ETA: 0s - loss: 0.3631 - binary_accuracy: 0.8506 - precision: 0.8487 - recall: 0.7740 val_f1_score:0.7857142922319011\n",
            "177/177 [==============================] - 25s 141ms/step - loss: 0.3631 - binary_accuracy: 0.8506 - precision: 0.8487 - recall: 0.7740 - val_loss: 0.4221 - val_binary_accuracy: 0.8280 - val_precision: 0.7984 - val_recall: 0.7734\n",
            "Epoch 41/80\n",
            "177/177 [==============================] - ETA: 0s - loss: 0.3640 - binary_accuracy: 0.8510 - precision: 0.8449 - recall: 0.7801 val_f1_score:0.7848605631219041\n",
            "177/177 [==============================] - 26s 145ms/step - loss: 0.3640 - binary_accuracy: 0.8510 - precision: 0.8449 - recall: 0.7801 - val_loss: 0.4225 - val_binary_accuracy: 0.8280 - val_precision: 0.8008 - val_recall: 0.7695\n",
            "Epoch 42/80\n",
            "177/177 [==============================] - ETA: 0s - loss: 0.3603 - binary_accuracy: 0.8551 - precision: 0.8511 - recall: 0.7840 val_f1_score:0.7782258101730267\n",
            "177/177 [==============================] - 25s 143ms/step - loss: 0.3603 - binary_accuracy: 0.8551 - precision: 0.8511 - recall: 0.7840 - val_loss: 0.4216 - val_binary_accuracy: 0.8248 - val_precision: 0.8042 - val_recall: 0.7539\n",
            "Epoch 43/80\n",
            "177/177 [==============================] - ETA: 0s - loss: 0.3582 - binary_accuracy: 0.8551 - precision: 0.8568 - recall: 0.7766 val_f1_score:0.7855711404231882\n",
            "177/177 [==============================] - 26s 145ms/step - loss: 0.3582 - binary_accuracy: 0.8551 - precision: 0.8568 - recall: 0.7766 - val_loss: 0.4215 - val_binary_accuracy: 0.8296 - val_precision: 0.8066 - val_recall: 0.7656\n",
            "Epoch 44/80\n",
            "177/177 [==============================] - ETA: 0s - loss: 0.3478 - binary_accuracy: 0.8521 - precision: 0.8486 - recall: 0.7784 val_f1_score:0.7831325280266622\n",
            "177/177 [==============================] - 26s 145ms/step - loss: 0.3478 - binary_accuracy: 0.8521 - precision: 0.8486 - recall: 0.7784 - val_loss: 0.4200 - val_binary_accuracy: 0.8280 - val_precision: 0.8058 - val_recall: 0.7617\n",
            "Epoch 45/80\n",
            "177/177 [==============================] - ETA: 0s - loss: 0.3520 - binary_accuracy: 0.8526 - precision: 0.8459 - recall: 0.7835 val_f1_score:0.788844625005018\n",
            "177/177 [==============================] - 26s 144ms/step - loss: 0.3520 - binary_accuracy: 0.8526 - precision: 0.8459 - recall: 0.7835 - val_loss: 0.4234 - val_binary_accuracy: 0.8312 - val_precision: 0.8049 - val_recall: 0.7734\n",
            "Epoch 46/80\n",
            "177/177 [==============================] - ETA: 0s - loss: 0.3503 - binary_accuracy: 0.8607 - precision: 0.8540 - recall: 0.7969 val_f1_score:0.7896825443379792\n",
            "177/177 [==============================] - 27s 152ms/step - loss: 0.3503 - binary_accuracy: 0.8607 - precision: 0.8540 - recall: 0.7969 - val_loss: 0.4261 - val_binary_accuracy: 0.8312 - val_precision: 0.8024 - val_recall: 0.7773\n",
            "Epoch 47/80\n",
            "177/177 [==============================] - ETA: 0s - loss: 0.3399 - binary_accuracy: 0.8623 - precision: 0.8592 - recall: 0.7947 val_f1_score:0.7839999981384277\n",
            "177/177 [==============================] - 27s 151ms/step - loss: 0.3399 - binary_accuracy: 0.8623 - precision: 0.8592 - recall: 0.7947 - val_loss: 0.4251 - val_binary_accuracy: 0.8280 - val_precision: 0.8033 - val_recall: 0.7656\n",
            "Epoch 48/80\n",
            "177/177 [==============================] - ETA: 0s - loss: 0.3388 - binary_accuracy: 0.8623 - precision: 0.8619 - recall: 0.7913 val_f1_score:0.7896825443379792\n",
            "177/177 [==============================] - 26s 144ms/step - loss: 0.3388 - binary_accuracy: 0.8623 - precision: 0.8619 - recall: 0.7913 - val_loss: 0.4280 - val_binary_accuracy: 0.8312 - val_precision: 0.8024 - val_recall: 0.7773\n",
            "Epoch 49/80\n",
            "177/177 [==============================] - ETA: 0s - loss: 0.3400 - binary_accuracy: 0.8586 - precision: 0.8571 - recall: 0.7865 val_f1_score:0.7896825443379792\n",
            "177/177 [==============================] - 26s 145ms/step - loss: 0.3400 - binary_accuracy: 0.8586 - precision: 0.8571 - recall: 0.7865 - val_loss: 0.4274 - val_binary_accuracy: 0.8312 - val_precision: 0.8024 - val_recall: 0.7773\n",
            "Epoch 50/80\n",
            "177/177 [==============================] - ETA: 0s - loss: 0.3311 - binary_accuracy: 0.8660 - precision: 0.8583 - recall: 0.8068 val_f1_score:0.7896825443379792\n",
            "177/177 [==============================] - 26s 146ms/step - loss: 0.3311 - binary_accuracy: 0.8660 - precision: 0.8583 - recall: 0.8068 - val_loss: 0.4281 - val_binary_accuracy: 0.8312 - val_precision: 0.8024 - val_recall: 0.7773\n",
            "Epoch 51/80\n",
            "177/177 [==============================] - ETA: 0s - loss: 0.3387 - binary_accuracy: 0.8643 - precision: 0.8619 - recall: 0.7969 val_f1_score:0.7865612666845176\n",
            "177/177 [==============================] - 26s 147ms/step - loss: 0.3387 - binary_accuracy: 0.8643 - precision: 0.8619 - recall: 0.7969 - val_loss: 0.4274 - val_binary_accuracy: 0.8280 - val_precision: 0.7960 - val_recall: 0.7773\n",
            "Epoch 52/80\n",
            "177/177 [==============================] - ETA: 0s - loss: 0.3366 - binary_accuracy: 0.8602 - precision: 0.8544 - recall: 0.7947 val_f1_score:0.7944111748520898\n",
            "177/177 [==============================] - 26s 146ms/step - loss: 0.3366 - binary_accuracy: 0.8602 - precision: 0.8544 - recall: 0.7947 - val_loss: 0.4273 - val_binary_accuracy: 0.8360 - val_precision: 0.8122 - val_recall: 0.7773\n",
            "Epoch 53/80\n",
            "177/177 [==============================] - ETA: 0s - loss: 0.3320 - binary_accuracy: 0.8673 - precision: 0.8699 - recall: 0.7956 val_f1_score:0.788844625005018\n",
            "177/177 [==============================] - 26s 145ms/step - loss: 0.3320 - binary_accuracy: 0.8673 - precision: 0.8699 - recall: 0.7956 - val_loss: 0.4292 - val_binary_accuracy: 0.8312 - val_precision: 0.8049 - val_recall: 0.7734\n",
            "Epoch 54/80\n",
            "177/177 [==============================] - ETA: 0s - loss: 0.3228 - binary_accuracy: 0.8694 - precision: 0.8689 - recall: 0.8029 val_f1_score:0.7858546067680929\n",
            "177/177 [==============================] - 25s 139ms/step - loss: 0.3228 - binary_accuracy: 0.8694 - precision: 0.8689 - recall: 0.8029 - val_loss: 0.4331 - val_binary_accuracy: 0.8264 - val_precision: 0.7905 - val_recall: 0.7812\n",
            "Epoch 55/80\n",
            "177/177 [==============================] - ETA: 0s - loss: 0.3313 - binary_accuracy: 0.8667 - precision: 0.8680 - recall: 0.7965 val_f1_score:0.7865612666845176\n",
            "177/177 [==============================] - 24s 138ms/step - loss: 0.3313 - binary_accuracy: 0.8667 - precision: 0.8680 - recall: 0.7965 - val_loss: 0.4345 - val_binary_accuracy: 0.8280 - val_precision: 0.7960 - val_recall: 0.7773\n",
            "Epoch 56/80\n",
            "177/177 [==============================] - ETA: 0s - loss: 0.3290 - binary_accuracy: 0.8680 - precision: 0.8667 - recall: 0.8016 val_f1_score:0.7827788713734639\n",
            "177/177 [==============================] - 26s 145ms/step - loss: 0.3290 - binary_accuracy: 0.8680 - precision: 0.8667 - recall: 0.8016 - val_loss: 0.4364 - val_binary_accuracy: 0.8232 - val_precision: 0.7843 - val_recall: 0.7812\n",
            "Epoch 57/80\n",
            "177/177 [==============================] - ETA: 0s - loss: 0.3219 - binary_accuracy: 0.8692 - precision: 0.8674 - recall: 0.8042 val_f1_score:0.7881188082730065\n",
            "177/177 [==============================] - 26s 145ms/step - loss: 0.3219 - binary_accuracy: 0.8692 - precision: 0.8674 - recall: 0.8042 - val_loss: 0.4350 - val_binary_accuracy: 0.8296 - val_precision: 0.7992 - val_recall: 0.7773\n",
            "Epoch 58/80\n",
            "177/177 [==============================] - ETA: 0s - loss: 0.3219 - binary_accuracy: 0.8690 - precision: 0.8647 - recall: 0.8072 val_f1_score:0.7865612666845176\n",
            "177/177 [==============================] - 25s 141ms/step - loss: 0.3219 - binary_accuracy: 0.8690 - precision: 0.8647 - recall: 0.8072 - val_loss: 0.4362 - val_binary_accuracy: 0.8280 - val_precision: 0.7960 - val_recall: 0.7773\n",
            "Epoch 59/80\n",
            "177/177 [==============================] - ETA: 0s - loss: 0.3249 - binary_accuracy: 0.8703 - precision: 0.8737 - recall: 0.7995 val_f1_score:0.7827788713734639\n",
            "177/177 [==============================] - 26s 146ms/step - loss: 0.3249 - binary_accuracy: 0.8703 - precision: 0.8737 - recall: 0.7995 - val_loss: 0.4394 - val_binary_accuracy: 0.8232 - val_precision: 0.7843 - val_recall: 0.7812\n",
            "Epoch 60/80\n",
            "177/177 [==============================] - ETA: 0s - loss: 0.3224 - binary_accuracy: 0.8698 - precision: 0.8673 - recall: 0.8060 val_f1_score:0.788954646748881\n",
            "177/177 [==============================] - 25s 142ms/step - loss: 0.3224 - binary_accuracy: 0.8698 - precision: 0.8673 - recall: 0.8060 - val_loss: 0.4393 - val_binary_accuracy: 0.8296 - val_precision: 0.7968 - val_recall: 0.7812\n",
            "Epoch 61/80\n",
            "177/177 [==============================] - ETA: 0s - loss: 0.3185 - binary_accuracy: 0.8689 - precision: 0.8666 - recall: 0.8042 val_f1_score:0.788954646748881\n",
            "177/177 [==============================] - 25s 140ms/step - loss: 0.3185 - binary_accuracy: 0.8689 - precision: 0.8666 - recall: 0.8042 - val_loss: 0.4403 - val_binary_accuracy: 0.8296 - val_precision: 0.7968 - val_recall: 0.7812\n",
            "Epoch 62/80\n",
            "177/177 [==============================] - ETA: 0s - loss: 0.3199 - binary_accuracy: 0.8708 - precision: 0.8663 - recall: 0.8103 val_f1_score:0.7808765012387902\n",
            "177/177 [==============================] - 25s 141ms/step - loss: 0.3199 - binary_accuracy: 0.8708 - precision: 0.8663 - recall: 0.8103 - val_loss: 0.4385 - val_binary_accuracy: 0.8248 - val_precision: 0.7967 - val_recall: 0.7656\n",
            "Epoch 63/80\n",
            "177/177 [==============================] - ETA: 0s - loss: 0.3188 - binary_accuracy: 0.8683 - precision: 0.8675 - recall: 0.8016 val_f1_score:0.788954646748881\n",
            "177/177 [==============================] - 26s 144ms/step - loss: 0.3188 - binary_accuracy: 0.8683 - precision: 0.8675 - recall: 0.8016 - val_loss: 0.4411 - val_binary_accuracy: 0.8296 - val_precision: 0.7968 - val_recall: 0.7812\n",
            "Epoch 64/80\n",
            "177/177 [==============================] - ETA: 0s - loss: 0.3185 - binary_accuracy: 0.8722 - precision: 0.8730 - recall: 0.8060 val_f1_score:0.7881188082730065\n",
            "177/177 [==============================] - 27s 151ms/step - loss: 0.3185 - binary_accuracy: 0.8722 - precision: 0.8730 - recall: 0.8060 - val_loss: 0.4402 - val_binary_accuracy: 0.8296 - val_precision: 0.7992 - val_recall: 0.7773\n",
            "Epoch 65/80\n",
            "177/177 [==============================] - ETA: 0s - loss: 0.3178 - binary_accuracy: 0.8712 - precision: 0.8712 - recall: 0.8051 val_f1_score:0.7815631255544871\n",
            "177/177 [==============================] - 27s 152ms/step - loss: 0.3178 - binary_accuracy: 0.8712 - precision: 0.8712 - recall: 0.8051 - val_loss: 0.4397 - val_binary_accuracy: 0.8264 - val_precision: 0.8025 - val_recall: 0.7617\n",
            "Epoch 66/80\n",
            "177/177 [==============================] - ETA: 0s - loss: 0.3134 - binary_accuracy: 0.8786 - precision: 0.8835 - recall: 0.8111 val_f1_score:0.7881188082730065\n",
            "177/177 [==============================] - 27s 151ms/step - loss: 0.3134 - binary_accuracy: 0.8786 - precision: 0.8835 - recall: 0.8111 - val_loss: 0.4420 - val_binary_accuracy: 0.8296 - val_precision: 0.7992 - val_recall: 0.7773\n",
            "Epoch 67/80\n",
            "177/177 [==============================] - ETA: 0s - loss: 0.3122 - binary_accuracy: 0.8737 - precision: 0.8734 - recall: 0.8094 val_f1_score:0.788954646748881\n",
            "177/177 [==============================] - 26s 146ms/step - loss: 0.3122 - binary_accuracy: 0.8737 - precision: 0.8734 - recall: 0.8094 - val_loss: 0.4436 - val_binary_accuracy: 0.8296 - val_precision: 0.7968 - val_recall: 0.7812\n",
            "Epoch 68/80\n",
            "177/177 [==============================] - ETA: 0s - loss: 0.3076 - binary_accuracy: 0.8775 - precision: 0.8825 - recall: 0.8094 val_f1_score:0.788954646748881\n",
            "177/177 [==============================] - 26s 146ms/step - loss: 0.3076 - binary_accuracy: 0.8775 - precision: 0.8825 - recall: 0.8094 - val_loss: 0.4437 - val_binary_accuracy: 0.8296 - val_precision: 0.7968 - val_recall: 0.7812\n",
            "Epoch 69/80\n",
            "177/177 [==============================] - ETA: 0s - loss: 0.3111 - binary_accuracy: 0.8738 - precision: 0.8756 - recall: 0.8072 val_f1_score:0.787401580856371\n",
            "177/177 [==============================] - 27s 150ms/step - loss: 0.3111 - binary_accuracy: 0.8738 - precision: 0.8756 - recall: 0.8072 - val_loss: 0.4445 - val_binary_accuracy: 0.8280 - val_precision: 0.7937 - val_recall: 0.7812\n",
            "Epoch 70/80\n",
            "177/177 [==============================] - ETA: 0s - loss: 0.3111 - binary_accuracy: 0.8813 - precision: 0.8865 - recall: 0.8150 val_f1_score:0.787401580856371\n",
            "177/177 [==============================] - 27s 152ms/step - loss: 0.3111 - binary_accuracy: 0.8813 - precision: 0.8865 - recall: 0.8150 - val_loss: 0.4458 - val_binary_accuracy: 0.8280 - val_precision: 0.7937 - val_recall: 0.7812\n",
            "Epoch 71/80\n",
            "177/177 [==============================] - ETA: 0s - loss: 0.3123 - binary_accuracy: 0.8737 - precision: 0.8759 - recall: 0.8064 val_f1_score:0.7833001864710833\n",
            "177/177 [==============================] - 26s 147ms/step - loss: 0.3123 - binary_accuracy: 0.8737 - precision: 0.8759 - recall: 0.8064 - val_loss: 0.4441 - val_binary_accuracy: 0.8264 - val_precision: 0.7976 - val_recall: 0.7695\n",
            "Epoch 72/80\n",
            "177/177 [==============================] - ETA: 0s - loss: 0.3174 - binary_accuracy: 0.8728 - precision: 0.8721 - recall: 0.8085 val_f1_score:0.7881188082730065\n",
            "177/177 [==============================] - 27s 153ms/step - loss: 0.3174 - binary_accuracy: 0.8728 - precision: 0.8721 - recall: 0.8085 - val_loss: 0.4458 - val_binary_accuracy: 0.8296 - val_precision: 0.7992 - val_recall: 0.7773\n",
            "Epoch 73/80\n",
            "177/177 [==============================] - ETA: 0s - loss: 0.3045 - binary_accuracy: 0.8756 - precision: 0.8790 - recall: 0.8081 val_f1_score:0.787401580856371\n",
            "177/177 [==============================] - 26s 145ms/step - loss: 0.3045 - binary_accuracy: 0.8756 - precision: 0.8790 - recall: 0.8081 - val_loss: 0.4471 - val_binary_accuracy: 0.8280 - val_precision: 0.7937 - val_recall: 0.7812\n",
            "Epoch 74/80\n",
            "177/177 [==============================] - ETA: 0s - loss: 0.3068 - binary_accuracy: 0.8798 - precision: 0.8821 - recall: 0.8163 val_f1_score:0.788954646748881\n",
            "177/177 [==============================] - 26s 146ms/step - loss: 0.3068 - binary_accuracy: 0.8798 - precision: 0.8821 - recall: 0.8163 - val_loss: 0.4472 - val_binary_accuracy: 0.8296 - val_precision: 0.7968 - val_recall: 0.7812\n",
            "Epoch 75/80\n",
            "177/177 [==============================] - ETA: 0s - loss: 0.3048 - binary_accuracy: 0.8775 - precision: 0.8821 - recall: 0.8098 val_f1_score:0.788954646748881\n",
            "177/177 [==============================] - 26s 147ms/step - loss: 0.3048 - binary_accuracy: 0.8775 - precision: 0.8821 - recall: 0.8098 - val_loss: 0.4478 - val_binary_accuracy: 0.8296 - val_precision: 0.7968 - val_recall: 0.7812\n",
            "Epoch 76/80\n",
            "177/177 [==============================] - ETA: 0s - loss: 0.3120 - binary_accuracy: 0.8763 - precision: 0.8750 - recall: 0.8150 val_f1_score:0.7865612666845176\n",
            "177/177 [==============================] - 26s 148ms/step - loss: 0.3120 - binary_accuracy: 0.8763 - precision: 0.8750 - recall: 0.8150 - val_loss: 0.4474 - val_binary_accuracy: 0.8280 - val_precision: 0.7960 - val_recall: 0.7773\n",
            "Epoch 77/80\n",
            "177/177 [==============================] - ETA: 0s - loss: 0.3134 - binary_accuracy: 0.8788 - precision: 0.8800 - recall: 0.8159 val_f1_score:0.7865612666845176\n",
            "177/177 [==============================] - 26s 148ms/step - loss: 0.3134 - binary_accuracy: 0.8788 - precision: 0.8800 - recall: 0.8159 - val_loss: 0.4477 - val_binary_accuracy: 0.8280 - val_precision: 0.7960 - val_recall: 0.7773\n",
            "Epoch 78/80\n",
            "177/177 [==============================] - ETA: 0s - loss: 0.3093 - binary_accuracy: 0.8749 - precision: 0.8766 - recall: 0.8090 val_f1_score:0.7865612666845176\n",
            "177/177 [==============================] - 25s 142ms/step - loss: 0.3093 - binary_accuracy: 0.8749 - precision: 0.8766 - recall: 0.8090 - val_loss: 0.4482 - val_binary_accuracy: 0.8280 - val_precision: 0.7960 - val_recall: 0.7773\n",
            "Epoch 79/80\n",
            "177/177 [==============================] - ETA: 0s - loss: 0.3104 - binary_accuracy: 0.8756 - precision: 0.8734 - recall: 0.8150 val_f1_score:0.7865612666845176\n",
            "177/177 [==============================] - 27s 153ms/step - loss: 0.3104 - binary_accuracy: 0.8756 - precision: 0.8734 - recall: 0.8150 - val_loss: 0.4481 - val_binary_accuracy: 0.8280 - val_precision: 0.7960 - val_recall: 0.7773\n",
            "Epoch 80/80\n",
            "177/177 [==============================] - ETA: 0s - loss: 0.3134 - binary_accuracy: 0.8698 - precision: 0.8680 - recall: 0.8051 val_f1_score:0.7865612666845176\n",
            "177/177 [==============================] - 27s 152ms/step - loss: 0.3134 - binary_accuracy: 0.8698 - precision: 0.8680 - recall: 0.8051 - val_loss: 0.4480 - val_binary_accuracy: 0.8280 - val_precision: 0.7960 - val_recall: 0.7773\n"
          ]
        }
      ]
    },
    {
      "cell_type": "code",
      "source": [
        "# summarize history for accuracy\n",
        "plt.plot(history.history['binary_accuracy'])\n",
        "plt.plot(history.history['val_binary_accuracy'])\n",
        "plt.title('model accuracy')\n",
        "plt.ylabel('binary_accuracy')\n",
        "plt.xlabel('epoch')\n",
        "plt.legend(['train', 'test'], loc='upper left')\n",
        "plt.show()"
      ],
      "metadata": {
        "colab": {
          "base_uri": "https://localhost:8080/",
          "height": 472
        },
        "id": "jM7y1eBAhQYF",
        "outputId": "6c1b31dc-3055-498f-879f-15149c650f8c"
      },
      "execution_count": 26,
      "outputs": [
        {
          "output_type": "display_data",
          "data": {
            "text/plain": [
              "<Figure size 640x480 with 1 Axes>"
            ],
            "image/png": "[encoded data removed]"
          },
          "metadata": {}
        }
      ]
    },
    {
      "cell_type": "code",
      "source": [
        "# summarize history for loss\n",
        "plt.plot(history.history['loss'])\n",
        "plt.plot(history.history['val_loss'])\n",
        "plt.title('model loss')\n",
        "plt.ylabel('loss')\n",
        "plt.xlabel('epoch')\n",
        "plt.legend(['train', 'test'], loc='upper left')\n",
        "plt.show()"
      ],
      "metadata": {
        "colab": {
          "base_uri": "https://localhost:8080/",
          "height": 472
        },
        "id": "1Xpv59l-hVdP",
        "outputId": "a0434c19-fc28-40e5-f083-b713902027fa"
      },
      "execution_count": 27,
      "outputs": [
        {
          "output_type": "display_data",
          "data": {
            "text/plain": [
              "<Figure size 640x480 with 1 Axes>"
            ],
            "image/png": "[encoded data removed]"
          },
          "metadata": {}
        }
      ]
    },
    {
      "cell_type": "markdown",
      "source": [
        "## 3. Evaluation"
      ],
      "metadata": {
        "id": "HzpPwaaZKw54"
      }
    },
    {
      "cell_type": "code",
      "source": [
        "classifier_model_v1.load_weights(\"model_weights.index\")"
      ],
      "metadata": {
        "id": "CGw3HrHj7uWc"
      },
      "execution_count": null,
      "outputs": []
    },
    {
      "cell_type": "code",
      "source": [
        "y_train_pred = classifier_model_v1.predict(X_train)\n",
        "y_valid_pred = classifier_model_v1.predict(X_valid)\n",
        "y_test_pred = classifier_model_v1.predict(X_test)"
      ],
      "metadata": {
        "colab": {
          "base_uri": "https://localhost:8080/"
        },
        "id": "ToY_Hl3j58-h",
        "outputId": "0bc1bf03-6065-4471-9223-6a4e76c8c1c5"
      },
      "execution_count": 36,
      "outputs": [
        {
          "output_type": "stream",
          "name": "stdout",
          "text": [
            "177/177 [==============================] - 14s 81ms/step\n",
            "20/20 [==============================] - 1s 67ms/step\n",
            "22/22 [==============================] - 1s 67ms/step\n"
          ]
        }
      ]
    },
    {
      "cell_type": "code",
      "source": [
        "y_train_pred = np.where(y_train_pred>.5,1,0)\n",
        "y_valid_pred = np.where(y_valid_pred>.5,1,0)\n",
        "y_test_pred = np.where(y_test_pred>.5,1,0)"
      ],
      "metadata": {
        "id": "e0gBPYCtN763"
      },
      "execution_count": 37,
      "outputs": []
    },
    {
      "cell_type": "code",
      "source": [
        "#train metrics\n",
        "print(f1_score(y_train,y_train_pred))\n",
        "print(accuracy_score(y_train,y_train_pred))"
      ],
      "metadata": {
        "id": "g7jmNA4BCIyw",
        "colab": {
          "base_uri": "https://localhost:8080/"
        },
        "outputId": "29c27137-1e5a-4b4d-bc02-674bc3be0d63"
      },
      "execution_count": 47,
      "outputs": [
        {
          "output_type": "stream",
          "name": "stdout",
          "text": [
            "0.8766146993318487\n",
            "0.901964254114316\n"
          ]
        }
      ]
    },
    {
      "cell_type": "code",
      "source": [
        "#validation metrics\n",
        "print(f1_score(y_valid,y_valid_pred))\n",
        "print(accuracy_score(y_valid,y_valid_pred))"
      ],
      "metadata": {
        "colab": {
          "base_uri": "https://localhost:8080/"
        },
        "id": "agT0LLovDEa0",
        "outputId": "c44f6dee-32e6-4b48-f99b-24c92ce94172"
      },
      "execution_count": 44,
      "outputs": [
        {
          "output_type": "stream",
          "name": "stdout",
          "text": [
            "0.7865612648221344\n",
            "0.8280254777070064\n"
          ]
        }
      ]
    },
    {
      "cell_type": "code",
      "source": [
        "#test metrics\n",
        "print(f1_score(y_test,y_test_pred))\n",
        "print(accuracy_score(y_test,y_test_pred))"
      ],
      "metadata": {
        "colab": {
          "base_uri": "https://localhost:8080/"
        },
        "id": "Wx4pD5oF1Lgw",
        "outputId": "04e36d15-ad6c-4eba-efb6-d09ae619e5ed"
      },
      "execution_count": 43,
      "outputs": [
        {
          "output_type": "stream",
          "name": "stdout",
          "text": [
            "0.7522281639928698\n",
            "0.8008595988538681\n"
          ]
        }
      ]
    },
    {
      "cell_type": "code",
      "source": [],
      "metadata": {
        "id": "fZKXJVIN8tDR"
      },
      "execution_count": null,
      "outputs": []
    }
  ]
}